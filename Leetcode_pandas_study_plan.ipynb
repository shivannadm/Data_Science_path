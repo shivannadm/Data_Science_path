{
  "nbformat": 4,
  "nbformat_minor": 0,
  "metadata": {
    "colab": {
      "provenance": [],
      "authorship_tag": "ABX9TyNHsV5R55+QlcisPIfNa9Er",
      "include_colab_link": true
    },
    "kernelspec": {
      "name": "python3",
      "display_name": "Python 3"
    },
    "language_info": {
      "name": "python"
    }
  },
  "cells": [
    {
      "cell_type": "markdown",
      "metadata": {
        "id": "view-in-github",
        "colab_type": "text"
      },
      "source": [
        "<a href=\"https://colab.research.google.com/github/shivannadm/Data_Science_path/blob/main/Leetcode_pandas_study_plan.ipynb\" target=\"_parent\"><img src=\"https://colab.research.google.com/assets/colab-badge.svg\" alt=\"Open In Colab\"/></a>"
      ]
    },
    {
      "cell_type": "markdown",
      "source": [
        "# LeetCode pandas solutions"
      ],
      "metadata": {
        "id": "lMF6TjGFnHa0"
      }
    },
    {
      "cell_type": "markdown",
      "source": [
        "**2877. Create a DataFrame from List**\n",
        "\n",
        "Write a solution to create a DataFrame from a 2D list called student_data. This 2D list contains the IDs and ages of some students.\n",
        "The DataFrame should have two columns, student_id and age, and be in the same order as the original 2D list.\n",
        "<pre>\n",
        "The result format is in the following example.\n",
        "\n",
        "Example 1:\n",
        "Input:\n",
        "student_data:\n",
        "[\n",
        "  [1, 15],\n",
        "  [2, 11],\n",
        "  [3, 11],\n",
        "  [4, 20]\n",
        "]\n",
        "Output:\n",
        "+------------+-----+\n",
        "| student_id | age |\n",
        "+------------+-----+\n",
        "| 1          | 15  |\n",
        "| 2          | 11  |\n",
        "| 3          | 11  |\n",
        "| 4          | 20  |\n",
        "+------------+-----+\n",
        "Explanation:\n",
        "A DataFrame was created on top of student_data, with two columns named student_id and age.\n",
        "\n",
        "Code:\n",
        "import pandas as pd\n",
        "\n",
        "def createDataframe(student_data: List[List[int]]) -> pd.DataFrame:\n",
        "    return pd.DataFrame(student_data,columns=[\"student_id\",\"age\"])\n",
        "</pre>"
      ],
      "metadata": {
        "id": "cVbsaDzOoehM"
      }
    },
    {
      "cell_type": "code",
      "source": [
        "# Try Here\n"
      ],
      "metadata": {
        "id": "e9ZtFoEQGljZ"
      },
      "execution_count": null,
      "outputs": []
    },
    {
      "cell_type": "markdown",
      "source": [
        "**2878. Get the Size of a DataFrame**\n",
        "\n",
        "DataFrame players:<pre>\n",
        "+-------------+--------+\n",
        "| Column Name | Type   |\n",
        "+-------------+--------+\n",
        "| player_id   | int    |\n",
        "| name        | object |\n",
        "| age         | int    |\n",
        "| position    | object |\n",
        "| ...         | ...    |\n",
        "+-------------+--------+\n",
        "</pre>\n",
        "Write a solution to calculate and display the number of rows and columns of players.\n",
        "\n",
        "Return the result as an array:\n",
        "\n",
        "[number of rows, number of columns]\n",
        "\n",
        "The result format is in the following example.\n",
        "\n",
        "\n",
        "<pre>\n",
        "Example 1:\n",
        "\n",
        "Input:\n",
        "+-----------+----------+-----+-------------+--------------------+\n",
        "| player_id | name     | age | position    | team               |\n",
        "+-----------+----------+-----+-------------+--------------------+\n",
        "| 846       | Mason    | 21  | Forward     | RealMadrid         |\n",
        "| 749       | Riley    | 30  | Winger      | Barcelona          |\n",
        "| 155       | Bob      | 28  | Striker     | ManchesterUnited   |\n",
        "| 583       | Isabella | 32  | Goalkeeper  | Liverpool          |\n",
        "| 388       | Zachary  | 24  | Midfielder  | BayernMunich       |\n",
        "| 883       | Ava      | 23  | Defender    | Chelsea            |\n",
        "| 355       | Violet   | 18  | Striker     | Juventus           |\n",
        "| 247       | Thomas   | 27  | Striker     | ParisSaint-Germain |\n",
        "| 761       | Jack     | 33  | Midfielder  | ManchesterCity     |\n",
        "| 642       | Charlie  | 36  | Center-back | Arsenal            |\n",
        "+-----------+----------+-----+-------------+--------------------+</pre>\n",
        "Output:\n",
        "[10, 5]\n",
        "Explanation:\n",
        "This DataFrame contains 10 rows and 5 columns.\n",
        "\n",
        "Solution Code:<pre>\n",
        "import pandas as pd\n",
        "\n",
        "def getDataframeSize(players: pd.DataFrame) -> List[int]:\n",
        "    return list(players.shape)"
      ],
      "metadata": {
        "id": "poV6DG5ZFIro"
      }
    },
    {
      "cell_type": "code",
      "source": [
        "# Try Here\n"
      ],
      "metadata": {
        "id": "Q9LyYLPFGrPH"
      },
      "execution_count": null,
      "outputs": []
    },
    {
      "cell_type": "markdown",
      "source": [
        "**2879. Display the First Three Rows**\n",
        "\n",
        "DataFrame: employees<pre>\n",
        "+-------------+--------+\n",
        "| Column Name | Type   |\n",
        "+-------------+--------+\n",
        "| employee_id | int    |\n",
        "| name        | object |\n",
        "| department  | object |\n",
        "| salary      | int    |\n",
        "+-------------+--------+</pre>\n",
        "Write a solution to display the first 3 rows of this DataFrame.\n",
        "\n",
        "\n",
        "\n",
        "Example 1:\n",
        "\n",
        "Input:\n",
        "DataFrame employees<pre>\n",
        "+-------------+-----------+-----------------------+--------+\n",
        "| employee_id | name      | department            | salary |\n",
        "+-------------+-----------+-----------------------+--------+\n",
        "| 3           | Bob       | Operations            | 48675  |\n",
        "| 90          | Alice     | Sales                 | 11096  |\n",
        "| 9           | Tatiana   | Engineering           | 33805  |\n",
        "| 60          | Annabelle | InformationTechnology | 37678  |\n",
        "| 49          | Jonathan  | HumanResources        | 23793  |\n",
        "| 43          | Khaled    | Administration        | 40454  |\n",
        "+-------------+-----------+-----------------------+--------+\n",
        "Output:\n",
        "+-------------+---------+-------------+--------+\n",
        "| employee_id | name    | department  | salary |\n",
        "+-------------+---------+-------------+--------+\n",
        "| 3           | Bob     | Operations  | 48675  |\n",
        "| 90          | Alice   | Sales       | 11096  |\n",
        "| 9           | Tatiana | Engineering | 33805  |\n",
        "+-------------+---------+-------------+--------+</pre>\n",
        "Explanation:\n",
        "Only the first 3 rows are displayed.\n",
        "\n",
        "<pre>\n",
        "Code:\n",
        "import pandas as pd\n",
        "\n",
        "def selectFirstRows(employees: pd.DataFrame) -> pd.DataFrame:\n",
        "    df = employees.head(3)\n",
        "    return df\n",
        "\n",
        "</pre>"
      ],
      "metadata": {
        "id": "qEvMrP__M_1f"
      }
    },
    {
      "cell_type": "code",
      "source": [
        "# try here\n"
      ],
      "metadata": {
        "id": "f8isUoruNMpu"
      },
      "execution_count": null,
      "outputs": []
    },
    {
      "cell_type": "markdown",
      "source": [
        "**2880. Select Data**\n",
        "\n",
        "DataFrame students<pre>\n",
        "+-------------+--------+\n",
        "| Column Name | Type   |\n",
        "+-------------+--------+\n",
        "| student_id  | int    |\n",
        "| name        | object |\n",
        "| age         | int    |\n",
        "+-------------+--------+\n",
        "</pre>\n",
        "Write a solution to select the name and age of the student with student_id = 101.\n",
        "\n",
        "The result format is in the following example.\n",
        "\n",
        "\n",
        "\n",
        "Example 1:\n",
        "Input:<pre>\n",
        "+------------+---------+-----+\n",
        "| student_id | name    | age |\n",
        "+------------+---------+-----+\n",
        "| 101        | Ulysses | 13  |\n",
        "| 53         | William | 10  |\n",
        "| 128        | Henry   | 6   |\n",
        "| 3          | Henry   | 11  |\n",
        "+------------+---------+-----+\n",
        "Output:\n",
        "+---------+-----+\n",
        "| name    | age |\n",
        "+---------+-----+\n",
        "| Ulysses | 13  |\n",
        "+---------+-----+</pre>\n",
        "Explanation:\n",
        "Student Ulysses has student_id = 101, we select the name and age.\n",
        "<pre>\n",
        "Code:\n",
        "import pandas as pd\n",
        "\n",
        "def selectData(students: pd.DataFrame) -> pd.DataFrame:\n",
        "    \n",
        "    return  students[students['student_id']==101][['name','age']]\n",
        "    </pre>\n"
      ],
      "metadata": {
        "id": "z4bnnKzlG_oq"
      }
    },
    {
      "cell_type": "code",
      "source": [
        "# Try Here\n"
      ],
      "metadata": {
        "id": "990sHQpuHmrw"
      },
      "execution_count": null,
      "outputs": []
    },
    {
      "cell_type": "markdown",
      "source": [
        "**2881. Create a New Column**\n",
        "\n",
        "DataFrame employees<pre>\n",
        "+-------------+--------+\n",
        "| Column Name | Type.  |\n",
        "+-------------+--------+\n",
        "| name        | object |\n",
        "| salary      | int.   |\n",
        "+-------------+--------+</pre>\n",
        "A company plans to provide its employees with a bonus.\n",
        "\n",
        "Write a solution to create a new column name bonus that contains the doubled values of the salary column.\n",
        "\n",
        "The result format is in the following example.\n",
        "\n",
        "\n",
        "\n",
        "Example 1:\n",
        "\n",
        "Input:\n",
        "DataFrame employees<pre>\n",
        "+---------+--------+\n",
        "| name    | salary |\n",
        "+---------+--------+\n",
        "| Piper   | 4548   |\n",
        "| Grace   | 28150  |\n",
        "| Georgia | 1103   |\n",
        "| Willow  | 6593   |\n",
        "| Finn    | 74576  |\n",
        "| Thomas  | 24433  |\n",
        "+---------+--------+\n",
        "Output:\n",
        "+---------+--------+--------+\n",
        "| name    | salary | bonus  |\n",
        "+---------+--------+--------+\n",
        "| Piper   | 4548   | 9096   |\n",
        "| Grace   | 28150  | 56300  |\n",
        "| Georgia | 1103   | 2206   |\n",
        "| Willow  | 6593   | 13186  |\n",
        "| Finn    | 74576  | 149152 |\n",
        "| Thomas  | 24433  | 48866  |\n",
        "+---------+--------+--------+</pre>\n",
        "Explanation:\n",
        "A new column bonus is created by doubling the value in the column salary.\n",
        "\n",
        "<pre>\n",
        "Code:\n",
        "import pandas as pd\n",
        "\n",
        "def createBonusColumn(employees: pd.DataFrame) -> pd.DataFrame:\n",
        "    employees[\"bonus\"]=employees[\"salary\"].apply(lambda x:x*2)\n",
        "    return employees\n",
        "</pre>"
      ],
      "metadata": {
        "id": "mJ6Y_-OoIrcR"
      }
    },
    {
      "cell_type": "code",
      "source": [
        "# Try Here\n"
      ],
      "metadata": {
        "id": "-ZNiownSJRwe"
      },
      "execution_count": null,
      "outputs": []
    },
    {
      "cell_type": "markdown",
      "source": [
        "**2882. Drop Duplicate Rows**\n",
        "\n",
        "DataFrame customers<pre>\n",
        "+-------------+--------+\n",
        "| Column Name | Type   |\n",
        "+-------------+--------+\n",
        "| customer_id | int    |\n",
        "| name        | object |\n",
        "| email       | object |\n",
        "+-------------+--------+</pre>\n",
        "There are some duplicate rows in the DataFrame based on the email column.\n",
        "\n",
        "Write a solution to remove these duplicate rows and keep only the first occurrence.\n",
        "\n",
        "The result format is in the following example.\n",
        "\n",
        "\n",
        "\n",
        "Example 1:\n",
        "Input:<pre>\n",
        "+-------------+---------+---------------------+\n",
        "| customer_id | name    | email               |\n",
        "+-------------+---------+---------------------+\n",
        "| 1           | Ella    | emily@example.com   |\n",
        "| 2           | David   | michael@example.com |\n",
        "| 3           | Zachary | sarah@example.com   |\n",
        "| 4           | Alice   | john@example.com    |\n",
        "| 5           | Finn    | john@example.com    |\n",
        "| 6           | Violet  | alice@example.com   |\n",
        "+-------------+---------+---------------------+\n",
        "Output:  \n",
        "+-------------+---------+---------------------+\n",
        "| customer_id | name    | email               |\n",
        "+-------------+---------+---------------------+\n",
        "| 1           | Ella    | emily@example.com   |\n",
        "| 2           | David   | michael@example.com |\n",
        "| 3           | Zachary | sarah@example.com   |\n",
        "| 4           | Alice   | john@example.com    |\n",
        "| 6           | Violet  | alice@example.com   |\n",
        "+-------------+---------+---------------------+</pre>\n",
        "Explanation:\n",
        "Alic (customer_id = 4) and Finn (customer_id = 5) both use john@example.com, so only the first occurrence of this email is retained.\n",
        "<pre>\n",
        "Code:\n",
        "\n",
        "import pandas as pd\n",
        "\n",
        "def dropDuplicateEmails(customers: pd.DataFrame) -> pd.DataFrame:\n",
        "    return customers.drop_duplicates(\"email\")\n",
        "</pre>"
      ],
      "metadata": {
        "id": "6LDa7Sx6Kcz0"
      }
    },
    {
      "cell_type": "code",
      "source": [
        "# Tyr here\n"
      ],
      "metadata": {
        "id": "2gtmTU3xK5Qj"
      },
      "execution_count": null,
      "outputs": []
    },
    {
      "cell_type": "markdown",
      "source": [
        "**2883. Drop Missing Data**\n",
        "\n",
        "DataFrame students<pre>\n",
        "+-------------+--------+\n",
        "| Column Name | Type   |\n",
        "+-------------+--------+\n",
        "| student_id  | int    |\n",
        "| name        | object |\n",
        "| age         | int    |\n",
        "+-------------+--------+</pre>\n",
        "There are some rows having missing values in the name column.\n",
        "\n",
        "Write a solution to remove the rows with missing values.\n",
        "\n",
        "The result format is in the following example.\n",
        "\n",
        "\n",
        "\n",
        "Example 1:\n",
        "\n",
        "Input:<pre>\n",
        "+------------+---------+-----+\n",
        "| student_id | name    | age |\n",
        "+------------+---------+-----+\n",
        "| 32         | Piper   | 5   |\n",
        "| 217        | None    | 19  |\n",
        "| 779        | Georgia | 20  |\n",
        "| 849        | Willow  | 14  |\n",
        "+------------+---------+-----+\n",
        "Output:\n",
        "+------------+---------+-----+\n",
        "| student_id | name    | age |\n",
        "+------------+---------+-----+\n",
        "| 32         | Piper   | 5   |\n",
        "| 779        | Georgia | 20  |\n",
        "| 849        | Willow  | 14  |\n",
        "+------------+---------+-----+</pre>\n",
        "Explanation:\n",
        "Student with id 217 havs empty value in the name column, so it will be removed.\n",
        "\n",
        "<pre>\n",
        "Code:\n",
        "import pandas as pd\n",
        "\n",
        "def dropMissingData(students: pd.DataFrame) -> pd.DataFrame:\n",
        "    return students.dropna(axis=0,subset=\"name\")\n",
        "</pre>"
      ],
      "metadata": {
        "id": "hdj-5UlhLGCW"
      }
    },
    {
      "cell_type": "code",
      "source": [
        "# Try here\n"
      ],
      "metadata": {
        "id": "DCpNmaGuLYju"
      },
      "execution_count": null,
      "outputs": []
    },
    {
      "cell_type": "markdown",
      "source": [
        "**2884. Modify Columns**\n",
        "\n",
        "DataFrame employees<pre>\n",
        "+-------------+--------+\n",
        "| Column Name | Type   |\n",
        "+-------------+--------+\n",
        "| name        | object |\n",
        "| salary      | int    |\n",
        "+-------------+--------+</pre>\n",
        "A company intends to give its employees a pay rise.\n",
        "\n",
        "Write a solution to modify the salary column by multiplying each salary by 2.\n",
        "\n",
        "The result format is in the following example.\n",
        "\n",
        "\n",
        "\n",
        "Example 1:\n",
        "\n",
        "Input:\n",
        "DataFrame employees<pre>\n",
        "+---------+--------+\n",
        "| name    | salary |\n",
        "+---------+--------+\n",
        "| Jack    | 19666  |\n",
        "| Piper   | 74754  |\n",
        "| Mia     | 62509  |\n",
        "| Ulysses | 54866  |\n",
        "+---------+--------+\n",
        "Output:\n",
        "+---------+--------+\n",
        "| name    | salary |\n",
        "+---------+--------+\n",
        "| Jack    | 39332  |\n",
        "| Piper   | 149508 |\n",
        "| Mia     | 125018 |\n",
        "| Ulysses | 109732 |\n",
        "+---------+--------+</pre>\n",
        "Explanation:\n",
        "Every salary has been doubled.\n",
        "<pre>\n",
        "Code:\n",
        "\n",
        "import pandas as pd\n",
        "\n",
        "def modifySalaryColumn(employees: pd.DataFrame) -> pd.DataFrame:\n",
        "    employees['salary'] = employees['salary']*2\n",
        "    return employees\n",
        "</pre>\n"
      ],
      "metadata": {
        "id": "x6QnE-VGLdZ9"
      }
    },
    {
      "cell_type": "code",
      "source": [
        "# Try Here\n"
      ],
      "metadata": {
        "id": "4nTKvjXCL0UF"
      },
      "execution_count": null,
      "outputs": []
    },
    {
      "cell_type": "markdown",
      "source": [
        "**2885. Rename Columns**\n",
        "\n",
        "DataFrame students<pre>\n",
        "+-------------+--------+\n",
        "| Column Name | Type   |\n",
        "+-------------+--------+\n",
        "| id          | int    |\n",
        "| first       | object |\n",
        "| last        | object |\n",
        "| age         | int    |\n",
        "+-------------+--------+</pre>\n",
        "Write a solution to rename the columns as follows:\n",
        "\n",
        "id to student_id\n",
        "first to first_name\n",
        "last to last_name\n",
        "age to age_in_years\n",
        "The result format is in the following example.\n",
        "\n",
        "\n",
        "\n",
        "Example 1:\n",
        "Input:<pre>\n",
        "+----+---------+----------+-----+\n",
        "| id | first   | last     | age |\n",
        "+----+---------+----------+-----+\n",
        "| 1  | Mason   | King     | 6   |\n",
        "| 2  | Ava     | Wright   | 7   |\n",
        "| 3  | Taylor  | Hall     | 16  |\n",
        "| 4  | Georgia | Thompson | 18  |\n",
        "| 5  | Thomas  | Moore    | 10  |\n",
        "+----+---------+----------+-----+\n",
        "Output:\n",
        "+------------+------------+-----------+--------------+\n",
        "| student_id | first_name | last_name | age_in_years |\n",
        "+------------+------------+-----------+--------------+\n",
        "| 1          | Mason      | King      | 6            |\n",
        "| 2          | Ava        | Wright    | 7            |\n",
        "| 3          | Taylor     | Hall      | 16           |\n",
        "| 4          | Georgia    | Thompson  | 18           |\n",
        "| 5          | Thomas     | Moore     | 10           |\n",
        "+------------+------------+-----------+--------------+</pre>\n",
        "Explanation:\n",
        "The column names are changed accordingly.\n",
        "<pre>\n",
        "Code:\n",
        "\n",
        "import pandas as pd\n",
        "\n",
        "def renameColumns(students: pd.DataFrame) -> pd.DataFrame:\n",
        "    students.rename(columns = {\"id\":\"student_id\",\"first\":\"first_name\",\"last\":\"last_name\",\"age\":\"age_in_years\"}, inplace = True)\n",
        "    return students\n",
        "</pre>"
      ],
      "metadata": {
        "id": "5lagRT97MEfv"
      }
    },
    {
      "cell_type": "code",
      "source": [
        "# Try here\n"
      ],
      "metadata": {
        "id": "U4Y5Z-EjMVCg"
      },
      "execution_count": null,
      "outputs": []
    },
    {
      "cell_type": "markdown",
      "source": [
        "**2886. Change Data Type**\n",
        "\n",
        "DataFrame students<pre>\n",
        "+-------------+--------+\n",
        "| Column Name | Type   |\n",
        "+-------------+--------+\n",
        "| student_id  | int    |\n",
        "| name        | object |\n",
        "| age         | int    |\n",
        "| grade       | float  |\n",
        "+-------------+--------+</pre>\n",
        "Write a solution to correct the errors:\n",
        "\n",
        "The grade column is stored as floats, convert it to integers.\n",
        "\n",
        "The result format is in the following example.\n",
        "\n",
        "\n",
        "\n",
        "Example 1:\n",
        "Input:\n",
        "DataFrame students:<pre>\n",
        "+------------+------+-----+-------+\n",
        "| student_id | name | age | grade |\n",
        "+------------+------+-----+-------+\n",
        "| 1          | Ava  | 6   | 73.0  |\n",
        "| 2          | Kate | 15  | 87.0  |\n",
        "+------------+------+-----+-------+\n",
        "Output:\n",
        "+------------+------+-----+-------+\n",
        "| student_id | name | age | grade |\n",
        "+------------+------+-----+-------+\n",
        "| 1          | Ava  | 6   | 73    |\n",
        "| 2          | Kate | 15  | 87    |\n",
        "+------------+------+-----+-------+</pre>\n",
        "Explanation:\n",
        "The data types of the column grade is converted to int.\n",
        "<pre>\n",
        "Code:\n",
        "\n",
        "import pandas as pd\n",
        "\n",
        "def changeDatatype(students: pd.DataFrame) -> pd.DataFrame:\n",
        "    students['grade'] = students['grade'].astype(int)\n",
        "    return students\n",
        "</pre>"
      ],
      "metadata": {
        "id": "3WW2hrjNMXJk"
      }
    },
    {
      "cell_type": "code",
      "source": [
        "# try here\n"
      ],
      "metadata": {
        "id": "d3dlYzt2MkI3"
      },
      "execution_count": null,
      "outputs": []
    }
  ]
}