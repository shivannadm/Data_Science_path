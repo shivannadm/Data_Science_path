{
  "nbformat": 4,
  "nbformat_minor": 0,
  "metadata": {
    "colab": {
      "provenance": [],
      "authorship_tag": "ABX9TyN5LezpmCo8MEJKFcLcpI+c",
      "include_colab_link": true
    },
    "kernelspec": {
      "name": "python3",
      "display_name": "Python 3"
    },
    "language_info": {
      "name": "python"
    }
  },
  "cells": [
    {
      "cell_type": "markdown",
      "metadata": {
        "id": "view-in-github",
        "colab_type": "text"
      },
      "source": [
        "<a href=\"https://colab.research.google.com/github/shivannadm/Data_Science_path/blob/main/Leetcode_pandas_study_plan.ipynb\" target=\"_parent\"><img src=\"https://colab.research.google.com/assets/colab-badge.svg\" alt=\"Open In Colab\"/></a>"
      ]
    },
    {
      "cell_type": "markdown",
      "source": [
        "# LeetCode pandas solutions"
      ],
      "metadata": {
        "id": "lMF6TjGFnHa0"
      }
    },
    {
      "cell_type": "markdown",
      "source": [
        "**2877. Create a DataFrame from List**\n",
        "\n",
        "Write a solution to create a DataFrame from a 2D list called student_data. This 2D list contains the IDs and ages of some students.\n",
        "The DataFrame should have two columns, student_id and age, and be in the same order as the original 2D list.\n",
        "<pre>\n",
        "The result format is in the following example.\n",
        "\n",
        "Example 1:\n",
        "Input:\n",
        "student_data:\n",
        "[\n",
        "  [1, 15],\n",
        "  [2, 11],\n",
        "  [3, 11],\n",
        "  [4, 20]\n",
        "]\n",
        "Output:\n",
        "+------------+-----+\n",
        "| student_id | age |\n",
        "+------------+-----+\n",
        "| 1          | 15  |\n",
        "| 2          | 11  |\n",
        "| 3          | 11  |\n",
        "| 4          | 20  |\n",
        "+------------+-----+\n",
        "Explanation:\n",
        "A DataFrame was created on top of student_data, with two columns named student_id and age.\n",
        "\n",
        "Code:\n",
        "import pandas as pd\n",
        "\n",
        "def createDataframe(student_data: List[List[int]]) -> pd.DataFrame:\n",
        "    return pd.DataFrame(student_data,columns=[\"student_id\",\"age\"])\n",
        "</pre>"
      ],
      "metadata": {
        "id": "cVbsaDzOoehM"
      }
    },
    {
      "cell_type": "code",
      "source": [
        "# Try Here"
      ],
      "metadata": {
        "id": "e9ZtFoEQGljZ"
      },
      "execution_count": null,
      "outputs": []
    },
    {
      "cell_type": "markdown",
      "source": [
        "**2878. Get the Size of a DataFrame**\n",
        "\n",
        "DataFrame players:<pre>\n",
        "+-------------+--------+\n",
        "| Column Name | Type   |\n",
        "+-------------+--------+\n",
        "| player_id   | int    |\n",
        "| name        | object |\n",
        "| age         | int    |\n",
        "| position    | object |\n",
        "| ...         | ...    |\n",
        "+-------------+--------+\n",
        "</pre>\n",
        "Write a solution to calculate and display the number of rows and columns of players.\n",
        "\n",
        "Return the result as an array:\n",
        "\n",
        "[number of rows, number of columns]\n",
        "\n",
        "The result format is in the following example.\n",
        "\n",
        "\n",
        "<pre>\n",
        "Example 1:\n",
        "\n",
        "Input:\n",
        "+-----------+----------+-----+-------------+--------------------+\n",
        "| player_id | name     | age | position    | team               |\n",
        "+-----------+----------+-----+-------------+--------------------+\n",
        "| 846       | Mason    | 21  | Forward     | RealMadrid         |\n",
        "| 749       | Riley    | 30  | Winger      | Barcelona          |\n",
        "| 155       | Bob      | 28  | Striker     | ManchesterUnited   |\n",
        "| 583       | Isabella | 32  | Goalkeeper  | Liverpool          |\n",
        "| 388       | Zachary  | 24  | Midfielder  | BayernMunich       |\n",
        "| 883       | Ava      | 23  | Defender    | Chelsea            |\n",
        "| 355       | Violet   | 18  | Striker     | Juventus           |\n",
        "| 247       | Thomas   | 27  | Striker     | ParisSaint-Germain |\n",
        "| 761       | Jack     | 33  | Midfielder  | ManchesterCity     |\n",
        "| 642       | Charlie  | 36  | Center-back | Arsenal            |\n",
        "+-----------+----------+-----+-------------+--------------------+</pre>\n",
        "Output:\n",
        "[10, 5]\n",
        "Explanation:\n",
        "This DataFrame contains 10 rows and 5 columns.\n",
        "\n",
        "Solution Code:<pre>\n",
        "import pandas as pd\n",
        "\n",
        "def getDataframeSize(players: pd.DataFrame) -> List[int]:\n",
        "    return list(players.shape)"
      ],
      "metadata": {
        "id": "poV6DG5ZFIro"
      }
    },
    {
      "cell_type": "code",
      "source": [
        "# Try Here"
      ],
      "metadata": {
        "id": "Q9LyYLPFGrPH"
      },
      "execution_count": null,
      "outputs": []
    },
    {
      "cell_type": "markdown",
      "source": [
        "**2880. Select Data**\n",
        "\n",
        "DataFrame students<pre>\n",
        "+-------------+--------+\n",
        "| Column Name | Type   |\n",
        "+-------------+--------+\n",
        "| student_id  | int    |\n",
        "| name        | object |\n",
        "| age         | int    |\n",
        "+-------------+--------+\n",
        "</pre>\n",
        "Write a solution to select the name and age of the student with student_id = 101.\n",
        "\n",
        "The result format is in the following example.\n",
        "\n",
        "\n",
        "\n",
        "Example 1:\n",
        "Input:<pre>\n",
        "+------------+---------+-----+\n",
        "| student_id | name    | age |\n",
        "+------------+---------+-----+\n",
        "| 101        | Ulysses | 13  |\n",
        "| 53         | William | 10  |\n",
        "| 128        | Henry   | 6   |\n",
        "| 3          | Henry   | 11  |\n",
        "+------------+---------+-----+\n",
        "Output:\n",
        "+---------+-----+\n",
        "| name    | age |\n",
        "+---------+-----+\n",
        "| Ulysses | 13  |\n",
        "+---------+-----+</pre>\n",
        "Explanation:\n",
        "Student Ulysses has student_id = 101, we select the name and age.\n",
        "<pre>\n",
        "Code:\n",
        "import pandas as pd\n",
        "\n",
        "def selectData(students: pd.DataFrame) -> pd.DataFrame:\n",
        "    \n",
        "    return  students[students['student_id']==101][['name','age']]\n",
        "    </pre>\n"
      ],
      "metadata": {
        "id": "z4bnnKzlG_oq"
      }
    },
    {
      "cell_type": "code",
      "source": [
        "# Try Here"
      ],
      "metadata": {
        "id": "990sHQpuHmrw"
      },
      "execution_count": null,
      "outputs": []
    },
    {
      "cell_type": "markdown",
      "source": [
        "**2881. Create a New Column**\n",
        "\n",
        "DataFrame employees<pre>\n",
        "+-------------+--------+\n",
        "| Column Name | Type.  |\n",
        "+-------------+--------+\n",
        "| name        | object |\n",
        "| salary      | int.   |\n",
        "+-------------+--------+</pre>\n",
        "A company plans to provide its employees with a bonus.\n",
        "\n",
        "Write a solution to create a new column name bonus that contains the doubled values of the salary column.\n",
        "\n",
        "The result format is in the following example.\n",
        "\n",
        "\n",
        "\n",
        "Example 1:\n",
        "\n",
        "Input:\n",
        "DataFrame employees<pre>\n",
        "+---------+--------+\n",
        "| name    | salary |\n",
        "+---------+--------+\n",
        "| Piper   | 4548   |\n",
        "| Grace   | 28150  |\n",
        "| Georgia | 1103   |\n",
        "| Willow  | 6593   |\n",
        "| Finn    | 74576  |\n",
        "| Thomas  | 24433  |\n",
        "+---------+--------+\n",
        "Output:\n",
        "+---------+--------+--------+\n",
        "| name    | salary | bonus  |\n",
        "+---------+--------+--------+\n",
        "| Piper   | 4548   | 9096   |\n",
        "| Grace   | 28150  | 56300  |\n",
        "| Georgia | 1103   | 2206   |\n",
        "| Willow  | 6593   | 13186  |\n",
        "| Finn    | 74576  | 149152 |\n",
        "| Thomas  | 24433  | 48866  |\n",
        "+---------+--------+--------+</pre>\n",
        "Explanation:\n",
        "A new column bonus is created by doubling the value in the column salary.\n",
        "\n",
        "<pre>\n",
        "Code:\n",
        "import pandas as pd\n",
        "\n",
        "def createBonusColumn(employees: pd.DataFrame) -> pd.DataFrame:\n",
        "    employees[\"bonus\"]=employees[\"salary\"].apply(lambda x:x*2)\n",
        "    return employees\n",
        "</pre>"
      ],
      "metadata": {
        "id": "mJ6Y_-OoIrcR"
      }
    },
    {
      "cell_type": "code",
      "source": [
        "# Try Here"
      ],
      "metadata": {
        "id": "-ZNiownSJRwe"
      },
      "execution_count": null,
      "outputs": []
    }
  ]
}