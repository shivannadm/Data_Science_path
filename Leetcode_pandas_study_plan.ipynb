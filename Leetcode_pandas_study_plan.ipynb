{
  "nbformat": 4,
  "nbformat_minor": 0,
  "metadata": {
    "colab": {
      "provenance": [],
      "authorship_tag": "ABX9TyOnaIHPyrFrgGss1YoJASsk",
      "include_colab_link": true
    },
    "kernelspec": {
      "name": "python3",
      "display_name": "Python 3"
    },
    "language_info": {
      "name": "python"
    }
  },
  "cells": [
    {
      "cell_type": "markdown",
      "metadata": {
        "id": "view-in-github",
        "colab_type": "text"
      },
      "source": [
        "<a href=\"https://colab.research.google.com/github/shivannadm/Data_Science_path/blob/main/Leetcode_pandas_study_plan.ipynb\" target=\"_parent\"><img src=\"https://colab.research.google.com/assets/colab-badge.svg\" alt=\"Open In Colab\"/></a>"
      ]
    },
    {
      "cell_type": "markdown",
      "source": [
        "# LeetCode pandas solutions"
      ],
      "metadata": {
        "id": "lMF6TjGFnHa0"
      }
    },
    {
      "cell_type": "markdown",
      "source": [
        "Write a solution to create a DataFrame from a 2D list called student_data. This 2D list contains the IDs and ages of some students.\n",
        "The DataFrame should have two columns, student_id and age, and be in the same order as the original 2D list.\n",
        "<pre>\n",
        "The result format is in the following example.\n",
        "\n",
        "Example 1:\n",
        "Input:\n",
        "student_data:\n",
        "[\n",
        "  [1, 15],\n",
        "  [2, 11],\n",
        "  [3, 11],\n",
        "  [4, 20]\n",
        "]\n",
        "Output:\n",
        "+------------+-----+\n",
        "| student_id | age |\n",
        "+------------+-----+\n",
        "| 1          | 15  |\n",
        "| 2          | 11  |\n",
        "| 3          | 11  |\n",
        "| 4          | 20  |\n",
        "+------------+-----+\n",
        "Explanation:\n",
        "A DataFrame was created on top of student_data, with two columns named student_id and age.</pre>\n",
        "<pre>def createDataframe(student_data: List[List[int]]) -> pd.DataFrame:\n",
        "  return pd.DataFrame(student_data,columns=[\"student_id\",\"age\"])\n",
        "</pre>"
      ],
      "metadata": {
        "id": "cVbsaDzOoehM"
      }
    }
  ]
}