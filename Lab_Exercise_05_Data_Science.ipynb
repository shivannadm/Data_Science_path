{
  "nbformat": 4,
  "nbformat_minor": 0,
  "metadata": {
    "colab": {
      "provenance": [],
      "authorship_tag": "ABX9TyMer94I+Uaxj5yyM1p1vakO",
      "include_colab_link": true
    },
    "kernelspec": {
      "name": "python3",
      "display_name": "Python 3"
    },
    "language_info": {
      "name": "python"
    }
  },
  "cells": [
    {
      "cell_type": "markdown",
      "metadata": {
        "id": "view-in-github",
        "colab_type": "text"
      },
      "source": [
        "<a href=\"https://colab.research.google.com/github/shivannadm/Data_Science_path/blob/main/Lab_Exercise_05_Data_Science.ipynb\" target=\"_parent\"><img src=\"https://colab.research.google.com/assets/colab-badge.svg\" alt=\"Open In Colab\"/></a>"
      ]
    },
    {
      "cell_type": "markdown",
      "source": [],
      "metadata": {
        "id": "z8OU0zPKZv-8"
      }
    },
    {
      "cell_type": "markdown",
      "source": [
        "# NASSCOM Internship 2024-2025\n",
        "**Lab Exercise 05 Data Science.**"
      ],
      "metadata": {
        "id": "EdNsmrxu3o9N"
      }
    },
    {
      "cell_type": "markdown",
      "source": [
        "Lab 01: Setting Up the environment\n",
        "\n",
        "    Install anaconda(or you can do it on Google colab itself)\n",
        "\n",
        "  If not clear follow the lab exercise 04 for setting up the environment: https://github.com/shivannadm/Data_Science_path/blob/main/Lab_Exercise_04_November072024_Data_Science_Basics.ipynb"
      ],
      "metadata": {
        "id": "NmGdmDMN5oTE"
      }
    },
    {
      "cell_type": "markdown",
      "source": [
        "**Lab 1:** Understand the basic of supervised learning\n",
        "\n",
        "**objective:** Familiarize yourself with the concept of supervised learning\n",
        "\n",
        "\n",
        "**What is Supervised Learning?**\n",
        "\n",
        "Supervised learning is a type of machine learning where the algorithm learns from a labeled dataset.\n",
        "\n",
        "* Input: Features (independent variables)\n",
        "* Output: Labels (dependent variables)\n",
        "* Goal: Learn the relationship between input and output to predict outcomes for unseen data.\n",
        "\n",
        "**2. Key Learning Areas**\n",
        "\n",
        "**Data Handling:** Understanding how labeled datasets are structured and why they are critical.\n",
        "\n",
        "**Algorithm Insights:** Exploring popular supervised learning algorithms like Linear Regression, Decision Trees, SVMs, and Neural Networks.\n",
        "\n",
        "**Model Training and Evaluation:** Learning how to train models and measure their performance using metrics like accuracy, precision, and recall.\n",
        "\n",
        "\n",
        "**3. Practical Vision**\n",
        "Supervised learning is at the heart of many technological advancements:\n",
        "* Healthcare: Disease diagnosis using patient data.\n",
        "* Finance: Fraud detection systems.\n",
        "* Retail: Predicting customer behavior for personalized marketing.\n",
        "* Autonomous Systems: Assisting in tasks like speech recognition and image classification.\n"
      ],
      "metadata": {
        "id": "tPvIeVbUZLW7"
      }
    },
    {
      "cell_type": "markdown",
      "source": [
        "**lab 2: Linear regression Implementation**\n",
        "\n",
        "**Objective:** Implement a basic regression model\n",
        "\n",
        "**Broad Vision** Linear regression is one of the simplest yet most powerful algorithms in supervised learning. It models the relationship between a dependent variable (output) and one or more independent variables (inputs) by fitting a straight line.\n",
        "\n",
        "**Purpose:** Predict a continuous outcome based on input features.\n",
        "\n",
        "**Applications:** Predicting house prices, sales forecasting, and stock market trends. Steps for the Lab\n",
        "\n",
        "Understand the Linear Regression Model The equation for simple linear regression is:\n",
        "\n",
        "<code>\n",
        "𝑦 = 𝑚𝑥 + 𝑐 + 𝜖 </code>\n",
        "\n",
        "Where:\n",
        "\n",
        "* y: Predicted value (dependent variable)\n",
        "* x: Input value (independent variable)\n",
        "* m: Slope of the line (weights)\n",
        "* c: Intercept\n",
        "* ϵ: Error term For multiple variables:\n",
        "\n",
        "\n",
        "<code>\n",
        "𝑦 = 𝑤1𝑥1 + 𝑤2𝑥2 + ⋯ + 𝑤𝑛𝑥𝑛 ​+ c + ϵ</code>"
      ],
      "metadata": {
        "id": "BQJLHUjJeBo0"
      }
    },
    {
      "cell_type": "markdown",
      "source": [
        "**2. Dataset**\n",
        "\n",
        "Use a sample dataset (e.g., predicting house prices based on features like area and number of bedrooms).\n",
        "Example dataset:<pre>\n",
        "Area (sq ft)\tBedrooms\tPrice ($)\n",
        "1500\t         3\t      300,000\n",
        "1700\t         4\t      350,000\n",
        "1200\t         2\t      220,000</pre>"
      ],
      "metadata": {
        "id": "kNzy118ZkpIa"
      }
    },
    {
      "cell_type": "code",
      "source": [
        "import numpy as np\n",
        "import pandas as pd\n",
        "from sklearn.model_selection import train_test_split\n",
        "from sklearn.linear_model import LinearRegression\n",
        "from sklearn.metrics import mean_squared_error, r2_score"
      ],
      "metadata": {
        "id": "dpB2OLMSlEUC"
      },
      "execution_count": 10,
      "outputs": []
    },
    {
      "cell_type": "code",
      "source": [
        "data = pd.DataFrame({\n",
        "    'Area': [1500, 1700, 1200, 2000, 1000],\n",
        "    'Bedrooms': [3, 4, 2, 5, 1],\n",
        "    'Price': [300000, 350000, 220000, 400000, 180000]\n",
        "})\n",
        "\n",
        "# Features and target\n",
        "X = data[['Area', 'Bedrooms']]  # Independent variables\n",
        "y = data['Price']  # Dependent variable\n",
        "\n",
        "# Split the dataset\n",
        "X_train, X_test, y_train, y_test = train_test_split(X, y, test_size=0.2, random_state=42)"
      ],
      "metadata": {
        "id": "OjQmPWvnlGXi"
      },
      "execution_count": 11,
      "outputs": []
    },
    {
      "cell_type": "markdown",
      "source": [
        "<code>X_train, X_test, y_train, y_test = train_test_split(X, y, test_size=0.2, random_state=42)</code>\n",
        "Explanation of test_size and random_state:\n",
        "**1. test_size**\n",
        "\n",
        "**Purpose:** Determines the proportion of the dataset to be used as the test set.\n",
        "\n",
        "**Value:**\n",
        "* A float between 0 and 1 represents the fraction of\n",
        "  data allocated to the test set.\n",
        "  * 0.2 means 20% of the data will be used for testing.\n",
        "* An integer specifies the exact number of test samples.\n",
        "\n",
        "**Default:** If not specified, test_size defaults to 0.25 (25% of data).\n",
        "\n",
        "**Example:**\n",
        "If the dataset has 100 samples and test_size=0.2, 80 samples go to the training set (X_train and y_train), and 20 samples go to the test set (X_test and y_test).\n",
        "\n",
        "**2. random_state**\n",
        "\n",
        "*Purpose*: Ensures reproducibility of the train-test split by controlling the random number generator's seed.\n",
        "\n",
        "*Value:*\n",
        "* An integer value (e.g., 42) ensures the same split is produced every time the code runs.\n",
        "* None (default): Each run will produce a different split due to the randomness.\n",
        "\n",
        "**Why use random_state?**\n",
        "\n",
        "When developing and debugging models, having a fixed random_state ensures consistent behavior and allows for repeatability of experiments.\n",
        "\n",
        "**Why 42?**\n",
        "\n",
        "It’s a common convention in programming (inspired by the book The Hitchhiker's Guide to the Galaxy where 42 is \"the answer to life, the universe, and everything\"). However, you can use any integer.\n"
      ],
      "metadata": {
        "id": "8EtD0v3-o8Dk"
      }
    }
  ]
}