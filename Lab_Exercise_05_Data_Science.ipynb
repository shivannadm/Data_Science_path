{
  "nbformat": 4,
  "nbformat_minor": 0,
  "metadata": {
    "colab": {
      "provenance": [],
      "authorship_tag": "ABX9TyOX+srMrDY59rIpCRThUP40",
      "include_colab_link": true
    },
    "kernelspec": {
      "name": "python3",
      "display_name": "Python 3"
    },
    "language_info": {
      "name": "python"
    }
  },
  "cells": [
    {
      "cell_type": "markdown",
      "metadata": {
        "id": "view-in-github",
        "colab_type": "text"
      },
      "source": [
        "<a href=\"https://colab.research.google.com/github/shivannadm/Data_Science_path/blob/main/Lab_Exercise_05_Data_Science.ipynb\" target=\"_parent\"><img src=\"https://colab.research.google.com/assets/colab-badge.svg\" alt=\"Open In Colab\"/></a>"
      ]
    },
    {
      "cell_type": "markdown",
      "source": [],
      "metadata": {
        "id": "z8OU0zPKZv-8"
      }
    },
    {
      "cell_type": "markdown",
      "source": [
        "# NASSCOM Internship 2024-2025\n",
        "**Lab Exercise 05 Data Science.**"
      ],
      "metadata": {
        "id": "EdNsmrxu3o9N"
      }
    },
    {
      "cell_type": "markdown",
      "source": [
        "Lab 01: Setting Up the environment\n",
        "\n",
        "    Install anaconda(or you can do it on Google colab itself)\n",
        "\n",
        "  If not clear follow the lab exercise 04 for setting up the environment: https://github.com/shivannadm/Data_Science_path/blob/main/Lab_Exercise_04_November072024_Data_Science_Basics.ipynb"
      ],
      "metadata": {
        "id": "NmGdmDMN5oTE"
      }
    },
    {
      "cell_type": "markdown",
      "source": [
        "**Lab 1:** Understand the basic of supervised learning\n",
        "\n",
        "**objective:** Familiarize yourself with the concept of supervised learning\n",
        "\n",
        "\n",
        "**What is Supervised Learning?**\n",
        "\n",
        "Supervised learning is a type of machine learning where the algorithm learns from a labeled dataset.\n",
        "\n",
        "* Input: Features (independent variables)\n",
        "* Output: Labels (dependent variables)\n",
        "* Goal: Learn the relationship between input and output to predict outcomes for unseen data.\n",
        "\n",
        "**2. Key Learning Areas**\n",
        "Data Handling: Understanding how labeled datasets are structured and why they are critical.\n",
        "Algorithm Insights: Exploring popular supervised learning algorithms like Linear Regression, Decision Trees, SVMs, and Neural Networks.\n",
        "Model Training and Evaluation: Learning how to train models and measure their performance using metrics like accuracy, precision, and recall.\n",
        "\n",
        "\n",
        "**3. Practical Vision**\n",
        "Supervised learning is at the heart of many technological advancements:\n",
        "* Healthcare: Disease diagnosis using patient data.\n",
        "* Finance: Fraud detection systems.\n",
        "* Retail: Predicting customer behavior for personalized marketing.\n",
        "* Autonomous Systems: Assisting in tasks like speech recognition and image classification.\n"
      ],
      "metadata": {
        "id": "tPvIeVbUZLW7"
      }
    }
  ]
}