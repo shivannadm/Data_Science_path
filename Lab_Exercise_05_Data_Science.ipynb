{
  "nbformat": 4,
  "nbformat_minor": 0,
  "metadata": {
    "colab": {
      "provenance": [],
      "authorship_tag": "ABX9TyOT3V/dVWhiiBaQFsY6UP8N",
      "include_colab_link": true
    },
    "kernelspec": {
      "name": "python3",
      "display_name": "Python 3"
    },
    "language_info": {
      "name": "python"
    }
  },
  "cells": [
    {
      "cell_type": "markdown",
      "metadata": {
        "id": "view-in-github",
        "colab_type": "text"
      },
      "source": [
        "<a href=\"https://colab.research.google.com/github/shivannadm/Data_Science_path/blob/main/Lab_Exercise_05_Data_Science.ipynb\" target=\"_parent\"><img src=\"https://colab.research.google.com/assets/colab-badge.svg\" alt=\"Open In Colab\"/></a>"
      ]
    },
    {
      "cell_type": "markdown",
      "source": [
        "# NASSCOM Internship 2024-2025\n",
        "**Lab Exercise 05 Data Science.**"
      ],
      "metadata": {
        "id": "EdNsmrxu3o9N"
      }
    },
    {
      "cell_type": "markdown",
      "source": [
        "Lab 01: Setting Up the environment\n",
        "\n",
        "    Install anaconda(or you can do it on Google colab itself)\n",
        "\n",
        "  If not clear follow the lab exercise 04 for setting up the environment: https://github.com/shivannadm/Data_Science_path/blob/main/Lab_Exercise_04_November072024_Data_Science_Basics.ipynb"
      ],
      "metadata": {
        "id": "NmGdmDMN5oTE"
      }
    }
  ]
}