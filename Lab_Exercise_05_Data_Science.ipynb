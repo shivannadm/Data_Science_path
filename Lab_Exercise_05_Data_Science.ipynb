{
  "nbformat": 4,
  "nbformat_minor": 0,
  "metadata": {
    "colab": {
      "provenance": [],
      "collapsed_sections": [
        "BQJLHUjJeBo0",
        "8zvR_tzlsy8J"
      ],
      "include_colab_link": true
    },
    "kernelspec": {
      "name": "python3",
      "display_name": "Python 3"
    },
    "language_info": {
      "name": "python"
    }
  },
  "cells": [
    {
      "cell_type": "markdown",
      "metadata": {
        "id": "view-in-github",
        "colab_type": "text"
      },
      "source": [
        "<a href=\"https://colab.research.google.com/github/shivannadm/Data_Science_path/blob/main/Lab_Exercise_05_Data_Science.ipynb\" target=\"_parent\"><img src=\"https://colab.research.google.com/assets/colab-badge.svg\" alt=\"Open In Colab\"/></a>"
      ]
    },
    {
      "cell_type": "markdown",
      "source": [
        "# NASSCOM Internship 2024-2025\n",
        "**Lab Exercise 05 Data Science.**"
      ],
      "metadata": {
        "id": "EdNsmrxu3o9N"
      }
    },
    {
      "cell_type": "markdown",
      "source": [
        "# **Lab 01:** Setting Up the environment\n",
        "\n",
        "    Install anaconda(or you can do it on Google colab itself)\n",
        "\n",
        "  If not clear follow the lab exercise 04 for setting up the environment: https://github.com/shivannadm/Data_Science_path/blob/main/Lab_Exercise_04_November072024_Data_Science_Basics.ipynb"
      ],
      "metadata": {
        "id": "NmGdmDMN5oTE"
      }
    },
    {
      "cell_type": "markdown",
      "source": [
        "# **Lab 2:** Understand the basic of supervised learning\n",
        "\n",
        "**objective:** Familiarize yourself with the concept of supervised learning\n",
        "\n",
        "\n",
        "**What is Supervised Learning?**\n",
        "\n",
        "Supervised learning is a type of machine learning where the algorithm learns from a labeled dataset.\n",
        "\n",
        "* Input: Features (independent variables)\n",
        "* Output: Labels (dependent variables)\n",
        "* Goal: Learn the relationship between input and output to predict outcomes for unseen data.\n",
        "\n",
        "**2. Key Learning Areas**\n",
        "\n",
        "**Data Handling:** Understanding how labeled datasets are structured and why they are critical.\n",
        "\n",
        "**Algorithm Insights:** Exploring popular supervised learning algorithms like Linear Regression, Decision Trees, SVMs, and Neural Networks.\n",
        "\n",
        "**Model Training and Evaluation:** Learning how to train models and measure their performance using metrics like accuracy, precision, and recall.\n",
        "\n",
        "\n",
        "**3. Practical Vision**\n",
        "Supervised learning is at the heart of many technological advancements:\n",
        "* Healthcare: Disease diagnosis using patient data.\n",
        "* Finance: Fraud detection systems.\n",
        "* Retail: Predicting customer behavior for personalized marketing.\n",
        "* Autonomous Systems: Assisting in tasks like speech recognition and image classification.\n"
      ],
      "metadata": {
        "id": "tPvIeVbUZLW7"
      }
    },
    {
      "cell_type": "markdown",
      "source": [
        "# **lab 3:** Linear regression Implementation\n",
        "\n",
        "**Objective:** Implement a basic regression model\n",
        "\n",
        "**Broad Vision** Linear regression is one of the simplest yet most powerful algorithms in supervised learning. It models the relationship between a dependent variable (output) and one or more independent variables (inputs) by fitting a straight line.\n",
        "\n",
        "**Purpose:** Predict a continuous outcome based on input features.\n",
        "\n",
        "**Applications:** Predicting house prices, sales forecasting, and stock market trends. Steps for the Lab\n",
        "\n",
        "Understand the Linear Regression Model The equation for simple linear regression is:\n",
        "\n",
        "<code>\n",
        "𝑦 = 𝑚𝑥 + 𝑐 + 𝜖 </code>\n",
        "\n",
        "Where:\n",
        "\n",
        "* y: Predicted value (dependent variable)\n",
        "* x: Input value (independent variable)\n",
        "* m: Slope of the line (weights)\n",
        "* c: Intercept\n",
        "* ϵ: Error term For multiple variables:\n",
        "\n",
        "\n",
        "<code>\n",
        "𝑦 = 𝑤1𝑥1 + 𝑤2𝑥2 + ⋯ + 𝑤𝑛𝑥𝑛 ​+ c + ϵ</code>"
      ],
      "metadata": {
        "id": "BQJLHUjJeBo0"
      }
    },
    {
      "cell_type": "markdown",
      "source": [
        "**2. Dataset**\n",
        "\n",
        "Use a sample dataset (e.g., predicting house prices based on features like area and number of bedrooms).\n",
        "Example dataset:<pre>\n",
        "Area (sq ft)\tBedrooms\tPrice ($)\n",
        "1500\t         3\t      300,000\n",
        "1700\t         4\t      350,000\n",
        "1200\t         2\t      220,000</pre>"
      ],
      "metadata": {
        "id": "kNzy118ZkpIa"
      }
    },
    {
      "cell_type": "code",
      "source": [
        "import numpy as np\n",
        "import pandas as pd\n",
        "from sklearn.model_selection import train_test_split\n",
        "from sklearn.linear_model import LinearRegression\n",
        "from sklearn.metrics import mean_squared_error, r2_score"
      ],
      "metadata": {
        "id": "dpB2OLMSlEUC"
      },
      "execution_count": null,
      "outputs": []
    },
    {
      "cell_type": "code",
      "source": [
        "data = pd.DataFrame({\n",
        "    'Area': [1500, 1700, 1200, 2000, 1000],\n",
        "    'Bedrooms': [3, 4, 2, 5, 1],\n",
        "    'Price': [300000, 350000, 220000, 400000, 180000]\n",
        "})\n",
        "\n",
        "# Features and target\n",
        "X = data[['Area', 'Bedrooms']]  # Independent variables\n",
        "y = data['Price']  # Dependent variable\n",
        "\n",
        "# Split the dataset\n",
        "X_train, X_test, y_train, y_test = train_test_split(X, y, test_size=0.2, random_state=42)"
      ],
      "metadata": {
        "id": "OjQmPWvnlGXi"
      },
      "execution_count": null,
      "outputs": []
    },
    {
      "cell_type": "markdown",
      "source": [
        "<code>X_train, X_test, y_train, y_test = train_test_split(X, y, test_size=0.2, random_state=42)</code>\n",
        "Explanation of test_size and random_state:\n",
        "**1. test_size**\n",
        "\n",
        "**Purpose:** Determines the proportion of the dataset to be used as the test set.\n",
        "\n",
        "**Value:**\n",
        "* A float between 0 and 1 represents the fraction of\n",
        "  data allocated to the test set.\n",
        "  * 0.2 means 20% of the data will be used for testing.\n",
        "* An integer specifies the exact number of test samples.\n",
        "\n",
        "**Default:** If not specified, test_size defaults to 0.25 (25% of data).\n",
        "\n",
        "**Example:**\n",
        "If the dataset has 100 samples and test_size=0.2, 80 samples go to the training set (X_train and y_train), and 20 samples go to the test set (X_test and y_test).\n",
        "\n",
        "**2. random_state**\n",
        "\n",
        "*Purpose*: Ensures reproducibility of the train-test split by controlling the random number generator's seed.\n",
        "\n",
        "*Value:*\n",
        "* An integer value (e.g., 42) ensures the same split is produced every time the code runs.\n",
        "* None (default): Each run will produce a different split due to the randomness.\n",
        "\n",
        "**Why use random_state?**\n",
        "\n",
        "When developing and debugging models, having a fixed random_state ensures consistent behavior and allows for repeatability of experiments.\n",
        "\n",
        "**Why 42?**\n",
        "\n",
        "It’s a common convention in programming (inspired by the book The Hitchhiker's Guide to the Galaxy where 42 is \"the answer to life, the universe, and everything\"). However, you can use any integer.\n"
      ],
      "metadata": {
        "id": "8EtD0v3-o8Dk"
      }
    },
    {
      "cell_type": "code",
      "source": [
        "# Initialize and train the linear regression model\n",
        "model = LinearRegression()\n",
        "model.fit(X_train, y_train)"
      ],
      "metadata": {
        "colab": {
          "base_uri": "https://localhost:8080/",
          "height": 81
        },
        "id": "Vi9aHSaSqCfC",
        "outputId": "075f7b51-8d1a-45bd-d24d-7ac65754736c"
      },
      "execution_count": null,
      "outputs": [
        {
          "output_type": "execute_result",
          "data": {
            "text/plain": [
              "LinearRegression()"
            ],
            "text/html": [
              "<style>#sk-container-id-1 {\n",
              "  /* Definition of color scheme common for light and dark mode */\n",
              "  --sklearn-color-text: black;\n",
              "  --sklearn-color-line: gray;\n",
              "  /* Definition of color scheme for unfitted estimators */\n",
              "  --sklearn-color-unfitted-level-0: #fff5e6;\n",
              "  --sklearn-color-unfitted-level-1: #f6e4d2;\n",
              "  --sklearn-color-unfitted-level-2: #ffe0b3;\n",
              "  --sklearn-color-unfitted-level-3: chocolate;\n",
              "  /* Definition of color scheme for fitted estimators */\n",
              "  --sklearn-color-fitted-level-0: #f0f8ff;\n",
              "  --sklearn-color-fitted-level-1: #d4ebff;\n",
              "  --sklearn-color-fitted-level-2: #b3dbfd;\n",
              "  --sklearn-color-fitted-level-3: cornflowerblue;\n",
              "\n",
              "  /* Specific color for light theme */\n",
              "  --sklearn-color-text-on-default-background: var(--sg-text-color, var(--theme-code-foreground, var(--jp-content-font-color1, black)));\n",
              "  --sklearn-color-background: var(--sg-background-color, var(--theme-background, var(--jp-layout-color0, white)));\n",
              "  --sklearn-color-border-box: var(--sg-text-color, var(--theme-code-foreground, var(--jp-content-font-color1, black)));\n",
              "  --sklearn-color-icon: #696969;\n",
              "\n",
              "  @media (prefers-color-scheme: dark) {\n",
              "    /* Redefinition of color scheme for dark theme */\n",
              "    --sklearn-color-text-on-default-background: var(--sg-text-color, var(--theme-code-foreground, var(--jp-content-font-color1, white)));\n",
              "    --sklearn-color-background: var(--sg-background-color, var(--theme-background, var(--jp-layout-color0, #111)));\n",
              "    --sklearn-color-border-box: var(--sg-text-color, var(--theme-code-foreground, var(--jp-content-font-color1, white)));\n",
              "    --sklearn-color-icon: #878787;\n",
              "  }\n",
              "}\n",
              "\n",
              "#sk-container-id-1 {\n",
              "  color: var(--sklearn-color-text);\n",
              "}\n",
              "\n",
              "#sk-container-id-1 pre {\n",
              "  padding: 0;\n",
              "}\n",
              "\n",
              "#sk-container-id-1 input.sk-hidden--visually {\n",
              "  border: 0;\n",
              "  clip: rect(1px 1px 1px 1px);\n",
              "  clip: rect(1px, 1px, 1px, 1px);\n",
              "  height: 1px;\n",
              "  margin: -1px;\n",
              "  overflow: hidden;\n",
              "  padding: 0;\n",
              "  position: absolute;\n",
              "  width: 1px;\n",
              "}\n",
              "\n",
              "#sk-container-id-1 div.sk-dashed-wrapped {\n",
              "  border: 1px dashed var(--sklearn-color-line);\n",
              "  margin: 0 0.4em 0.5em 0.4em;\n",
              "  box-sizing: border-box;\n",
              "  padding-bottom: 0.4em;\n",
              "  background-color: var(--sklearn-color-background);\n",
              "}\n",
              "\n",
              "#sk-container-id-1 div.sk-container {\n",
              "  /* jupyter's `normalize.less` sets `[hidden] { display: none; }`\n",
              "     but bootstrap.min.css set `[hidden] { display: none !important; }`\n",
              "     so we also need the `!important` here to be able to override the\n",
              "     default hidden behavior on the sphinx rendered scikit-learn.org.\n",
              "     See: https://github.com/scikit-learn/scikit-learn/issues/21755 */\n",
              "  display: inline-block !important;\n",
              "  position: relative;\n",
              "}\n",
              "\n",
              "#sk-container-id-1 div.sk-text-repr-fallback {\n",
              "  display: none;\n",
              "}\n",
              "\n",
              "div.sk-parallel-item,\n",
              "div.sk-serial,\n",
              "div.sk-item {\n",
              "  /* draw centered vertical line to link estimators */\n",
              "  background-image: linear-gradient(var(--sklearn-color-text-on-default-background), var(--sklearn-color-text-on-default-background));\n",
              "  background-size: 2px 100%;\n",
              "  background-repeat: no-repeat;\n",
              "  background-position: center center;\n",
              "}\n",
              "\n",
              "/* Parallel-specific style estimator block */\n",
              "\n",
              "#sk-container-id-1 div.sk-parallel-item::after {\n",
              "  content: \"\";\n",
              "  width: 100%;\n",
              "  border-bottom: 2px solid var(--sklearn-color-text-on-default-background);\n",
              "  flex-grow: 1;\n",
              "}\n",
              "\n",
              "#sk-container-id-1 div.sk-parallel {\n",
              "  display: flex;\n",
              "  align-items: stretch;\n",
              "  justify-content: center;\n",
              "  background-color: var(--sklearn-color-background);\n",
              "  position: relative;\n",
              "}\n",
              "\n",
              "#sk-container-id-1 div.sk-parallel-item {\n",
              "  display: flex;\n",
              "  flex-direction: column;\n",
              "}\n",
              "\n",
              "#sk-container-id-1 div.sk-parallel-item:first-child::after {\n",
              "  align-self: flex-end;\n",
              "  width: 50%;\n",
              "}\n",
              "\n",
              "#sk-container-id-1 div.sk-parallel-item:last-child::after {\n",
              "  align-self: flex-start;\n",
              "  width: 50%;\n",
              "}\n",
              "\n",
              "#sk-container-id-1 div.sk-parallel-item:only-child::after {\n",
              "  width: 0;\n",
              "}\n",
              "\n",
              "/* Serial-specific style estimator block */\n",
              "\n",
              "#sk-container-id-1 div.sk-serial {\n",
              "  display: flex;\n",
              "  flex-direction: column;\n",
              "  align-items: center;\n",
              "  background-color: var(--sklearn-color-background);\n",
              "  padding-right: 1em;\n",
              "  padding-left: 1em;\n",
              "}\n",
              "\n",
              "\n",
              "/* Toggleable style: style used for estimator/Pipeline/ColumnTransformer box that is\n",
              "clickable and can be expanded/collapsed.\n",
              "- Pipeline and ColumnTransformer use this feature and define the default style\n",
              "- Estimators will overwrite some part of the style using the `sk-estimator` class\n",
              "*/\n",
              "\n",
              "/* Pipeline and ColumnTransformer style (default) */\n",
              "\n",
              "#sk-container-id-1 div.sk-toggleable {\n",
              "  /* Default theme specific background. It is overwritten whether we have a\n",
              "  specific estimator or a Pipeline/ColumnTransformer */\n",
              "  background-color: var(--sklearn-color-background);\n",
              "}\n",
              "\n",
              "/* Toggleable label */\n",
              "#sk-container-id-1 label.sk-toggleable__label {\n",
              "  cursor: pointer;\n",
              "  display: block;\n",
              "  width: 100%;\n",
              "  margin-bottom: 0;\n",
              "  padding: 0.5em;\n",
              "  box-sizing: border-box;\n",
              "  text-align: center;\n",
              "}\n",
              "\n",
              "#sk-container-id-1 label.sk-toggleable__label-arrow:before {\n",
              "  /* Arrow on the left of the label */\n",
              "  content: \"▸\";\n",
              "  float: left;\n",
              "  margin-right: 0.25em;\n",
              "  color: var(--sklearn-color-icon);\n",
              "}\n",
              "\n",
              "#sk-container-id-1 label.sk-toggleable__label-arrow:hover:before {\n",
              "  color: var(--sklearn-color-text);\n",
              "}\n",
              "\n",
              "/* Toggleable content - dropdown */\n",
              "\n",
              "#sk-container-id-1 div.sk-toggleable__content {\n",
              "  max-height: 0;\n",
              "  max-width: 0;\n",
              "  overflow: hidden;\n",
              "  text-align: left;\n",
              "  /* unfitted */\n",
              "  background-color: var(--sklearn-color-unfitted-level-0);\n",
              "}\n",
              "\n",
              "#sk-container-id-1 div.sk-toggleable__content.fitted {\n",
              "  /* fitted */\n",
              "  background-color: var(--sklearn-color-fitted-level-0);\n",
              "}\n",
              "\n",
              "#sk-container-id-1 div.sk-toggleable__content pre {\n",
              "  margin: 0.2em;\n",
              "  border-radius: 0.25em;\n",
              "  color: var(--sklearn-color-text);\n",
              "  /* unfitted */\n",
              "  background-color: var(--sklearn-color-unfitted-level-0);\n",
              "}\n",
              "\n",
              "#sk-container-id-1 div.sk-toggleable__content.fitted pre {\n",
              "  /* unfitted */\n",
              "  background-color: var(--sklearn-color-fitted-level-0);\n",
              "}\n",
              "\n",
              "#sk-container-id-1 input.sk-toggleable__control:checked~div.sk-toggleable__content {\n",
              "  /* Expand drop-down */\n",
              "  max-height: 200px;\n",
              "  max-width: 100%;\n",
              "  overflow: auto;\n",
              "}\n",
              "\n",
              "#sk-container-id-1 input.sk-toggleable__control:checked~label.sk-toggleable__label-arrow:before {\n",
              "  content: \"▾\";\n",
              "}\n",
              "\n",
              "/* Pipeline/ColumnTransformer-specific style */\n",
              "\n",
              "#sk-container-id-1 div.sk-label input.sk-toggleable__control:checked~label.sk-toggleable__label {\n",
              "  color: var(--sklearn-color-text);\n",
              "  background-color: var(--sklearn-color-unfitted-level-2);\n",
              "}\n",
              "\n",
              "#sk-container-id-1 div.sk-label.fitted input.sk-toggleable__control:checked~label.sk-toggleable__label {\n",
              "  background-color: var(--sklearn-color-fitted-level-2);\n",
              "}\n",
              "\n",
              "/* Estimator-specific style */\n",
              "\n",
              "/* Colorize estimator box */\n",
              "#sk-container-id-1 div.sk-estimator input.sk-toggleable__control:checked~label.sk-toggleable__label {\n",
              "  /* unfitted */\n",
              "  background-color: var(--sklearn-color-unfitted-level-2);\n",
              "}\n",
              "\n",
              "#sk-container-id-1 div.sk-estimator.fitted input.sk-toggleable__control:checked~label.sk-toggleable__label {\n",
              "  /* fitted */\n",
              "  background-color: var(--sklearn-color-fitted-level-2);\n",
              "}\n",
              "\n",
              "#sk-container-id-1 div.sk-label label.sk-toggleable__label,\n",
              "#sk-container-id-1 div.sk-label label {\n",
              "  /* The background is the default theme color */\n",
              "  color: var(--sklearn-color-text-on-default-background);\n",
              "}\n",
              "\n",
              "/* On hover, darken the color of the background */\n",
              "#sk-container-id-1 div.sk-label:hover label.sk-toggleable__label {\n",
              "  color: var(--sklearn-color-text);\n",
              "  background-color: var(--sklearn-color-unfitted-level-2);\n",
              "}\n",
              "\n",
              "/* Label box, darken color on hover, fitted */\n",
              "#sk-container-id-1 div.sk-label.fitted:hover label.sk-toggleable__label.fitted {\n",
              "  color: var(--sklearn-color-text);\n",
              "  background-color: var(--sklearn-color-fitted-level-2);\n",
              "}\n",
              "\n",
              "/* Estimator label */\n",
              "\n",
              "#sk-container-id-1 div.sk-label label {\n",
              "  font-family: monospace;\n",
              "  font-weight: bold;\n",
              "  display: inline-block;\n",
              "  line-height: 1.2em;\n",
              "}\n",
              "\n",
              "#sk-container-id-1 div.sk-label-container {\n",
              "  text-align: center;\n",
              "}\n",
              "\n",
              "/* Estimator-specific */\n",
              "#sk-container-id-1 div.sk-estimator {\n",
              "  font-family: monospace;\n",
              "  border: 1px dotted var(--sklearn-color-border-box);\n",
              "  border-radius: 0.25em;\n",
              "  box-sizing: border-box;\n",
              "  margin-bottom: 0.5em;\n",
              "  /* unfitted */\n",
              "  background-color: var(--sklearn-color-unfitted-level-0);\n",
              "}\n",
              "\n",
              "#sk-container-id-1 div.sk-estimator.fitted {\n",
              "  /* fitted */\n",
              "  background-color: var(--sklearn-color-fitted-level-0);\n",
              "}\n",
              "\n",
              "/* on hover */\n",
              "#sk-container-id-1 div.sk-estimator:hover {\n",
              "  /* unfitted */\n",
              "  background-color: var(--sklearn-color-unfitted-level-2);\n",
              "}\n",
              "\n",
              "#sk-container-id-1 div.sk-estimator.fitted:hover {\n",
              "  /* fitted */\n",
              "  background-color: var(--sklearn-color-fitted-level-2);\n",
              "}\n",
              "\n",
              "/* Specification for estimator info (e.g. \"i\" and \"?\") */\n",
              "\n",
              "/* Common style for \"i\" and \"?\" */\n",
              "\n",
              ".sk-estimator-doc-link,\n",
              "a:link.sk-estimator-doc-link,\n",
              "a:visited.sk-estimator-doc-link {\n",
              "  float: right;\n",
              "  font-size: smaller;\n",
              "  line-height: 1em;\n",
              "  font-family: monospace;\n",
              "  background-color: var(--sklearn-color-background);\n",
              "  border-radius: 1em;\n",
              "  height: 1em;\n",
              "  width: 1em;\n",
              "  text-decoration: none !important;\n",
              "  margin-left: 1ex;\n",
              "  /* unfitted */\n",
              "  border: var(--sklearn-color-unfitted-level-1) 1pt solid;\n",
              "  color: var(--sklearn-color-unfitted-level-1);\n",
              "}\n",
              "\n",
              ".sk-estimator-doc-link.fitted,\n",
              "a:link.sk-estimator-doc-link.fitted,\n",
              "a:visited.sk-estimator-doc-link.fitted {\n",
              "  /* fitted */\n",
              "  border: var(--sklearn-color-fitted-level-1) 1pt solid;\n",
              "  color: var(--sklearn-color-fitted-level-1);\n",
              "}\n",
              "\n",
              "/* On hover */\n",
              "div.sk-estimator:hover .sk-estimator-doc-link:hover,\n",
              ".sk-estimator-doc-link:hover,\n",
              "div.sk-label-container:hover .sk-estimator-doc-link:hover,\n",
              ".sk-estimator-doc-link:hover {\n",
              "  /* unfitted */\n",
              "  background-color: var(--sklearn-color-unfitted-level-3);\n",
              "  color: var(--sklearn-color-background);\n",
              "  text-decoration: none;\n",
              "}\n",
              "\n",
              "div.sk-estimator.fitted:hover .sk-estimator-doc-link.fitted:hover,\n",
              ".sk-estimator-doc-link.fitted:hover,\n",
              "div.sk-label-container:hover .sk-estimator-doc-link.fitted:hover,\n",
              ".sk-estimator-doc-link.fitted:hover {\n",
              "  /* fitted */\n",
              "  background-color: var(--sklearn-color-fitted-level-3);\n",
              "  color: var(--sklearn-color-background);\n",
              "  text-decoration: none;\n",
              "}\n",
              "\n",
              "/* Span, style for the box shown on hovering the info icon */\n",
              ".sk-estimator-doc-link span {\n",
              "  display: none;\n",
              "  z-index: 9999;\n",
              "  position: relative;\n",
              "  font-weight: normal;\n",
              "  right: .2ex;\n",
              "  padding: .5ex;\n",
              "  margin: .5ex;\n",
              "  width: min-content;\n",
              "  min-width: 20ex;\n",
              "  max-width: 50ex;\n",
              "  color: var(--sklearn-color-text);\n",
              "  box-shadow: 2pt 2pt 4pt #999;\n",
              "  /* unfitted */\n",
              "  background: var(--sklearn-color-unfitted-level-0);\n",
              "  border: .5pt solid var(--sklearn-color-unfitted-level-3);\n",
              "}\n",
              "\n",
              ".sk-estimator-doc-link.fitted span {\n",
              "  /* fitted */\n",
              "  background: var(--sklearn-color-fitted-level-0);\n",
              "  border: var(--sklearn-color-fitted-level-3);\n",
              "}\n",
              "\n",
              ".sk-estimator-doc-link:hover span {\n",
              "  display: block;\n",
              "}\n",
              "\n",
              "/* \"?\"-specific style due to the `<a>` HTML tag */\n",
              "\n",
              "#sk-container-id-1 a.estimator_doc_link {\n",
              "  float: right;\n",
              "  font-size: 1rem;\n",
              "  line-height: 1em;\n",
              "  font-family: monospace;\n",
              "  background-color: var(--sklearn-color-background);\n",
              "  border-radius: 1rem;\n",
              "  height: 1rem;\n",
              "  width: 1rem;\n",
              "  text-decoration: none;\n",
              "  /* unfitted */\n",
              "  color: var(--sklearn-color-unfitted-level-1);\n",
              "  border: var(--sklearn-color-unfitted-level-1) 1pt solid;\n",
              "}\n",
              "\n",
              "#sk-container-id-1 a.estimator_doc_link.fitted {\n",
              "  /* fitted */\n",
              "  border: var(--sklearn-color-fitted-level-1) 1pt solid;\n",
              "  color: var(--sklearn-color-fitted-level-1);\n",
              "}\n",
              "\n",
              "/* On hover */\n",
              "#sk-container-id-1 a.estimator_doc_link:hover {\n",
              "  /* unfitted */\n",
              "  background-color: var(--sklearn-color-unfitted-level-3);\n",
              "  color: var(--sklearn-color-background);\n",
              "  text-decoration: none;\n",
              "}\n",
              "\n",
              "#sk-container-id-1 a.estimator_doc_link.fitted:hover {\n",
              "  /* fitted */\n",
              "  background-color: var(--sklearn-color-fitted-level-3);\n",
              "}\n",
              "</style><div id=\"sk-container-id-1\" class=\"sk-top-container\"><div class=\"sk-text-repr-fallback\"><pre>LinearRegression()</pre><b>In a Jupyter environment, please rerun this cell to show the HTML representation or trust the notebook. <br />On GitHub, the HTML representation is unable to render, please try loading this page with nbviewer.org.</b></div><div class=\"sk-container\" hidden><div class=\"sk-item\"><div class=\"sk-estimator fitted sk-toggleable\"><input class=\"sk-toggleable__control sk-hidden--visually\" id=\"sk-estimator-id-1\" type=\"checkbox\" checked><label for=\"sk-estimator-id-1\" class=\"sk-toggleable__label fitted sk-toggleable__label-arrow fitted\">&nbsp;&nbsp;LinearRegression<a class=\"sk-estimator-doc-link fitted\" rel=\"noreferrer\" target=\"_blank\" href=\"https://scikit-learn.org/1.5/modules/generated/sklearn.linear_model.LinearRegression.html\">?<span>Documentation for LinearRegression</span></a><span class=\"sk-estimator-doc-link fitted\">i<span>Fitted</span></span></label><div class=\"sk-toggleable__content fitted\"><pre>LinearRegression()</pre></div> </div></div></div></div>"
            ]
          },
          "metadata": {},
          "execution_count": 12
        }
      ]
    },
    {
      "cell_type": "code",
      "source": [
        "# Predict on test data\n",
        "y_pred = model.predict(X_test)\n",
        "\n",
        "# Calculate metrics\n",
        "mse = mean_squared_error(y_test, y_pred)\n",
        "r2 = r2_score(y_test, y_pred)\n",
        "\n",
        "print(\"Mean Squared Error:\", mse)\n",
        "print(\"R^2 Score:\", r2)"
      ],
      "metadata": {
        "colab": {
          "base_uri": "https://localhost:8080/"
        },
        "id": "zaV9mbJlqH8C",
        "outputId": "afa9eab1-fc27-4556-edbb-7c4fcc3218f9"
      },
      "execution_count": null,
      "outputs": [
        {
          "output_type": "stream",
          "name": "stdout",
          "text": [
            "Mean Squared Error: 399999999.9999977\n",
            "R^2 Score: nan\n"
          ]
        },
        {
          "output_type": "stream",
          "name": "stderr",
          "text": [
            "/usr/local/lib/python3.10/dist-packages/sklearn/metrics/_regression.py:1211: UndefinedMetricWarning: R^2 score is not well-defined with less than two samples.\n",
            "  warnings.warn(msg, UndefinedMetricWarning)\n"
          ]
        }
      ]
    },
    {
      "cell_type": "code",
      "source": [
        "print(\"Model Coefficients:\", model.coef_)\n",
        "print(\"Model Intercept:\", model.intercept_)"
      ],
      "metadata": {
        "colab": {
          "base_uri": "https://localhost:8080/"
        },
        "id": "ampmZj0PqPf5",
        "outputId": "15c2e4b2-9904-4a07-8683-4f9d173a63bf"
      },
      "execution_count": null,
      "outputs": [
        {
          "output_type": "stream",
          "name": "stdout",
          "text": [
            "Model Coefficients: [   366.66666667 -36666.66666667]\n",
            "Model Intercept: -146666.6666666661\n"
          ]
        }
      ]
    },
    {
      "cell_type": "code",
      "source": [
        "import matplotlib.pyplot as plt\n",
        "\n",
        "plt.scatter(y_test, y_pred)\n",
        "plt.xlabel(\"Actual Prices\")\n",
        "plt.ylabel(\"Predicted Prices\")\n",
        "plt.title(\"Actual vs. Predicted Prices\")\n",
        "plt.show()"
      ],
      "metadata": {
        "colab": {
          "base_uri": "https://localhost:8080/",
          "height": 472
        },
        "id": "ZAkQIuEUqVmB",
        "outputId": "8affdbc9-ff43-408f-bd20-4290a9a55738"
      },
      "execution_count": null,
      "outputs": [
        {
          "output_type": "display_data",
          "data": {
            "text/plain": [
              "<Figure size 640x480 with 1 Axes>"
            ],
            "image/png": "[encoded data removed]"
          },
          "metadata": {}
        }
      ]
    },
    {
      "cell_type": "code",
      "source": [
        "# New house data: [Area, Bedrooms]\n",
        "new_house = [[1800, 3]]  # Example input\n",
        "\n",
        "# Predict the price\n",
        "predicted_price = model.predict(new_house)\n",
        "print(\"Predicted Price for New House:\", predicted_price[0])"
      ],
      "metadata": {
        "colab": {
          "base_uri": "https://localhost:8080/"
        },
        "id": "UW6SJPk1tB3Q",
        "outputId": "b6a5d92d-b4b4-403b-e24d-03927f0b4593"
      },
      "execution_count": null,
      "outputs": [
        {
          "output_type": "stream",
          "name": "stdout",
          "text": [
            "Predicted Price for New House: 403333.33333333296\n"
          ]
        },
        {
          "output_type": "stream",
          "name": "stderr",
          "text": [
            "/usr/local/lib/python3.10/dist-packages/sklearn/base.py:493: UserWarning: X does not have valid feature names, but LinearRegression was fitted with feature names\n",
            "  warnings.warn(\n"
          ]
        }
      ]
    },
    {
      "cell_type": "markdown",
      "source": [
        "# **Lab 04:** Lab 04: Multiple Linear Regression\n",
        "**Objective:** Extend linear regression to multiple features."
      ],
      "metadata": {
        "id": "8zvR_tzlsy8J"
      }
    },
    {
      "cell_type": "code",
      "source": [
        "import numpy as np\n",
        "import pandas as pd\n",
        "from sklearn.model_selection import train_test_split\n",
        "from sklearn.linear_model import LinearRegression\n",
        "from sklearn.metrics import mean_squared_error, r2_score"
      ],
      "metadata": {
        "id": "3kFpyojCuwY0"
      },
      "execution_count": null,
      "outputs": []
    },
    {
      "cell_type": "code",
      "source": [
        "# Example dataset for predicting house prices\n",
        "data = pd.DataFrame({\n",
        "    'Area': [1500, 1700, 1200, 2000, 1000, 2500],\n",
        "    'Bedrooms': [3, 4, 2, 5, 1, 4],\n",
        "    'Age': [10, 5, 20, 15, 25, 8],\n",
        "    'Price': [300000, 350000, 220000, 400000, 180000, 450000]\n",
        "})\n",
        "\n",
        "# Features (independent variables) and target (dependent variable)\n",
        "X = data[['Area', 'Bedrooms', 'Age']]  # Multiple features\n",
        "y = data['Price']                      # Target variable"
      ],
      "metadata": {
        "id": "aMP2VU7guyZJ"
      },
      "execution_count": null,
      "outputs": []
    },
    {
      "cell_type": "code",
      "source": [
        "# Splitting the data into training (80%) and testing (20%) sets\n",
        "X_train, X_test, y_train, y_test = train_test_split(X, y, test_size=0.2, random_state=42)"
      ],
      "metadata": {
        "id": "s9nDY_9vu2qI"
      },
      "execution_count": null,
      "outputs": []
    },
    {
      "cell_type": "code",
      "source": [
        "# Initialize and train the model\n",
        "model = LinearRegression()\n",
        "model.fit(X_train, y_train)\n",
        "\n",
        "# Display coefficients and intercept\n",
        "print(\"Model Coefficients:\", model.coef_)\n",
        "print(\"Model Intercept:\", model.intercept_)"
      ],
      "metadata": {
        "colab": {
          "base_uri": "https://localhost:8080/"
        },
        "id": "ha2vmJaHvB_i",
        "outputId": "2ba257a8-2472-4eb3-c86e-6ee8e101a15c"
      },
      "execution_count": null,
      "outputs": [
        {
          "output_type": "stream",
          "name": "stdout",
          "text": [
            "Model Coefficients: [  172.34042553 18297.87234043  2553.19148936]\n",
            "Model Intercept: -74468.0851063832\n"
          ]
        }
      ]
    },
    {
      "cell_type": "code",
      "source": [
        "# Make predictions\n",
        "y_pred = model.predict(X_test)\n",
        "\n",
        "# Display predictions and actual values\n",
        "print(\"Predicted Prices:\", y_pred)\n",
        "print(\"Actual Prices:\", y_test.values)"
      ],
      "metadata": {
        "colab": {
          "base_uri": "https://localhost:8080/"
        },
        "id": "z1Jfz30OvI9x",
        "outputId": "ee8cbdf9-48d8-4927-a0c5-85a3eb79a109"
      },
      "execution_count": null,
      "outputs": [
        {
          "output_type": "stream",
          "name": "stdout",
          "text": [
            "Predicted Prices: [264468.08510638 304468.08510638]\n",
            "Actual Prices: [300000 350000]\n"
          ]
        }
      ]
    },
    {
      "cell_type": "code",
      "source": [
        "# Calculate evaluation metrics\n",
        "mse = mean_squared_error(y_test, y_pred)\n",
        "r2 = r2_score(y_test, y_pred)\n",
        "\n",
        "print(\"Mean Squared Error (MSE):\", mse)\n",
        "print(\"R-squared (R²):\", r2)"
      ],
      "metadata": {
        "colab": {
          "base_uri": "https://localhost:8080/"
        },
        "id": "Mu2yUDZOvkp6",
        "outputId": "6f4ce122-0af7-41b4-c0bb-cef242dd07ff"
      },
      "execution_count": null,
      "outputs": [
        {
          "output_type": "stream",
          "name": "stdout",
          "text": [
            "Mean Squared Error (MSE): 1667836124.9434166\n",
            "R-squared (R²): -1.6685377999094664\n"
          ]
        }
      ]
    },
    {
      "cell_type": "code",
      "source": [
        "# Example new data\n",
        "new_house = [[1800, 3, 12]]  # [Area, Bedrooms, Age]\n",
        "\n",
        "# Predict the price\n",
        "predicted_price = model.predict(new_house)\n",
        "print(\"Predicted Price for New House:\", predicted_price[0])"
      ],
      "metadata": {
        "colab": {
          "base_uri": "https://localhost:8080/"
        },
        "id": "UuogPw8Kvs-i",
        "outputId": "a9d8c19e-dbdc-44ef-de48-bb9e04eb462a"
      },
      "execution_count": null,
      "outputs": [
        {
          "output_type": "stream",
          "name": "stdout",
          "text": [
            "Predicted Price for New House: 321276.59574468085\n"
          ]
        },
        {
          "output_type": "stream",
          "name": "stderr",
          "text": [
            "/usr/local/lib/python3.10/dist-packages/sklearn/base.py:493: UserWarning: X does not have valid feature names, but LinearRegression was fitted with feature names\n",
            "  warnings.warn(\n"
          ]
        }
      ]
    },
    {
      "cell_type": "markdown",
      "source": [
        "# **Lab 05:** Logistic Regression for Classification"
      ],
      "metadata": {
        "id": "kOhX55oIS4oE"
      }
    },
    {
      "cell_type": "markdown",
      "source": [
        "**Introduction to Logistic Regression**\n",
        "\n",
        "Logistic Regression is a statistical method used for binary classification problems where the target variable has two possible outcomes, such as \"yes\" or \"no,\" \"0\" or \"1\". Instead of predicting raw values, logistic regression predicts probabilities using the logistic (sigmoid) function:\n",
        "\n",
        "<pre>\n",
        "                            1\n",
        "Sigmoid Function: σ(z) = ----------\n",
        "                         1 + e^-z\n",
        "</pre>"
      ],
      "metadata": {
        "id": "2gaXxNbOUJ1K"
      }
    },
    {
      "cell_type": "markdown",
      "source": [
        "The model decision boundary is based on a threshold (commonly 0.5)."
      ],
      "metadata": {
        "id": "2eA8m7WZUvwF"
      }
    },
    {
      "cell_type": "markdown",
      "source": [
        "**Step 1: Import Necessary Libraries**\n",
        "\n",
        "These libraries are essential for data manipulation, visualization, and modeling."
      ],
      "metadata": {
        "id": "8Vck6LkwU6-X"
      }
    },
    {
      "cell_type": "code",
      "source": [
        "import numpy as np\n",
        "import pandas as pd\n",
        "import matplotlib.pyplot as plt\n",
        "import seaborn as sns\n",
        "from sklearn.model_selection import train_test_split\n",
        "from sklearn.linear_model import LogisticRegression\n",
        "from sklearn.metrics import classification_report, confusion_matrix, accuracy_score"
      ],
      "metadata": {
        "id": "AHGTczpiTNN5"
      },
      "execution_count": 1,
      "outputs": []
    },
    {
      "cell_type": "markdown",
      "source": [
        "**Step 2: Load and Explore the Dataset**\n",
        "\n",
        "Use a dataset with binary classification. You can use an open dataset like the Titanic survival dataset or generate a synthetic dataset."
      ],
      "metadata": {
        "id": "5q0T_mcyVBU-"
      }
    },
    {
      "cell_type": "code",
      "source": [
        "# Load dataset\n",
        "# Example: Titanic dataset from seaborn\n",
        "data = sns.load_dataset('titanic')\n",
        "\n",
        "# Select relevant columns\n",
        "df = data[['age', 'fare', 'sex', 'survived']].dropna()\n",
        "\n",
        "# Encode categorical variables\n",
        "df['sex'] = df['sex'].map({'male': 0, 'female': 1})  # Encode 'sex' as 0 or 1\n",
        "\n",
        "# Display the first few rows\n",
        "print(df.head())"
      ],
      "metadata": {
        "colab": {
          "base_uri": "https://localhost:8080/"
        },
        "id": "z55OmG_OVDcV",
        "outputId": "12b20be0-fccf-4439-bf89-f0195dd706c1"
      },
      "execution_count": 4,
      "outputs": [
        {
          "output_type": "stream",
          "name": "stdout",
          "text": [
            "    age     fare  sex  survived\n",
            "0  22.0   7.2500    0         0\n",
            "1  38.0  71.2833    1         1\n",
            "2  26.0   7.9250    1         1\n",
            "3  35.0  53.1000    1         1\n",
            "4  35.0   8.0500    0         0\n"
          ]
        }
      ]
    },
    {
      "cell_type": "markdown",
      "source": [
        "**Step 3: Split the Data**\n",
        "\n",
        "Divide the dataset into training and testing sets."
      ],
      "metadata": {
        "id": "i8e-Q3FTVZkt"
      }
    },
    {
      "cell_type": "code",
      "source": [
        "# Define features (X) and target (y)\n",
        "X = df[['age', 'fare', 'sex']]\n",
        "y = df['survived']\n",
        "\n",
        "# Split data into training and testing sets\n",
        "X_train, X_test, y_train, y_test = train_test_split(X, y, test_size=0.2, random_state=42)\n",
        "\n",
        "print(f\"Training set size: {len(X_train)}\")\n",
        "print(f\"Testing set size: {len(X_test)}\")"
      ],
      "metadata": {
        "colab": {
          "base_uri": "https://localhost:8080/"
        },
        "id": "bY65uyjyVZOR",
        "outputId": "d50c968a-7242-4dcc-a879-9cc9a5a22a1f"
      },
      "execution_count": 5,
      "outputs": [
        {
          "output_type": "stream",
          "name": "stdout",
          "text": [
            "Training set size: 571\n",
            "Testing set size: 143\n"
          ]
        }
      ]
    },
    {
      "cell_type": "markdown",
      "source": [
        "**Step 4: Train Logistic Regression Model**\n",
        "\n",
        "Use the LogisticRegression class from scikit-learn."
      ],
      "metadata": {
        "id": "v64B4BUdVsdi"
      }
    },
    {
      "cell_type": "code",
      "source": [
        "# Initialize and fit logistic regression model\n",
        "model = LogisticRegression()\n",
        "model.fit(X_train, y_train)\n",
        "\n",
        "# Display coefficients\n",
        "print(f\"Coefficients: {model.coef_}\")\n",
        "print(f\"Intercept: {model.intercept_}\")"
      ],
      "metadata": {
        "colab": {
          "base_uri": "https://localhost:8080/"
        },
        "id": "OJCCoGdxVuq8",
        "outputId": "159b025b-2ed4-4585-e05c-18c49f7f8c1b"
      },
      "execution_count": 6,
      "outputs": [
        {
          "output_type": "stream",
          "name": "stdout",
          "text": [
            "Coefficients: [[-0.01835573  0.01281015  2.37028971]]\n",
            "Intercept: [-1.1725499]\n"
          ]
        }
      ]
    },
    {
      "cell_type": "markdown",
      "source": [
        "**Step 5: Evaluate the Model**\n",
        "\n",
        "Make predictions and evaluate model performance."
      ],
      "metadata": {
        "id": "9kfdVVd4V8lG"
      }
    },
    {
      "cell_type": "code",
      "source": [
        "# Make predictions\n",
        "y_pred = model.predict(X_test)\n",
        "\n",
        "# Calculate accuracy\n",
        "accuracy = accuracy_score(y_test, y_pred)\n",
        "print(f\"Accuracy: {accuracy * 100:.2f}%\")\n",
        "\n",
        "# Generate classification report\n",
        "print(\"Classification Report:\")\n",
        "print(classification_report(y_test, y_pred))\n",
        "\n",
        "# Confusion Matrix\n",
        "cm = confusion_matrix(y_test, y_pred)\n",
        "sns.heatmap(cm, annot=True, fmt='d', cmap='Blues')\n",
        "plt.xlabel('Predicted')\n",
        "plt.ylabel('Actual')\n",
        "plt.title('Confusion Matrix')\n",
        "plt.show()"
      ],
      "metadata": {
        "colab": {
          "base_uri": "https://localhost:8080/",
          "height": 675
        },
        "id": "2qdJ816hV7jr",
        "outputId": "24acbe98-ec61-4c6f-d8e8-708a7f382a54"
      },
      "execution_count": 7,
      "outputs": [
        {
          "output_type": "stream",
          "name": "stdout",
          "text": [
            "Accuracy: 74.83%\n",
            "Classification Report:\n",
            "              precision    recall  f1-score   support\n",
            "\n",
            "           0       0.79      0.79      0.79        87\n",
            "           1       0.68      0.68      0.68        56\n",
            "\n",
            "    accuracy                           0.75       143\n",
            "   macro avg       0.74      0.74      0.74       143\n",
            "weighted avg       0.75      0.75      0.75       143\n",
            "\n"
          ]
        },
        {
          "output_type": "display_data",
          "data": {
            "text/plain": [
              "<Figure size 640x480 with 2 Axes>"
            ],
            "image/png": "[encoded data removed]"
          },
          "metadata": {}
        }
      ]
    },
    {
      "cell_type": "code",
      "source": [
        "from matplotlib.colors import ListedColormap\n",
        "\n",
        "# Define the decision boundary\n",
        "def plot_decision_boundary(X, y, model):\n",
        "    x_min, x_max = X.iloc[:, 0].min() - 1, X.iloc[:, 0].max() + 1\n",
        "    y_min, y_max = X.iloc[:, 1].min() - 1, X.iloc[:, 1].max() + 1\n",
        "    xx, yy = np.meshgrid(np.arange(x_min, x_max, 0.1),\n",
        "                         np.arange(y_min, y_max, 0.1))\n",
        "\n",
        "    Z = model.predict(np.c_[xx.ravel(), yy.ravel()])\n",
        "    Z = Z.reshape(xx.shape)\n",
        "\n",
        "    plt.contourf(xx, yy, Z, alpha=0.3, cmap=ListedColormap(('red', 'green')))\n",
        "    plt.scatter(X.iloc[:, 0], X.iloc[:, 1], c=y, cmap=ListedColormap(('red', 'green')), edgecolor='k')\n",
        "    plt.xlabel('Feature 1')\n",
        "    plt.ylabel('Feature 2')\n",
        "    plt.title('Decision Boundary')\n",
        "    plt.show()\n",
        "\n",
        "# Select two features for visualization\n",
        "X_simple = X[['age', 'fare']]\n",
        "plot_decision_boundary(X_simple, y, model)\n"
      ],
      "metadata": {
        "id": "W6keZU-TWYVI"
      },
      "execution_count": null,
      "outputs": []
    },
    {
      "cell_type": "markdown",
      "source": [
        "**Summary**\n",
        "\n",
        "1. Logistic regression is a fundamental binary classification algorithm.\n",
        "2. It uses the sigmoid function to predict probabilities and assigns classes based on a threshold.\n",
        "3. The key steps include data preparation, model training, and evaluation.\n",
        "4. Use confusion matrices and classification reports to interpret the model's performance."
      ],
      "metadata": {
        "id": "m-MyT9y_WcPG"
      }
    },
    {
      "cell_type": "markdown",
      "source": [
        "# **Lab 06:** Decision Trees\n",
        "Objective: Implement a decision tree classifier"
      ],
      "metadata": {
        "id": "m9wPtIwRWqrU"
      }
    },
    {
      "cell_type": "markdown",
      "source": [
        "**Introduction to Decision Trees**\n",
        "\n",
        "A decision tree is a flowchart-like tree structure where:\n",
        "\n",
        "* Internal nodes represent features (or attributes),\n",
        "* Branches represent decision rules, and\n",
        "* Leaf nodes represent outcomes (class labels).\n",
        "\n",
        "The algorithm splits data recursively based on criteria like Gini Impurity or Entropy (Information Gain), aiming to maximize homogeneity in each split."
      ],
      "metadata": {
        "id": "bOh7BKI4Xbvc"
      }
    },
    {
      "cell_type": "code",
      "source": [
        "# Step 1: Import Necessary Libraries\n",
        "import numpy as np\n",
        "import pandas as pd\n",
        "import matplotlib.pyplot as plt\n",
        "import seaborn as sns\n",
        "from sklearn.tree import DecisionTreeClassifier, plot_tree\n",
        "from sklearn.model_selection import train_test_split\n",
        "from sklearn.metrics import classification_report, confusion_matrix, accuracy_score"
      ],
      "metadata": {
        "id": "Bs0Gyi8oXGtg"
      },
      "execution_count": 13,
      "outputs": []
    },
    {
      "cell_type": "code",
      "source": [
        "# Step 2: Load and Explore the Dataset\n",
        "# Load the Iris dataset\n",
        "from sklearn.datasets import load_iris\n",
        "\n",
        "data = load_iris()\n",
        "df = pd.DataFrame(data.data, columns=data.feature_names)\n",
        "df['target'] = data.target\n",
        "\n",
        "# Filter for binary classification (target 0 and 1)\n",
        "df = df[df['target'] != 2]\n",
        "\n",
        "# Display the first few rows\n",
        "print(df.head())"
      ],
      "metadata": {
        "colab": {
          "base_uri": "https://localhost:8080/"
        },
        "id": "eW10pvrrXmwy",
        "outputId": "fec25025-7985-4c5e-f473-b5a0745d7e3a"
      },
      "execution_count": 10,
      "outputs": [
        {
          "output_type": "stream",
          "name": "stdout",
          "text": [
            "   sepal length (cm)  sepal width (cm)  petal length (cm)  petal width (cm)  \\\n",
            "0                5.1               3.5                1.4               0.2   \n",
            "1                4.9               3.0                1.4               0.2   \n",
            "2                4.7               3.2                1.3               0.2   \n",
            "3                4.6               3.1                1.5               0.2   \n",
            "4                5.0               3.6                1.4               0.2   \n",
            "\n",
            "   target  \n",
            "0       0  \n",
            "1       0  \n",
            "2       0  \n",
            "3       0  \n",
            "4       0  \n"
          ]
        }
      ]
    },
    {
      "cell_type": "code",
      "source": [
        "# Step 3: Split the Data\n",
        "# Define features (X) and target (y)\n",
        "X = df.drop('target', axis=1)\n",
        "y = df['target']\n",
        "\n",
        "# Split the dataset\n",
        "X_train, X_test, y_train, y_test = train_test_split(X, y, test_size=0.2, random_state=42)\n",
        "\n",
        "print(f\"Training set size: {len(X_train)}\")\n",
        "print(f\"Testing set size: {len(X_test)}\")"
      ],
      "metadata": {
        "colab": {
          "base_uri": "https://localhost:8080/"
        },
        "id": "xINTYYL5XpDp",
        "outputId": "ecc68fbc-cf52-4b86-f3ad-e6adf7469958"
      },
      "execution_count": 14,
      "outputs": [
        {
          "output_type": "stream",
          "name": "stdout",
          "text": [
            "Training set size: 80\n",
            "Testing set size: 20\n"
          ]
        }
      ]
    },
    {
      "cell_type": "code",
      "source": [
        "# Step 4: Train the Decision Tree Classifier\n",
        "# Initialize and train the decision tree classifier\n",
        "tree_model = DecisionTreeClassifier(criterion='gini', max_depth=3, random_state=42)\n",
        "tree_model.fit(X_train, y_train)\n",
        "\n",
        "# Display tree structure\n",
        "plt.figure(figsize=(12, 8))\n",
        "plot_tree(tree_model, feature_names=data.feature_names, class_names=data.target_names[:2], filled=True)\n",
        "plt.title('Decision Tree Visualization')\n",
        "plt.show()"
      ],
      "metadata": {
        "colab": {
          "base_uri": "https://localhost:8080/",
          "height": 671
        },
        "id": "jBnaX6O9X09j",
        "outputId": "d015aa98-3291-4ad1-acf0-b5eff56572f9"
      },
      "execution_count": 15,
      "outputs": [
        {
          "output_type": "display_data",
          "data": {
            "text/plain": [
              "<Figure size 1200x800 with 1 Axes>"
            ],
            "image/png": "[encoded data removed]"
          },
          "metadata": {}
        }
      ]
    },
    {
      "cell_type": "code",
      "source": [
        "# Step 5: Evaluate the Model\n",
        "# Make predictions\n",
        "y_pred = tree_model.predict(X_test)\n",
        "\n",
        "# Calculate accuracy\n",
        "accuracy = accuracy_score(y_test, y_pred)\n",
        "print(f\"Accuracy: {accuracy * 100:.2f}%\")\n",
        "\n",
        "# Classification Report\n",
        "print(\"Classification Report:\")\n",
        "print(classification_report(y_test, y_pred))\n",
        "\n",
        "# Confusion Matrix\n",
        "cm = confusion_matrix(y_test, y_pred)\n",
        "sns.heatmap(cm, annot=True, fmt='d', cmap='Blues')\n",
        "plt.xlabel('Predicted')\n",
        "plt.ylabel('Actual')\n",
        "plt.title('Confusion Matrix')\n",
        "plt.show()\n"
      ],
      "metadata": {
        "colab": {
          "base_uri": "https://localhost:8080/",
          "height": 675
        },
        "id": "BFSJsyJJYVNU",
        "outputId": "89b014f0-eb94-4be8-dca5-4ed553ec02f8"
      },
      "execution_count": 16,
      "outputs": [
        {
          "output_type": "stream",
          "name": "stdout",
          "text": [
            "Accuracy: 100.00%\n",
            "Classification Report:\n",
            "              precision    recall  f1-score   support\n",
            "\n",
            "           0       1.00      1.00      1.00        12\n",
            "           1       1.00      1.00      1.00         8\n",
            "\n",
            "    accuracy                           1.00        20\n",
            "   macro avg       1.00      1.00      1.00        20\n",
            "weighted avg       1.00      1.00      1.00        20\n",
            "\n"
          ]
        },
        {
          "output_type": "display_data",
          "data": {
            "text/plain": [
              "<Figure size 640x480 with 2 Axes>"
            ],
            "image/png": "[encoded data removed]"
          },
          "metadata": {}
        }
      ]
    },
    {
      "cell_type": "code",
      "source": [
        "# Step 6: Tune the Model\n",
        "# Hyperparameter tuning\n",
        "tree_model_optimized = DecisionTreeClassifier(criterion='entropy', max_depth=5, min_samples_split=4, random_state=42)\n",
        "tree_model_optimized.fit(X_train, y_train)\n",
        "\n",
        "# Evaluate the optimized model\n",
        "y_pred_optimized = tree_model_optimized.predict(X_test)\n",
        "\n",
        "# Accuracy\n",
        "accuracy_optimized = accuracy_score(y_test, y_pred_optimized)\n",
        "print(f\"Optimized Accuracy: {accuracy_optimized * 100:.2f}%\")"
      ],
      "metadata": {
        "colab": {
          "base_uri": "https://localhost:8080/"
        },
        "id": "iHeEoH0mYaK2",
        "outputId": "fb8e9edb-f8b1-4d09-b005-868d2b9aca1c"
      },
      "execution_count": 17,
      "outputs": [
        {
          "output_type": "stream",
          "name": "stdout",
          "text": [
            "Optimized Accuracy: 100.00%\n"
          ]
        }
      ]
    },
    {
      "cell_type": "code",
      "source": [
        "# Step 7: Feature Importance\n",
        "# Feature importance\n",
        "importance = tree_model.feature_importances_\n",
        "feature_importance = pd.DataFrame({'Feature': data.feature_names, 'Importance': importance})\n",
        "feature_importance = feature_importance.sort_values(by='Importance', ascending=False)\n",
        "\n",
        "print(\"Feature Importances:\")\n",
        "print(feature_importance)\n",
        "\n",
        "# Plot feature importance\n",
        "sns.barplot(x='Importance', y='Feature', data=feature_importance)\n",
        "plt.title('Feature Importance')\n",
        "plt.show()"
      ],
      "metadata": {
        "colab": {
          "base_uri": "https://localhost:8080/",
          "height": 583
        },
        "id": "wMUKfWPgYh0o",
        "outputId": "e548885e-9dda-4797-8663-6da1143d6da0"
      },
      "execution_count": 18,
      "outputs": [
        {
          "output_type": "stream",
          "name": "stdout",
          "text": [
            "Feature Importances:\n",
            "             Feature  Importance\n",
            "2  petal length (cm)         1.0\n",
            "0  sepal length (cm)         0.0\n",
            "1   sepal width (cm)         0.0\n",
            "3   petal width (cm)         0.0\n"
          ]
        },
        {
          "output_type": "display_data",
          "data": {
            "text/plain": [
              "<Figure size 640x480 with 1 Axes>"
            ],
            "image/png": "[encoded data removed]"
          },
          "metadata": {}
        }
      ]
    },
    {
      "cell_type": "markdown",
      "source": [
        "# **Lab 07:** Model Evaluate with Confusion Matrix\n",
        "Objective: Evaluate a classification model using a confusion matrix."
      ],
      "metadata": {
        "id": "gqtLJQAXYn2h"
      }
    },
    {
      "cell_type": "markdown",
      "source": [
        "**What is a Confusion Matrix?**\n",
        "\n",
        "A confusion matrix is a table that describes the performance of a classification model by comparing predicted labels with actual labels.\n",
        "\n",
        "For binary classification:\n",
        "<pre>\n",
        "              Predicted\n",
        "            |  Yes  |  No  |\n",
        "    Actual ----------------\n",
        "      Yes   |   TP  |  FN  |\n",
        "      No    |   FP  |  TN  |\n",
        "\n",
        "</pre>\n",
        "* True Positive (TP): Correctly predicted positive instances.\n",
        "* True Negative (TN): Correctly predicted negative instances.\n",
        "* False Positive (FP): Incorrectly predicted positive instances.\n",
        "* False Negative (FN): Incorrectly predicted negative instances."
      ],
      "metadata": {
        "id": "auL6d95OZHc4"
      }
    },
    {
      "cell_type": "code",
      "source": [
        "# Step 1: Import Necessary Libraries\n",
        "import numpy as np\n",
        "import pandas as pd\n",
        "import seaborn as sns\n",
        "import matplotlib.pyplot as plt\n",
        "from sklearn.datasets import load_iris\n",
        "from sklearn.model_selection import train_test_split\n",
        "from sklearn.tree import DecisionTreeClassifier\n",
        "from sklearn.metrics import confusion_matrix, classification_report, ConfusionMatrixDisplay"
      ],
      "metadata": {
        "id": "7GdrP6bfZVf8"
      },
      "execution_count": 20,
      "outputs": []
    },
    {
      "cell_type": "code",
      "source": [
        "# Step 2: Train a Classification Model\n",
        "# Load Iris dataset\n",
        "data = load_iris()\n",
        "df = pd.DataFrame(data.data, columns=data.feature_names)\n",
        "df['target'] = data.target\n",
        "\n",
        "# Use only two classes for binary classification\n",
        "df = df[df['target'] != 2]\n",
        "\n",
        "# Define features and target\n",
        "X = df.drop('target', axis=1)\n",
        "y = df['target']\n",
        "\n",
        "# Split dataset\n",
        "X_train, X_test, y_train, y_test = train_test_split(X, y, test_size=0.2, random_state=42)\n",
        "\n",
        "# Train a decision tree classifier\n",
        "model = DecisionTreeClassifier(random_state=42)\n",
        "model.fit(X_train, y_train)\n",
        "\n",
        "# Make predictions\n",
        "y_pred = model.predict(X_test)"
      ],
      "metadata": {
        "id": "FzVJOkiJZY_J"
      },
      "execution_count": 21,
      "outputs": []
    },
    {
      "cell_type": "code",
      "source": [
        "# Step 3: Generate the Confusion Matrix\n",
        "# Generate the confusion matrix\n",
        "cm = confusion_matrix(y_test, y_pred)\n",
        "print(\"Confusion Matrix:\")\n",
        "print(cm)\n",
        "\n",
        "# Visualize the confusion matrix\n",
        "sns.heatmap(cm, annot=True, fmt='d', cmap='Blues')\n",
        "plt.xlabel('Predicted')\n",
        "plt.ylabel('Actual')\n",
        "plt.title('Confusion Matrix Heatmap')\n",
        "plt.show()"
      ],
      "metadata": {
        "colab": {
          "base_uri": "https://localhost:8080/",
          "height": 527
        },
        "id": "RenbRo2QZkVA",
        "outputId": "7385c207-bfc0-447c-d686-fa4ed937a2c0"
      },
      "execution_count": 22,
      "outputs": [
        {
          "output_type": "stream",
          "name": "stdout",
          "text": [
            "Confusion Matrix:\n",
            "[[12  0]\n",
            " [ 0  8]]\n"
          ]
        },
        {
          "output_type": "display_data",
          "data": {
            "text/plain": [
              "<Figure size 640x480 with 2 Axes>"
            ],
            "image/png": "[encoded data removed]"
          },
          "metadata": {}
        }
      ]
    },
    {
      "cell_type": "code",
      "source": [
        "# Step 4: Interpret the Confusion Matrix\n",
        "# Extract values from confusion matrix\n",
        "TN, FP, FN, TP = cm.ravel()\n",
        "\n",
        "# Metrics\n",
        "accuracy = (TP + TN) / (TP + TN + FP + FN)\n",
        "precision = TP / (TP + FP) if (TP + FP) > 0 else 0\n",
        "recall = TP / (TP + FN) if (TP + FN) > 0 else 0\n",
        "f1_score = 2 * (precision * recall) / (precision + recall) if (precision + recall) > 0 else 0\n",
        "\n",
        "print(f\"Accuracy: {accuracy:.2f}\")\n",
        "print(f\"Precision: {precision:.2f}\")\n",
        "print(f\"Recall: {recall:.2f}\")\n",
        "print(f\"F1-Score: {f1_score:.2f}\")"
      ],
      "metadata": {
        "colab": {
          "base_uri": "https://localhost:8080/"
        },
        "id": "9Z204ICmZpAx",
        "outputId": "7b082860-1b7c-4756-f0d4-c065c10b1a6c"
      },
      "execution_count": 23,
      "outputs": [
        {
          "output_type": "stream",
          "name": "stdout",
          "text": [
            "Accuracy: 1.00\n",
            "Precision: 1.00\n",
            "Recall: 1.00\n",
            "F1-Score: 1.00\n"
          ]
        }
      ]
    },
    {
      "cell_type": "code",
      "source": [
        "# Step 5: Display the Classification Report\n",
        "# Generate classification report\n",
        "report = classification_report(y_test, y_pred, target_names=data.target_names[:2])\n",
        "print(\"Classification Report:\")\n",
        "print(report)"
      ],
      "metadata": {
        "colab": {
          "base_uri": "https://localhost:8080/"
        },
        "id": "Guwp3TXZZs1j",
        "outputId": "e2453ab5-8806-4623-ce9e-b2b867fc83af"
      },
      "execution_count": 24,
      "outputs": [
        {
          "output_type": "stream",
          "name": "stdout",
          "text": [
            "Classification Report:\n",
            "              precision    recall  f1-score   support\n",
            "\n",
            "      setosa       1.00      1.00      1.00        12\n",
            "  versicolor       1.00      1.00      1.00         8\n",
            "\n",
            "    accuracy                           1.00        20\n",
            "   macro avg       1.00      1.00      1.00        20\n",
            "weighted avg       1.00      1.00      1.00        20\n",
            "\n"
          ]
        }
      ]
    },
    {
      "cell_type": "code",
      "source": [
        "# Step 6: Visualize the Confusion Matrix Using ConfusionMatrixDisplay\n",
        "\n",
        "# Display confusion matrix\n",
        "disp = ConfusionMatrixDisplay(confusion_matrix=cm, display_labels=data.target_names[:2])\n",
        "disp.plot(cmap='Blues')\n",
        "plt.title('Confusion Matrix Visualization')\n",
        "plt.show()"
      ],
      "metadata": {
        "colab": {
          "base_uri": "https://localhost:8080/",
          "height": 472
        },
        "id": "lhfwZBTrZxI1",
        "outputId": "e20fadbc-702f-4616-b34f-3cfc5c317755"
      },
      "execution_count": 25,
      "outputs": [
        {
          "output_type": "display_data",
          "data": {
            "text/plain": [
              "<Figure size 640x480 with 2 Axes>"
            ],
            "image/png": "[encoded data removed]"
          },
          "metadata": {}
        }
      ]
    },
    {
      "cell_type": "markdown",
      "source": [
        "**Summary**\n",
        "\n",
        "The confusion matrix provides insights into a model's performance:\n",
        "\n",
        "* Accuracy: The proportion of correct predictions.\n",
        "* Precision: The ratio of correctly predicted positive instances to total predicted positives.\n",
        "* Recall: The ratio of correctly predicted positives to all actual positives.\n",
        "* F1-Score: A harmonic mean of precision and recall."
      ],
      "metadata": {
        "id": "GXA6mr_sZ3Ws"
      }
    }
  ]
}