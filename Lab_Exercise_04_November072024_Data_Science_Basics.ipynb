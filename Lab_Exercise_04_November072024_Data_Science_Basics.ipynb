{
  "nbformat": 4,
  "nbformat_minor": 0,
  "metadata": {
    "colab": {
      "provenance": [],
      "collapsed_sections": [
        "HV0WzUK8i9FQ",
        "ss-lFEdUm2yv",
        "vvX2Qd4XhEP7",
        "9lJk8z6Jw3Qp",
        "cdxbefrxp4C4",
        "yBO9GWxV2Skw"
      ],
      "include_colab_link": true
    },
    "kernelspec": {
      "name": "python3",
      "display_name": "Python 3"
    },
    "language_info": {
      "name": "python"
    }
  },
  "cells": [
    {
      "cell_type": "markdown",
      "metadata": {
        "id": "view-in-github",
        "colab_type": "text"
      },
      "source": [
        "<a href=\"https://colab.research.google.com/github/shivannadm/Data_Science_path/blob/main/Lab_Exercise_04_November072024_Data_Science_Basics.ipynb\" target=\"_parent\"><img src=\"https://colab.research.google.com/assets/colab-badge.svg\" alt=\"Open In Colab\"/></a>"
      ]
    },
    {
      "cell_type": "markdown",
      "source": [
        "# **Data Science**"
      ],
      "metadata": {
        "id": "dYL8cflCqeWQ"
      }
    },
    {
      "cell_type": "markdown",
      "source": [
        "# Data Science Basics\n",
        "\n",
        "***Lab 1: Setting Up Your Jupyter Notebook Environment***\n",
        "\n",
        "**Objective:** Install Jupyter Notebook and familiarize yourself with the interface.\n",
        "\n",
        "**Installation Steps:**\n",
        "1. **Install Anaconda (which includes Jupyter):**\n",
        "Go to the Anaconda distribution page.\n",
        "Download the installer for your operating system.\n",
        "Follow the installation instructions.\n",
        "2. **Launch Jupyter Notebook:**\n",
        "Open Anaconda Navigator.o Click on \"Launch\" under Jupyter Notebook.\n",
        "\n",
        "**Instructions:**\n",
        "Create a new notebook by clicking \"New\" and selecting 3.\n",
        "Rename the notebook to \"Lab1_Setup\".\n",
        "_______________________________________________________________\n",
        "\n",
        "***Lab 2: Basic Syntax***\n",
        "\n",
        "**Objective:** Review basic syntax.\n",
        "Instructions:\n",
        "\n",
        "Create a new notebook called \"Lab2_Basic_Syntax\".\n",
        "__________________________________________________________________\n",
        "\n",
        "***Lab 3: Data Manipulation with Pandas***\n",
        "\n",
        "**Objective:** Learn how to manipulate data using the Pandas library.\n",
        "\n",
        "***Installation Steps***:\n",
        "\n",
        "Open your Jupyter Notebook and install Pandas using the following command in a new cell:\n",
        "\n",
        "<code>!pip install pandas</code>\n",
        "\n",
        "**Instructions:**\n",
        "\n",
        "Create a new notebook named \"Lab3_Pandas\"."
      ],
      "metadata": {
        "id": "SFbzcGjabkdm"
      }
    },
    {
      "cell_type": "markdown",
      "source": [
        "# Lab 3: Data Manipulation with Pandas"
      ],
      "metadata": {
        "id": "HV0WzUK8i9FQ"
      }
    },
    {
      "cell_type": "code",
      "source": [
        "import pandas as pd\n",
        "\n",
        "data = {\n",
        "    'Rank':[1,2,3,4,5],\n",
        "    'Name':['BMW','AUDI','TATA','MARUTI','MAHINDRA'],\n",
        "    'Model':['M6','Q7','Curv','800','THAR'],\n",
        "    'price(lakhs)':[112,89,23,2.35,19]\n",
        "}\n",
        "\n",
        "df = pd.DataFrame(data)\n",
        "print(df)"
      ],
      "metadata": {
        "colab": {
          "base_uri": "https://localhost:8080/"
        },
        "id": "jN8Udmy3JBNG",
        "outputId": "ad61a5f1-659c-4bcd-bb10-82a0b3a13388"
      },
      "execution_count": null,
      "outputs": [
        {
          "output_type": "stream",
          "name": "stdout",
          "text": [
            "   Rank      Name Model  price(lakhs)\n",
            "0     1       BMW    M6        112.00\n",
            "1     2      AUDI    Q7         89.00\n",
            "2     3      TATA  Curv         23.00\n",
            "3     4    MARUTI   800          2.35\n",
            "4     5  MAHINDRA  THAR         19.00\n"
          ]
        }
      ]
    },
    {
      "cell_type": "code",
      "source": [
        "df['Engine']=['2.2L D','2.2L P','1.8L','1.6L','2.0L Turbo']\n",
        "print(df)"
      ],
      "metadata": {
        "colab": {
          "base_uri": "https://localhost:8080/"
        },
        "id": "08n4eUBTJebm",
        "outputId": "4f357eff-1836-43d1-c353-dccb0c8c1e8a"
      },
      "execution_count": null,
      "outputs": [
        {
          "output_type": "stream",
          "name": "stdout",
          "text": [
            "   Rank      Name Model  price(lakhs)      Engine\n",
            "0     1       BMW    M6        112.00      2.2L D\n",
            "1     2      AUDI    Q7         89.00      2.2L P\n",
            "2     3      TATA  Curv         23.00        1.8L\n",
            "3     4    MARUTI   800          2.35        1.6L\n",
            "4     5  MAHINDRA  THAR         19.00  2.0L Turbo\n"
          ]
        }
      ]
    },
    {
      "cell_type": "code",
      "source": [
        "df['price(lakhs)'].std()\n",
        "# df.mean(['price(lakhs)'])"
      ],
      "metadata": {
        "colab": {
          "base_uri": "https://localhost:8080/"
        },
        "id": "NcJH8Y-hzZAY",
        "outputId": "db5e409d-1b97-4ab5-d57c-3cfbca1ebd91"
      },
      "execution_count": null,
      "outputs": [
        {
          "output_type": "execute_result",
          "data": {
            "text/plain": [
              "48.27317578117272"
            ]
          },
          "metadata": {},
          "execution_count": 19
        }
      ]
    },
    {
      "cell_type": "code",
      "source": [
        "df[df['price(lakhs)']>20]"
      ],
      "metadata": {
        "colab": {
          "base_uri": "https://localhost:8080/",
          "height": 143
        },
        "id": "2pzZj34hKx12",
        "outputId": "af180847-5701-4e0d-cefe-bccaf6dd90a1"
      },
      "execution_count": null,
      "outputs": [
        {
          "output_type": "execute_result",
          "data": {
            "text/plain": [
              "   Rank  Name Model  price(lakhs)  Engine\n",
              "0     1   BMW    M6         112.0  2.2L D\n",
              "1     2  AUDI    Q7          89.0  2.2L P\n",
              "2     3  TATA  Curv          23.0    1.8L"
            ],
            "text/html": [
              "\n",
              "  <div id=\"df-e6508df3-c828-4241-a6fa-c89dad0e3186\" class=\"colab-df-container\">\n",
              "    <div>\n",
              "<style scoped>\n",
              "    .dataframe tbody tr th:only-of-type {\n",
              "        vertical-align: middle;\n",
              "    }\n",
              "\n",
              "    .dataframe tbody tr th {\n",
              "        vertical-align: top;\n",
              "    }\n",
              "\n",
              "    .dataframe thead th {\n",
              "        text-align: right;\n",
              "    }\n",
              "</style>\n",
              "<table border=\"1\" class=\"dataframe\">\n",
              "  <thead>\n",
              "    <tr style=\"text-align: right;\">\n",
              "      <th></th>\n",
              "      <th>Rank</th>\n",
              "      <th>Name</th>\n",
              "      <th>Model</th>\n",
              "      <th>price(lakhs)</th>\n",
              "      <th>Engine</th>\n",
              "    </tr>\n",
              "  </thead>\n",
              "  <tbody>\n",
              "    <tr>\n",
              "      <th>0</th>\n",
              "      <td>1</td>\n",
              "      <td>BMW</td>\n",
              "      <td>M6</td>\n",
              "      <td>112.0</td>\n",
              "      <td>2.2L D</td>\n",
              "    </tr>\n",
              "    <tr>\n",
              "      <th>1</th>\n",
              "      <td>2</td>\n",
              "      <td>AUDI</td>\n",
              "      <td>Q7</td>\n",
              "      <td>89.0</td>\n",
              "      <td>2.2L P</td>\n",
              "    </tr>\n",
              "    <tr>\n",
              "      <th>2</th>\n",
              "      <td>3</td>\n",
              "      <td>TATA</td>\n",
              "      <td>Curv</td>\n",
              "      <td>23.0</td>\n",
              "      <td>1.8L</td>\n",
              "    </tr>\n",
              "  </tbody>\n",
              "</table>\n",
              "</div>\n",
              "    <div class=\"colab-df-buttons\">\n",
              "\n",
              "  <div class=\"colab-df-container\">\n",
              "    <button class=\"colab-df-convert\" onclick=\"convertToInteractive('df-e6508df3-c828-4241-a6fa-c89dad0e3186')\"\n",
              "            title=\"Convert this dataframe to an interactive table.\"\n",
              "            style=\"display:none;\">\n",
              "\n",
              "  <svg xmlns=\"http://www.w3.org/2000/svg\" height=\"24px\" viewBox=\"0 -960 960 960\">\n",
              "    <path d=\"M120-120v-720h720v720H120Zm60-500h600v-160H180v160Zm220 220h160v-160H400v160Zm0 220h160v-160H400v160ZM180-400h160v-160H180v160Zm440 0h160v-160H620v160ZM180-180h160v-160H180v160Zm440 0h160v-160H620v160Z\"/>\n",
              "  </svg>\n",
              "    </button>\n",
              "\n",
              "  <style>\n",
              "    .colab-df-container {\n",
              "      display:flex;\n",
              "      gap: 12px;\n",
              "    }\n",
              "\n",
              "    .colab-df-convert {\n",
              "      background-color: #E8F0FE;\n",
              "      border: none;\n",
              "      border-radius: 50%;\n",
              "      cursor: pointer;\n",
              "      display: none;\n",
              "      fill: #1967D2;\n",
              "      height: 32px;\n",
              "      padding: 0 0 0 0;\n",
              "      width: 32px;\n",
              "    }\n",
              "\n",
              "    .colab-df-convert:hover {\n",
              "      background-color: #E2EBFA;\n",
              "      box-shadow: 0px 1px 2px rgba(60, 64, 67, 0.3), 0px 1px 3px 1px rgba(60, 64, 67, 0.15);\n",
              "      fill: #174EA6;\n",
              "    }\n",
              "\n",
              "    .colab-df-buttons div {\n",
              "      margin-bottom: 4px;\n",
              "    }\n",
              "\n",
              "    [theme=dark] .colab-df-convert {\n",
              "      background-color: #3B4455;\n",
              "      fill: #D2E3FC;\n",
              "    }\n",
              "\n",
              "    [theme=dark] .colab-df-convert:hover {\n",
              "      background-color: #434B5C;\n",
              "      box-shadow: 0px 1px 3px 1px rgba(0, 0, 0, 0.15);\n",
              "      filter: drop-shadow(0px 1px 2px rgba(0, 0, 0, 0.3));\n",
              "      fill: #FFFFFF;\n",
              "    }\n",
              "  </style>\n",
              "\n",
              "    <script>\n",
              "      const buttonEl =\n",
              "        document.querySelector('#df-e6508df3-c828-4241-a6fa-c89dad0e3186 button.colab-df-convert');\n",
              "      buttonEl.style.display =\n",
              "        google.colab.kernel.accessAllowed ? 'block' : 'none';\n",
              "\n",
              "      async function convertToInteractive(key) {\n",
              "        const element = document.querySelector('#df-e6508df3-c828-4241-a6fa-c89dad0e3186');\n",
              "        const dataTable =\n",
              "          await google.colab.kernel.invokeFunction('convertToInteractive',\n",
              "                                                    [key], {});\n",
              "        if (!dataTable) return;\n",
              "\n",
              "        const docLinkHtml = 'Like what you see? Visit the ' +\n",
              "          '<a target=\"_blank\" href=https://colab.research.google.com/notebooks/data_table.ipynb>data table notebook</a>'\n",
              "          + ' to learn more about interactive tables.';\n",
              "        element.innerHTML = '';\n",
              "        dataTable['output_type'] = 'display_data';\n",
              "        await google.colab.output.renderOutput(dataTable, element);\n",
              "        const docLink = document.createElement('div');\n",
              "        docLink.innerHTML = docLinkHtml;\n",
              "        element.appendChild(docLink);\n",
              "      }\n",
              "    </script>\n",
              "  </div>\n",
              "\n",
              "\n",
              "<div id=\"df-ca2cb809-7d28-4cf7-95ab-80f429979a89\">\n",
              "  <button class=\"colab-df-quickchart\" onclick=\"quickchart('df-ca2cb809-7d28-4cf7-95ab-80f429979a89')\"\n",
              "            title=\"Suggest charts\"\n",
              "            style=\"display:none;\">\n",
              "\n",
              "<svg xmlns=\"http://www.w3.org/2000/svg\" height=\"24px\"viewBox=\"0 0 24 24\"\n",
              "     width=\"24px\">\n",
              "    <g>\n",
              "        <path d=\"M19 3H5c-1.1 0-2 .9-2 2v14c0 1.1.9 2 2 2h14c1.1 0 2-.9 2-2V5c0-1.1-.9-2-2-2zM9 17H7v-7h2v7zm4 0h-2V7h2v10zm4 0h-2v-4h2v4z\"/>\n",
              "    </g>\n",
              "</svg>\n",
              "  </button>\n",
              "\n",
              "<style>\n",
              "  .colab-df-quickchart {\n",
              "      --bg-color: #E8F0FE;\n",
              "      --fill-color: #1967D2;\n",
              "      --hover-bg-color: #E2EBFA;\n",
              "      --hover-fill-color: #174EA6;\n",
              "      --disabled-fill-color: #AAA;\n",
              "      --disabled-bg-color: #DDD;\n",
              "  }\n",
              "\n",
              "  [theme=dark] .colab-df-quickchart {\n",
              "      --bg-color: #3B4455;\n",
              "      --fill-color: #D2E3FC;\n",
              "      --hover-bg-color: #434B5C;\n",
              "      --hover-fill-color: #FFFFFF;\n",
              "      --disabled-bg-color: #3B4455;\n",
              "      --disabled-fill-color: #666;\n",
              "  }\n",
              "\n",
              "  .colab-df-quickchart {\n",
              "    background-color: var(--bg-color);\n",
              "    border: none;\n",
              "    border-radius: 50%;\n",
              "    cursor: pointer;\n",
              "    display: none;\n",
              "    fill: var(--fill-color);\n",
              "    height: 32px;\n",
              "    padding: 0;\n",
              "    width: 32px;\n",
              "  }\n",
              "\n",
              "  .colab-df-quickchart:hover {\n",
              "    background-color: var(--hover-bg-color);\n",
              "    box-shadow: 0 1px 2px rgba(60, 64, 67, 0.3), 0 1px 3px 1px rgba(60, 64, 67, 0.15);\n",
              "    fill: var(--button-hover-fill-color);\n",
              "  }\n",
              "\n",
              "  .colab-df-quickchart-complete:disabled,\n",
              "  .colab-df-quickchart-complete:disabled:hover {\n",
              "    background-color: var(--disabled-bg-color);\n",
              "    fill: var(--disabled-fill-color);\n",
              "    box-shadow: none;\n",
              "  }\n",
              "\n",
              "  .colab-df-spinner {\n",
              "    border: 2px solid var(--fill-color);\n",
              "    border-color: transparent;\n",
              "    border-bottom-color: var(--fill-color);\n",
              "    animation:\n",
              "      spin 1s steps(1) infinite;\n",
              "  }\n",
              "\n",
              "  @keyframes spin {\n",
              "    0% {\n",
              "      border-color: transparent;\n",
              "      border-bottom-color: var(--fill-color);\n",
              "      border-left-color: var(--fill-color);\n",
              "    }\n",
              "    20% {\n",
              "      border-color: transparent;\n",
              "      border-left-color: var(--fill-color);\n",
              "      border-top-color: var(--fill-color);\n",
              "    }\n",
              "    30% {\n",
              "      border-color: transparent;\n",
              "      border-left-color: var(--fill-color);\n",
              "      border-top-color: var(--fill-color);\n",
              "      border-right-color: var(--fill-color);\n",
              "    }\n",
              "    40% {\n",
              "      border-color: transparent;\n",
              "      border-right-color: var(--fill-color);\n",
              "      border-top-color: var(--fill-color);\n",
              "    }\n",
              "    60% {\n",
              "      border-color: transparent;\n",
              "      border-right-color: var(--fill-color);\n",
              "    }\n",
              "    80% {\n",
              "      border-color: transparent;\n",
              "      border-right-color: var(--fill-color);\n",
              "      border-bottom-color: var(--fill-color);\n",
              "    }\n",
              "    90% {\n",
              "      border-color: transparent;\n",
              "      border-bottom-color: var(--fill-color);\n",
              "    }\n",
              "  }\n",
              "</style>\n",
              "\n",
              "  <script>\n",
              "    async function quickchart(key) {\n",
              "      const quickchartButtonEl =\n",
              "        document.querySelector('#' + key + ' button');\n",
              "      quickchartButtonEl.disabled = true;  // To prevent multiple clicks.\n",
              "      quickchartButtonEl.classList.add('colab-df-spinner');\n",
              "      try {\n",
              "        const charts = await google.colab.kernel.invokeFunction(\n",
              "            'suggestCharts', [key], {});\n",
              "      } catch (error) {\n",
              "        console.error('Error during call to suggestCharts:', error);\n",
              "      }\n",
              "      quickchartButtonEl.classList.remove('colab-df-spinner');\n",
              "      quickchartButtonEl.classList.add('colab-df-quickchart-complete');\n",
              "    }\n",
              "    (() => {\n",
              "      let quickchartButtonEl =\n",
              "        document.querySelector('#df-ca2cb809-7d28-4cf7-95ab-80f429979a89 button');\n",
              "      quickchartButtonEl.style.display =\n",
              "        google.colab.kernel.accessAllowed ? 'block' : 'none';\n",
              "    })();\n",
              "  </script>\n",
              "</div>\n",
              "\n",
              "    </div>\n",
              "  </div>\n"
            ],
            "application/vnd.google.colaboratory.intrinsic+json": {
              "type": "dataframe",
              "summary": "{\n  \"name\": \"df[df['price(lakhs)']>20]\",\n  \"rows\": 3,\n  \"fields\": [\n    {\n      \"column\": \"Rank\",\n      \"properties\": {\n        \"dtype\": \"number\",\n        \"std\": 1,\n        \"min\": 1,\n        \"max\": 3,\n        \"num_unique_values\": 3,\n        \"samples\": [\n          1,\n          2,\n          3\n        ],\n        \"semantic_type\": \"\",\n        \"description\": \"\"\n      }\n    },\n    {\n      \"column\": \"Name\",\n      \"properties\": {\n        \"dtype\": \"string\",\n        \"num_unique_values\": 3,\n        \"samples\": [\n          \"BMW\",\n          \"AUDI\",\n          \"TATA\"\n        ],\n        \"semantic_type\": \"\",\n        \"description\": \"\"\n      }\n    },\n    {\n      \"column\": \"Model\",\n      \"properties\": {\n        \"dtype\": \"string\",\n        \"num_unique_values\": 3,\n        \"samples\": [\n          \"M6\",\n          \"Q7\",\n          \"Curv\"\n        ],\n        \"semantic_type\": \"\",\n        \"description\": \"\"\n      }\n    },\n    {\n      \"column\": \"price(lakhs)\",\n      \"properties\": {\n        \"dtype\": \"number\",\n        \"std\": 46.1988455844227,\n        \"min\": 23.0,\n        \"max\": 112.0,\n        \"num_unique_values\": 3,\n        \"samples\": [\n          112.0,\n          89.0,\n          23.0\n        ],\n        \"semantic_type\": \"\",\n        \"description\": \"\"\n      }\n    },\n    {\n      \"column\": \"Engine\",\n      \"properties\": {\n        \"dtype\": \"string\",\n        \"num_unique_values\": 3,\n        \"samples\": [\n          \"2.2L D\",\n          \"2.2L P\",\n          \"1.8L\"\n        ],\n        \"semantic_type\": \"\",\n        \"description\": \"\"\n      }\n    }\n  ]\n}"
            }
          },
          "metadata": {},
          "execution_count": 13
        }
      ]
    },
    {
      "cell_type": "code",
      "source": [
        "df.groupby('Model')['price(lakhs)'].mean()"
      ],
      "metadata": {
        "colab": {
          "base_uri": "https://localhost:8080/",
          "height": 272
        },
        "id": "aIk9dlcwLIVW",
        "outputId": "e15e3c9e-64c3-4a06-fe1e-65ec27c06faa"
      },
      "execution_count": null,
      "outputs": [
        {
          "output_type": "execute_result",
          "data": {
            "text/plain": [
              "Model\n",
              "800       2.35\n",
              "Curv     23.00\n",
              "M6      112.00\n",
              "Q7       89.00\n",
              "THAR     19.00\n",
              "Name: price(lakhs), dtype: float64"
            ],
            "text/html": [
              "<div>\n",
              "<style scoped>\n",
              "    .dataframe tbody tr th:only-of-type {\n",
              "        vertical-align: middle;\n",
              "    }\n",
              "\n",
              "    .dataframe tbody tr th {\n",
              "        vertical-align: top;\n",
              "    }\n",
              "\n",
              "    .dataframe thead th {\n",
              "        text-align: right;\n",
              "    }\n",
              "</style>\n",
              "<table border=\"1\" class=\"dataframe\">\n",
              "  <thead>\n",
              "    <tr style=\"text-align: right;\">\n",
              "      <th></th>\n",
              "      <th>price(lakhs)</th>\n",
              "    </tr>\n",
              "    <tr>\n",
              "      <th>Model</th>\n",
              "      <th></th>\n",
              "    </tr>\n",
              "  </thead>\n",
              "  <tbody>\n",
              "    <tr>\n",
              "      <th>800</th>\n",
              "      <td>2.35</td>\n",
              "    </tr>\n",
              "    <tr>\n",
              "      <th>Curv</th>\n",
              "      <td>23.00</td>\n",
              "    </tr>\n",
              "    <tr>\n",
              "      <th>M6</th>\n",
              "      <td>112.00</td>\n",
              "    </tr>\n",
              "    <tr>\n",
              "      <th>Q7</th>\n",
              "      <td>89.00</td>\n",
              "    </tr>\n",
              "    <tr>\n",
              "      <th>THAR</th>\n",
              "      <td>19.00</td>\n",
              "    </tr>\n",
              "  </tbody>\n",
              "</table>\n",
              "</div><br><label><b>dtype:</b> float64</label>"
            ]
          },
          "metadata": {},
          "execution_count": 20
        }
      ]
    },
    {
      "cell_type": "code",
      "source": [
        "df.to_csv('output.csv', index=True)"
      ],
      "metadata": {
        "id": "2PkuEn2RLqL1"
      },
      "execution_count": null,
      "outputs": []
    },
    {
      "cell_type": "code",
      "source": [
        "print(df.isnull())"
      ],
      "metadata": {
        "colab": {
          "base_uri": "https://localhost:8080/"
        },
        "id": "PQVOatgoL7k1",
        "outputId": "95efdd26-79bb-41ff-c73f-26b85bb6d7c1"
      },
      "execution_count": null,
      "outputs": [
        {
          "output_type": "stream",
          "name": "stdout",
          "text": [
            "    Rank   Name  Model  price(lakhs)\n",
            "0  False  False  False         False\n",
            "1  False  False  False         False\n",
            "2  False  False  False         False\n",
            "3  False  False  False         False\n",
            "4  False  False  False         False\n"
          ]
        }
      ]
    },
    {
      "cell_type": "code",
      "source": [
        "df1 = df.copy()\n",
        "print(df1)"
      ],
      "metadata": {
        "colab": {
          "base_uri": "https://localhost:8080/"
        },
        "id": "2J4EnePUyAqZ",
        "outputId": "996d0e36-3ab5-4fe6-ec86-1d7ec658ae7c"
      },
      "execution_count": null,
      "outputs": [
        {
          "output_type": "stream",
          "name": "stdout",
          "text": [
            "   Rank      Name Model  price(lakhs)\n",
            "0     1       BMW    M6         112.0\n",
            "1     2      AUDI    Q7          89.0\n",
            "2     3      TATA  Curv          23.0\n",
            "3     4    MARUTI   800           NaN\n",
            "4     5  MAHINDRA  THAR          19.0\n"
          ]
        }
      ]
    },
    {
      "cell_type": "code",
      "source": [
        "df['price(lakhs)'] = [112,89,23,None,19]\n",
        "print(df)"
      ],
      "metadata": {
        "colab": {
          "base_uri": "https://localhost:8080/"
        },
        "id": "R07T6iweweVq",
        "outputId": "cd7199ce-9bf4-46af-fb00-5e511c80f7b8"
      },
      "execution_count": null,
      "outputs": [
        {
          "output_type": "stream",
          "name": "stdout",
          "text": [
            "   Rank      Name Model  price(lakhs)\n",
            "0     1       BMW    M6         112.0\n",
            "1     2      AUDI    Q7          89.0\n",
            "2     3      TATA  Curv          23.0\n",
            "3     4    MARUTI   800           NaN\n",
            "4     5  MAHINDRA  THAR          19.0\n"
          ]
        }
      ]
    },
    {
      "cell_type": "code",
      "source": [
        "df['price(lakhs)'].fillna(df['price(lakhs)'].mean())\n",
        "print(df)"
      ],
      "metadata": {
        "colab": {
          "base_uri": "https://localhost:8080/"
        },
        "id": "mhaK7-DRwrFK",
        "outputId": "8ecc0d66-1569-432e-9c9f-c3ef3d74e75d"
      },
      "execution_count": null,
      "outputs": [
        {
          "output_type": "stream",
          "name": "stdout",
          "text": [
            "   Rank      Name Model  price(lakhs)\n",
            "0     1       BMW    M6        112.00\n",
            "1     2      AUDI    Q7         89.00\n",
            "2     3      TATA  Curv         23.00\n",
            "3     4    MARUTI   800         60.75\n",
            "4     5  MAHINDRA  THAR         19.00\n"
          ]
        }
      ]
    },
    {
      "cell_type": "code",
      "source": [
        "df1['price(lakhs)'].dropna()"
      ],
      "metadata": {
        "colab": {
          "base_uri": "https://localhost:8080/",
          "height": 209
        },
        "id": "-yiNvrdgxZOn",
        "outputId": "229315f5-2eba-4bc1-b07b-d4da891a6f06"
      },
      "execution_count": null,
      "outputs": [
        {
          "output_type": "execute_result",
          "data": {
            "text/plain": [
              "0    112.0\n",
              "1     89.0\n",
              "2     23.0\n",
              "4     19.0\n",
              "Name: price(lakhs), dtype: float64"
            ],
            "text/html": [
              "<div>\n",
              "<style scoped>\n",
              "    .dataframe tbody tr th:only-of-type {\n",
              "        vertical-align: middle;\n",
              "    }\n",
              "\n",
              "    .dataframe tbody tr th {\n",
              "        vertical-align: top;\n",
              "    }\n",
              "\n",
              "    .dataframe thead th {\n",
              "        text-align: right;\n",
              "    }\n",
              "</style>\n",
              "<table border=\"1\" class=\"dataframe\">\n",
              "  <thead>\n",
              "    <tr style=\"text-align: right;\">\n",
              "      <th></th>\n",
              "      <th>price(lakhs)</th>\n",
              "    </tr>\n",
              "  </thead>\n",
              "  <tbody>\n",
              "    <tr>\n",
              "      <th>0</th>\n",
              "      <td>112.0</td>\n",
              "    </tr>\n",
              "    <tr>\n",
              "      <th>1</th>\n",
              "      <td>89.0</td>\n",
              "    </tr>\n",
              "    <tr>\n",
              "      <th>2</th>\n",
              "      <td>23.0</td>\n",
              "    </tr>\n",
              "    <tr>\n",
              "      <th>4</th>\n",
              "      <td>19.0</td>\n",
              "    </tr>\n",
              "  </tbody>\n",
              "</table>\n",
              "</div><br><label><b>dtype:</b> float64</label>"
            ]
          },
          "metadata": {},
          "execution_count": 41
        }
      ]
    },
    {
      "cell_type": "code",
      "source": [
        "df.loc[df.index[1], 'Rank']"
      ],
      "metadata": {
        "colab": {
          "base_uri": "https://localhost:8080/"
        },
        "id": "qEkh0JhouePt",
        "outputId": "fa488f48-cba1-4431-ddb8-4ac09436f234"
      },
      "execution_count": null,
      "outputs": [
        {
          "output_type": "execute_result",
          "data": {
            "text/plain": [
              "2"
            ]
          },
          "metadata": {},
          "execution_count": 18
        }
      ]
    },
    {
      "cell_type": "code",
      "source": [
        "import pandas as pd\n",
        "\n",
        "# Step 1: Create DataFrame\n",
        "data = {\n",
        "    'Name': ['Alice', 'Bob', 'Charlie', 'David'],\n",
        "    'Age': [24, 27, 22, 32],\n",
        "    'City': ['New York', 'Los Angeles', 'Chicago', 'Houston']\n",
        "}\n",
        "df = pd.DataFrame(data)\n",
        "\n",
        "# Step 2: Add new column\n",
        "df['Salary'] = [50000, 60000, 55000, 70000]\n",
        "\n",
        "# Step 3: Filter data - People older than 25\n",
        "df_over_25 = df[df['Age'] > 25]\n",
        "print(\"People over 25:\\n\", df_over_25)\n",
        "\n",
        "# Step 4: Group by City and get the average age\n",
        "age_by_city = df.groupby('City')['Age'].mean()\n",
        "print(\"\\nAverage age by city:\\n\", age_by_city)\n",
        "\n",
        "# Step 5: Sort by Age\n",
        "df_sorted = df.sort_values(by='Age', ascending=False)\n",
        "print(\"\\nSorted by Age (descending):\\n\", df_sorted)\n",
        "\n",
        "# Step 6: Save to CSV\n",
        "df.to_csv('output.csv', index=False)\n"
      ],
      "metadata": {
        "colab": {
          "base_uri": "https://localhost:8080/"
        },
        "id": "2YFuh-qYJjcn",
        "outputId": "df651d64-14f7-481b-b0ca-9b42943baabc"
      },
      "execution_count": null,
      "outputs": [
        {
          "output_type": "stream",
          "name": "stdout",
          "text": [
            "People over 25:\n",
            "     Name  Age         City  Salary\n",
            "1    Bob   27  Los Angeles   60000\n",
            "3  David   32      Houston   70000\n",
            "\n",
            "Average age by city:\n",
            " City\n",
            "Chicago        22.0\n",
            "Houston        32.0\n",
            "Los Angeles    27.0\n",
            "New York       24.0\n",
            "Name: Age, dtype: float64\n",
            "\n",
            "Sorted by Age (descending):\n",
            "       Name  Age         City  Salary\n",
            "3    David   32      Houston   70000\n",
            "1      Bob   27  Los Angeles   60000\n",
            "0    Alice   24     New York   50000\n",
            "2  Charlie   22      Chicago   55000\n"
          ]
        }
      ]
    },
    {
      "cell_type": "code",
      "source": [
        "# Apply a custom function to calculate if age is above 20\n",
        "df['Is_Adult'] = df['Age'].apply(lambda x: 'Yes' if x > 20 else 'No')\n",
        "print(\"\\nData with Is_Adult Column:\")\n",
        "print(df)"
      ],
      "metadata": {
        "colab": {
          "base_uri": "https://localhost:8080/"
        },
        "id": "ij-cWNfSy-9d",
        "outputId": "99412dd4-7f63-464a-d19d-43d9ea9ee4f3"
      },
      "execution_count": null,
      "outputs": [
        {
          "output_type": "stream",
          "name": "stdout",
          "text": [
            "\n",
            "Data with Is_Adult Column:\n",
            "      Name  Age         City  Salary Is_Adult\n",
            "0    Alice   24     New York   50000      Yes\n",
            "1      Bob   27  Los Angeles   60000      Yes\n",
            "2  Charlie   22      Chicago   55000      Yes\n",
            "3    David   32      Houston   70000      Yes\n"
          ]
        }
      ]
    },
    {
      "cell_type": "markdown",
      "source": [
        "# Lab 4: Data Visualization"
      ],
      "metadata": {
        "id": "ss-lFEdUm2yv"
      }
    },
    {
      "cell_type": "code",
      "source": [
        "import matplotlib.pyplot as plt\n",
        "\n",
        "# Sample data\n",
        "names = ['Alice', 'Bob', 'Charlie', 'David', 'Eve']\n",
        "ages = [20, 21, 19, 22, 20]\n",
        "scores = [81, 92, 75, 90, 95]\n"
      ],
      "metadata": {
        "id": "tdC4VDAq-Hf9"
      },
      "execution_count": null,
      "outputs": []
    },
    {
      "cell_type": "code",
      "source": [
        "# Line plot of ages\n",
        "plt.figure(figsize=(8, 4))\n",
        "plt.plot(names, ages, marker='o', linestyle='-', color='b')\n",
        "plt.title(\"Age of Students\")\n",
        "plt.xlabel(\"Names\")\n",
        "plt.ylabel(\"Ages\")\n",
        "plt.show()"
      ],
      "metadata": {
        "colab": {
          "base_uri": "https://localhost:8080/",
          "height": 428
        },
        "id": "Rl43KDmN-DPF",
        "outputId": "a41d92a4-9bea-45b0-f2cc-37892354740e"
      },
      "execution_count": null,
      "outputs": [
        {
          "output_type": "execute_result",
          "data": {
            "text/plain": [
              "Text(0, 0.5, 'Ages')"
            ]
          },
          "metadata": {},
          "execution_count": 54
        },
        {
          "output_type": "display_data",
          "data": {
            "text/plain": [
              "<Figure size 800x400 with 1 Axes>"
            ],
            "image/png": "[encoded data removed]"
          },
          "metadata": {}
        }
      ]
    },
    {
      "cell_type": "code",
      "source": [
        "# Bar chart of scores\n",
        "plt.figure(figsize=(8, 4))\n",
        "plt.bar(names, scores, color='green')\n",
        "plt.title(\"Scores of Students\")\n",
        "plt.xlabel(\"Names\")\n",
        "plt.ylabel(\"Scores\")\n",
        "plt.show()"
      ],
      "metadata": {
        "colab": {
          "base_uri": "https://localhost:8080/",
          "height": 410
        },
        "id": "49QOzpEa_uW2",
        "outputId": "a5ef0e70-f5d1-4fc4-d93c-1879a1bed901"
      },
      "execution_count": null,
      "outputs": [
        {
          "output_type": "display_data",
          "data": {
            "text/plain": [
              "<Figure size 800x400 with 1 Axes>"
            ],
            "image/png": "[encoded data removed]"
          },
          "metadata": {}
        }
      ]
    },
    {
      "cell_type": "code",
      "source": [
        "# Scatter plot of ages vs. scores\n",
        "plt.figure(figsize=(8, 4))\n",
        "plt.scatter(ages, scores, color='purple')\n",
        "plt.title(\"Ages vs Scores\")\n",
        "plt.xlabel(\"Ages\")\n",
        "plt.ylabel(\"Scores\")\n",
        "plt.show()"
      ],
      "metadata": {
        "colab": {
          "base_uri": "https://localhost:8080/",
          "height": 410
        },
        "id": "gSM3EFrMAMaM",
        "outputId": "92c59209-a424-4962-9a6f-f7b15084a4eb"
      },
      "execution_count": null,
      "outputs": [
        {
          "output_type": "display_data",
          "data": {
            "text/plain": [
              "<Figure size 800x400 with 1 Axes>"
            ],
            "image/png": "[encoded data removed]"
          },
          "metadata": {}
        }
      ]
    },
    {
      "cell_type": "code",
      "source": [
        "# Histogram of ages\n",
        "plt.figure(figsize=(8, 4))\n",
        "plt.hist(ages, bins=5, color='orange', edgecolor='black')\n",
        "plt.title(\"Age Distribution\")\n",
        "plt.xlabel(\"Ages\")\n",
        "plt.ylabel(\"Frequency\")\n",
        "plt.show()"
      ],
      "metadata": {
        "colab": {
          "base_uri": "https://localhost:8080/",
          "height": 410
        },
        "id": "HOT_QIz4AOwd",
        "outputId": "4f548592-5abb-4934-cb30-775ff9dcacf7"
      },
      "execution_count": null,
      "outputs": [
        {
          "output_type": "display_data",
          "data": {
            "text/plain": [
              "<Figure size 800x400 with 1 Axes>"
            ],
            "image/png": "[encoded data removed]"
          },
          "metadata": {}
        }
      ]
    },
    {
      "cell_type": "code",
      "source": [
        "# Pie chart of scores\n",
        "plt.figure(figsize=(8, 4))\n",
        "plt.pie(scores, labels=names, autopct='%1.1f%%', startangle=140)\n",
        "plt.title(\"Score Distribution\")\n",
        "plt.show()"
      ],
      "metadata": {
        "colab": {
          "base_uri": "https://localhost:8080/",
          "height": 367
        },
        "id": "uqS0PQMOAQnG",
        "outputId": "a89bb695-97d3-49aa-8bb8-225491f9b10e"
      },
      "execution_count": null,
      "outputs": [
        {
          "output_type": "display_data",
          "data": {
            "text/plain": [
              "<Figure size 800x400 with 1 Axes>"
            ],
            "image/png": "[encoded data removed]"
          },
          "metadata": {}
        }
      ]
    },
    {
      "cell_type": "code",
      "source": [
        "# Box plot of scores\n",
        "plt.figure(figsize=(8, 4))\n",
        "plt.boxplot(scores, vert=False, patch_artist=True)\n",
        "plt.title(\"Score Distribution (Box Plot)\")\n",
        "plt.xlabel(\"Scores\")\n",
        "plt.show()"
      ],
      "metadata": {
        "colab": {
          "base_uri": "https://localhost:8080/",
          "height": 410
        },
        "id": "HqGr8ctfASh3",
        "outputId": "0244b858-4895-4ac5-f29f-a3e40ed26df8"
      },
      "execution_count": null,
      "outputs": [
        {
          "output_type": "display_data",
          "data": {
            "text/plain": [
              "<Figure size 800x400 with 1 Axes>"
            ],
            "image/png": "[encoded data removed]"
          },
          "metadata": {}
        }
      ]
    },
    {
      "cell_type": "code",
      "source": [
        "# Violin plot of ages\n",
        "plt.figure(figsize=(8, 4))\n",
        "plt.violinplot(ages, vert=False)\n",
        "plt.title(\"Age Distribution (Violin Plot)\")\n",
        "plt.xlabel(\"Ages\")\n",
        "plt.show()"
      ],
      "metadata": {
        "colab": {
          "base_uri": "https://localhost:8080/",
          "height": 410
        },
        "id": "Uwef9rPwAgkm",
        "outputId": "dd3c7123-eff7-4590-a9a5-989bce448be5"
      },
      "execution_count": null,
      "outputs": [
        {
          "output_type": "display_data",
          "data": {
            "text/plain": [
              "<Figure size 800x400 with 1 Axes>"
            ],
            "image/png": "[encoded data removed]"
          },
          "metadata": {}
        }
      ]
    },
    {
      "cell_type": "code",
      "source": [
        "import numpy as np\n",
        "\n",
        "# Sample data for heatmap\n",
        "data = np.random.rand(5, 5)\n",
        "plt.figure(figsize=(8, 6))\n",
        "plt.imshow(data, cmap='viridis', interpolation='nearest')\n",
        "plt.colorbar()\n",
        "plt.title(\"Sample Heatmap\")\n",
        "plt.show()"
      ],
      "metadata": {
        "colab": {
          "base_uri": "https://localhost:8080/",
          "height": 545
        },
        "id": "EazVs7EuAlf2",
        "outputId": "7636079f-e9c5-4c2a-e54a-c24a37675bd5"
      },
      "execution_count": null,
      "outputs": [
        {
          "output_type": "display_data",
          "data": {
            "text/plain": [
              "<Figure size 800x600 with 2 Axes>"
            ],
            "image/png": "[encoded data removed]"
          },
          "metadata": {}
        }
      ]
    },
    {
      "cell_type": "code",
      "source": [
        "# Area chart of scores\n",
        "plt.figure(figsize=(8, 4))\n",
        "plt.fill_between(names, scores, color='skyblue', alpha=0.4)\n",
        "plt.plot(names, scores, color='Slateblue', alpha=0.6)\n",
        "plt.title(\"Scores Area Chart\")\n",
        "plt.xlabel(\"Names\")\n",
        "plt.ylabel(\"Scores\")\n",
        "plt.show()"
      ],
      "metadata": {
        "colab": {
          "base_uri": "https://localhost:8080/",
          "height": 410
        },
        "id": "S7MnRAUEAqkf",
        "outputId": "e32b2895-b8f8-41ef-f0f5-f14be6051c4f"
      },
      "execution_count": null,
      "outputs": [
        {
          "output_type": "display_data",
          "data": {
            "text/plain": [
              "<Figure size 800x400 with 1 Axes>"
            ],
            "image/png": "[encoded data removed]"
          },
          "metadata": {}
        }
      ]
    },
    {
      "cell_type": "code",
      "source": [
        "# Bubble chart of ages vs scores with scores as bubble sizes\n",
        "plt.figure(figsize=(8, 4))\n",
        "plt.scatter(ages, scores, s=[score*10 for score in scores], color='blue', alpha=0.5)\n",
        "plt.title(\"Ages vs Scores (Bubble Chart)\")\n",
        "plt.xlabel(\"Ages\")\n",
        "plt.ylabel(\"Scores\")\n",
        "plt.show()"
      ],
      "metadata": {
        "colab": {
          "base_uri": "https://localhost:8080/",
          "height": 410
        },
        "id": "14GkGiwAAtDo",
        "outputId": "29b7c4f4-dcc0-403f-bcb7-f570614034ea"
      },
      "execution_count": null,
      "outputs": [
        {
          "output_type": "display_data",
          "data": {
            "text/plain": [
              "<Figure size 800x400 with 1 Axes>"
            ],
            "image/png": "[encoded data removed]"
          },
          "metadata": {}
        }
      ]
    },
    {
      "cell_type": "code",
      "source": [
        "from math import pi\n",
        "\n",
        "# Sample data for radar chart\n",
        "categories = ['Math', 'Science', 'English', 'History', 'Art']\n",
        "values = [88, 92, 85, 90, 95]\n",
        "\n",
        "# Create radar chart\n",
        "N = len(categories)\n",
        "angles = [n / float(N) * 2 * pi for n in range(N)]\n",
        "values += values[:1]  # Repeat the first value to close the circle\n",
        "angles += angles[:1]\n",
        "\n",
        "plt.figure(figsize=(8, 8))\n",
        "ax = plt.subplot(111, polar=True)\n",
        "plt.xticks(angles[:-1], categories)\n",
        "ax.plot(angles, values)\n",
        "ax.fill(angles, values, alpha=0.3)\n",
        "plt.title(\"Student's Performance Radar Chart\")\n",
        "plt.show()"
      ],
      "metadata": {
        "colab": {
          "base_uri": "https://localhost:8080/",
          "height": 696
        },
        "id": "l_wxhY3yAtnN",
        "outputId": "e019cdf5-e485-469c-c038-6d48d1a6d92f"
      },
      "execution_count": null,
      "outputs": [
        {
          "output_type": "display_data",
          "data": {
            "text/plain": [
              "<Figure size 800x800 with 1 Axes>"
            ],
            "image/png": "[encoded data removed]"
          },
          "metadata": {}
        }
      ]
    },
    {
      "cell_type": "code",
      "source": [
        "# Step plot of scores\n",
        "plt.figure(figsize=(8, 4))\n",
        "plt.step(names, scores, where='mid', color='purple')\n",
        "plt.title(\"Scores Step Plot\")\n",
        "plt.xlabel(\"Names\")\n",
        "plt.ylabel(\"Scores\")\n",
        "plt.show()"
      ],
      "metadata": {
        "colab": {
          "base_uri": "https://localhost:8080/",
          "height": 410
        },
        "id": "fyPP7NAeAwdH",
        "outputId": "87e84df1-8690-4ff8-869a-df72886c2cc1"
      },
      "execution_count": null,
      "outputs": [
        {
          "output_type": "display_data",
          "data": {
            "text/plain": [
              "<Figure size 800x400 with 1 Axes>"
            ],
            "image/png": "[encoded data removed]"
          },
          "metadata": {}
        }
      ]
    },
    {
      "cell_type": "markdown",
      "source": [
        "#  Lab 5: Introduction to NumPy"
      ],
      "metadata": {
        "id": "vvX2Qd4XhEP7"
      }
    },
    {
      "cell_type": "code",
      "source": [
        "import numpy as np"
      ],
      "metadata": {
        "id": "F1ZNEfp9i537"
      },
      "execution_count": null,
      "outputs": []
    },
    {
      "cell_type": "code",
      "source": [
        "# 1. Creating Arrays\n",
        "# NumPy arrays are similar to lists but optimized for numerical operations.\n",
        "\n",
        "# 1D array\n",
        "arr1 = np.array([1, 2, 3, 4, 5])\n",
        "print(\"1D Array:\", arr1)\n",
        "\n",
        "# 2D array\n",
        "arr2 = np.array([[1, 2, 3], [4, 5, 6]])\n",
        "print(\"\\n2D Array:\\n\", arr2)\n",
        "\n",
        "# Array of zeros\n",
        "zeros = np.zeros((2, 3))\n",
        "print(\"\\nArray of Zeros:\\n\", zeros)\n",
        "\n",
        "# Array of random values\n",
        "random_arr = np.random.rand(3, 3)\n",
        "print(\"\\nRandom Array:\\n\", random_arr)"
      ],
      "metadata": {
        "colab": {
          "base_uri": "https://localhost:8080/"
        },
        "id": "Qfa_3OFHkXGY",
        "outputId": "d6758f0d-120c-4268-8f17-b364ee6db141"
      },
      "execution_count": null,
      "outputs": [
        {
          "output_type": "stream",
          "name": "stdout",
          "text": [
            "1D Array: [1 2 3 4 5]\n",
            "\n",
            "2D Array:\n",
            " [[1 2 3]\n",
            " [4 5 6]]\n",
            "\n",
            "Array of Zeros:\n",
            " [[0. 0. 0.]\n",
            " [0. 0. 0.]]\n",
            "\n",
            "Random Array:\n",
            " [[0.12549341 0.75931016 0.62686586]\n",
            " [0.58649259 0.70072117 0.33721788]\n",
            " [0.0524799  0.55480493 0.07680722]]\n"
          ]
        }
      ]
    },
    {
      "cell_type": "code",
      "source": [
        "# 2. Basic Array Operations\n",
        "\n",
        "# Addition and subtraction\n",
        "arr_sum = arr1 + 10\n",
        "print(\"\\nArray after Adding 10:\", arr_sum)\n",
        "\n",
        "# Multiplication and division\n",
        "arr_product = arr1 * 2\n",
        "print(\"\\nArray after Multiplying by 2:\", arr_product)"
      ],
      "metadata": {
        "colab": {
          "base_uri": "https://localhost:8080/"
        },
        "id": "5W34y0U7k74h",
        "outputId": "5dc95e7a-2ec2-4707-c725-6eb70fd8f792"
      },
      "execution_count": null,
      "outputs": [
        {
          "output_type": "stream",
          "name": "stdout",
          "text": [
            "\n",
            "Array after Adding 10: [11 12 13 14 15]\n",
            "\n",
            "Array after Multiplying by 2: [ 2  4  6  8 10]\n"
          ]
        }
      ]
    },
    {
      "cell_type": "code",
      "source": [
        "# 3. Statistical Operations\n",
        "# Use built-in functions for common statistics.\n",
        "\n",
        "# Mean, median, and standard deviation\n",
        "mean_val = np.mean(arr1)\n",
        "median_val = np.median(arr1)\n",
        "std_dev = np.std(arr1)\n",
        "\n",
        "print(\"\\nMean:\", mean_val)\n",
        "print(\"Median:\", median_val)\n",
        "print(\"Standard Deviation:\", std_dev)"
      ],
      "metadata": {
        "colab": {
          "base_uri": "https://localhost:8080/"
        },
        "id": "bMmGHSHdlclg",
        "outputId": "ce869a6b-c317-4a55-a89d-a36fdf287693"
      },
      "execution_count": null,
      "outputs": [
        {
          "output_type": "stream",
          "name": "stdout",
          "text": [
            "\n",
            "Mean: 3.0\n",
            "Median: 3.0\n",
            "Standard Deviation: 1.4142135623730951\n"
          ]
        }
      ]
    },
    {
      "cell_type": "code",
      "source": [
        "# Reshape a 1D array to 2D\n",
        "reshaped_arr = arr1.reshape((1, 5))\n",
        "print(\"\\nReshaped Array:\\n\", reshaped_arr)"
      ],
      "metadata": {
        "colab": {
          "base_uri": "https://localhost:8080/"
        },
        "id": "MxBdVYBGV01w",
        "outputId": "aebf8f86-0b60-4f47-b779-36dd0eb04567"
      },
      "execution_count": null,
      "outputs": [
        {
          "output_type": "stream",
          "name": "stdout",
          "text": [
            "\n",
            "Reshaped Array:\n",
            " [[1 2 3 4 5]]\n"
          ]
        }
      ]
    },
    {
      "cell_type": "code",
      "source": [
        "# Accessing elements\n",
        "print(\"\\nFirst element of arr1:\", arr1[0])\n",
        "\n",
        "# Slicing\n",
        "print(\"Elements from index 1 to 3:\", arr1[1:4])"
      ],
      "metadata": {
        "colab": {
          "base_uri": "https://localhost:8080/"
        },
        "id": "KmoAOHflWMZO",
        "outputId": "e4746979-d940-4b8a-9feb-d92216bf0cb3"
      },
      "execution_count": null,
      "outputs": [
        {
          "output_type": "stream",
          "name": "stdout",
          "text": [
            "\n",
            "First element of arr1: 1\n",
            "Elements from index 1 to 3: [2 3 4]\n"
          ]
        }
      ]
    },
    {
      "cell_type": "code",
      "source": [
        "# Broadcasting example\n",
        "arr3 = np.array([[1, 2, 3], [4, 5, 6]])\n",
        "arr_broadcast = arr3 + np.array([1, 2, 3])\n",
        "print(\"\\nBroadcasted Addition:\\n\", arr_broadcast)\n"
      ],
      "metadata": {
        "colab": {
          "base_uri": "https://localhost:8080/"
        },
        "id": "EiwuQvmGWVwA",
        "outputId": "d02eeaa9-29de-4743-963b-e3ffaaa998eb"
      },
      "execution_count": null,
      "outputs": [
        {
          "output_type": "stream",
          "name": "stdout",
          "text": [
            "\n",
            "Broadcasted Addition:\n",
            " [[2 4 6]\n",
            " [5 7 9]]\n"
          ]
        }
      ]
    },
    {
      "cell_type": "code",
      "source": [
        "# Matrix multiplication\n",
        "matrix1 = np.array([[1, 2], [3, 4]])\n",
        "matrix2 = np.array([[5, 6], [7, 8]])\n",
        "\n",
        "result = np.dot(matrix1, matrix2)\n",
        "print(\"\\nMatrix Multiplication:\\n\", result)\n"
      ],
      "metadata": {
        "colab": {
          "base_uri": "https://localhost:8080/"
        },
        "id": "fiwbVa8KW6Zh",
        "outputId": "f83a7685-6703-48c3-b554-8915e01d8113"
      },
      "execution_count": null,
      "outputs": [
        {
          "output_type": "stream",
          "name": "stdout",
          "text": [
            "\n",
            "Matrix Multiplication:\n",
            " [[19 22]\n",
            " [43 50]]\n"
          ]
        }
      ]
    },
    {
      "cell_type": "markdown",
      "source": [
        "Yes, NumPy has many more advanced functions and capabilities beyond the basics. Here are some additional features that are very useful in various types of numerical computations:\n",
        "\n",
        "1. Advanced Array Creation\n",
        "NumPy offers methods to create arrays in specific patterns, which are helpful for testing and initializing arrays."
      ],
      "metadata": {
        "id": "2P6yzKSCYCHm"
      }
    },
    {
      "cell_type": "code",
      "source": [
        "# Identity matrix (square matrix with ones on the diagonal)\n",
        "identity_matrix = np.eye(3)\n",
        "print(\"\\nIdentity Matrix:\\n\", identity_matrix)\n",
        "\n",
        "# Linearly spaced array\n",
        "lin_space = np.linspace(0, 10, 5)  # 5 points from 0 to 10\n",
        "print(\"\\nLinearly Spaced Array:\", lin_space)\n",
        "\n",
        "# Logarithmically spaced array\n",
        "log_space = np.logspace(1, 3, 5)  # 5 points from 10^1 to 10^3\n",
        "print(\"\\nLogarithmically Spaced Array:\", log_space)\n"
      ],
      "metadata": {
        "colab": {
          "base_uri": "https://localhost:8080/"
        },
        "id": "3ezoe9P3YDHB",
        "outputId": "3f637b48-3f47-47d9-f70d-b0d4836d1bc7"
      },
      "execution_count": null,
      "outputs": [
        {
          "output_type": "stream",
          "name": "stdout",
          "text": [
            "\n",
            "Identity Matrix:\n",
            " [[1. 0. 0.]\n",
            " [0. 1. 0.]\n",
            " [0. 0. 1.]]\n",
            "\n",
            "Linearly Spaced Array: [ 0.   2.5  5.   7.5 10. ]\n",
            "\n",
            "Logarithmically Spaced Array: [  10.           31.6227766   100.          316.22776602 1000.        ]\n"
          ]
        }
      ]
    },
    {
      "cell_type": "code",
      "source": [
        "arr = np.array([1, 2, 3, 4])\n",
        "\n",
        "# Exponential and logarithmic functions\n",
        "exp_arr = np.exp(arr)\n",
        "log_arr = np.log(arr)\n",
        "print(\"\\nExponential of Array:\", exp_arr)\n",
        "print(\"Logarithm of Array:\", log_arr)\n",
        "\n",
        "# Trigonometric functions\n",
        "sin_arr = np.sin(arr)\n",
        "cos_arr = np.cos(arr)\n",
        "print(\"\\nSine of Array:\", sin_arr)\n",
        "print(\"Cosine of Array:\", cos_arr)"
      ],
      "metadata": {
        "colab": {
          "base_uri": "https://localhost:8080/"
        },
        "id": "FPoZgNyDYHCO",
        "outputId": "3a54bc0e-e544-4f40-fa2c-f508d559eafb"
      },
      "execution_count": null,
      "outputs": [
        {
          "output_type": "stream",
          "name": "stdout",
          "text": [
            "\n",
            "Exponential of Array: [ 2.71828183  7.3890561  20.08553692 54.59815003]\n",
            "Logarithm of Array: [0.         0.69314718 1.09861229 1.38629436]\n",
            "\n",
            "Sine of Array: [ 0.84147098  0.90929743  0.14112001 -0.7568025 ]\n",
            "Cosine of Array: [ 0.54030231 -0.41614684 -0.9899925  -0.65364362]\n"
          ]
        }
      ]
    },
    {
      "cell_type": "code",
      "source": [
        "# Cumulative sum\n",
        "cumsum_arr = np.cumsum(arr)\n",
        "print(\"\\nCumulative Sum of Array:\", cumsum_arr)\n",
        "\n",
        "# Cumulative product\n",
        "cumprod_arr = np.cumprod(arr)\n",
        "print(\"Cumulative Product of Array:\", cumprod_arr)\n",
        "\n",
        "# Min, Max, Sum\n",
        "min_val = np.min(arr)\n",
        "max_val = np.max(arr)\n",
        "total_sum = np.sum(arr)\n",
        "print(\"\\nMin Value:\", min_val)\n",
        "print(\"Max Value:\", max_val)\n",
        "print(\"Total Sum:\", total_sum)"
      ],
      "metadata": {
        "colab": {
          "base_uri": "https://localhost:8080/"
        },
        "id": "aAg7DEOxYNfv",
        "outputId": "a5e89576-9a01-4814-cc43-a3bf1f2cbdf7"
      },
      "execution_count": null,
      "outputs": [
        {
          "output_type": "stream",
          "name": "stdout",
          "text": [
            "\n",
            "Cumulative Sum of Array: [ 1  3  6 10]\n",
            "Cumulative Product of Array: [ 1  2  6 24]\n",
            "\n",
            "Min Value: 1\n",
            "Max Value: 4\n",
            "Total Sum: 10\n"
          ]
        }
      ]
    },
    {
      "cell_type": "code",
      "source": [
        "# Conditional selection\n",
        "arr = np.array([10, 20, 30, 40, 50])\n",
        "filtered_arr = arr[arr > 25]\n",
        "print(\"\\nFiltered Array (values > 25):\", filtered_arr)\n",
        "\n",
        "# Use `np.where()` for element-wise conditionals\n",
        "conditioned_arr = np.where(arr > 25, 'High', 'Low')\n",
        "print(\"Conditioned Array with Labels:\", conditioned_arr)"
      ],
      "metadata": {
        "colab": {
          "base_uri": "https://localhost:8080/"
        },
        "id": "6xikoWyGYRPP",
        "outputId": "86b55d5f-aaff-4ee7-ed0c-4147a0224e11"
      },
      "execution_count": null,
      "outputs": [
        {
          "output_type": "stream",
          "name": "stdout",
          "text": [
            "\n",
            "Filtered Array (values > 25): [30 40 50]\n",
            "Conditioned Array with Labels: ['Low' 'Low' 'High' 'High' 'High']\n"
          ]
        }
      ]
    },
    {
      "cell_type": "code",
      "source": [
        "# Random integers between 0 and 100\n",
        "rand_ints = np.random.randint(0, 100, size=(3, 3))\n",
        "print(\"\\nRandom Integers Array:\\n\", rand_ints)\n",
        "\n",
        "# Normal distribution (mean=0, std=1)\n",
        "rand_norm = np.random.normal(0, 1, 5)\n",
        "print(\"Random Normal Distribution Array:\", rand_norm)"
      ],
      "metadata": {
        "colab": {
          "base_uri": "https://localhost:8080/"
        },
        "id": "pPcBDXk-YVv8",
        "outputId": "fafc865d-d84d-4f75-a9b6-4ca0403fc044"
      },
      "execution_count": null,
      "outputs": [
        {
          "output_type": "stream",
          "name": "stdout",
          "text": [
            "\n",
            "Random Integers Array:\n",
            " [[10  1 33]\n",
            " [40  9 32]\n",
            " [14 88 23]]\n",
            "Random Normal Distribution Array: [ 0.351645    0.24332379 -1.40997296  0.24833192  0.06318857]\n"
          ]
        }
      ]
    },
    {
      "cell_type": "code",
      "source": [
        "# Sort array\n",
        "arr = np.array([3, 1, 2, 5, 4])\n",
        "sorted_arr = np.sort(arr)\n",
        "print(\"\\nSorted Array:\", sorted_arr)\n",
        "\n",
        "# Find unique elements\n",
        "unique_arr = np.unique(arr)\n",
        "print(\"Unique Elements in Array:\", unique_arr)"
      ],
      "metadata": {
        "colab": {
          "base_uri": "https://localhost:8080/"
        },
        "id": "JZ4qdm8aYarJ",
        "outputId": "51b652a3-79ef-4d0c-8bdc-3ecd4c421fb5"
      },
      "execution_count": null,
      "outputs": [
        {
          "output_type": "stream",
          "name": "stdout",
          "text": [
            "\n",
            "Sorted Array: [1 2 3 4 5]\n",
            "Unique Elements in Array: [1 2 3 4 5]\n"
          ]
        }
      ]
    },
    {
      "cell_type": "code",
      "source": [
        "# 7. Linear Algebra Functions\n",
        "# NumPy’s linalg module offers a variety of linear algebra functions.\n",
        "\n",
        "matrix = np.array([[4, 7], [2, 6]])\n",
        "\n",
        "# Determinant of a matrix\n",
        "determinant = np.linalg.det(matrix)\n",
        "print(\"\\nDeterminant of Matrix:\", determinant)\n",
        "\n",
        "# Inverse of a matrix\n",
        "inverse = np.linalg.inv(matrix)\n",
        "print(\"Inverse of Matrix:\\n\", inverse)\n",
        "\n",
        "# Eigenvalues and eigenvectors\n",
        "eigenvalues, eigenvectors = np.linalg.eig(matrix)\n",
        "print(\"Eigenvalues:\", eigenvalues)\n",
        "print(\"Eigenvectors:\\n\", eigenvectors)"
      ],
      "metadata": {
        "colab": {
          "base_uri": "https://localhost:8080/"
        },
        "id": "cT6HGwPrYdNI",
        "outputId": "287e4fed-96d9-4bb0-8b0c-5a1de6738933"
      },
      "execution_count": null,
      "outputs": [
        {
          "output_type": "stream",
          "name": "stdout",
          "text": [
            "\n",
            "Determinant of Matrix: 10.000000000000002\n",
            "Inverse of Matrix:\n",
            " [[ 0.6 -0.7]\n",
            " [-0.2  0.4]]\n",
            "Eigenvalues: [1.12701665 8.87298335]\n",
            "Eigenvectors:\n",
            " [[-0.92511345 -0.82071729]\n",
            " [ 0.37969079 -0.57133452]]\n"
          ]
        }
      ]
    },
    {
      "cell_type": "code",
      "source": [
        "# Broadcasting example\n",
        "arr1 = np.array([1, 2, 3])\n",
        "arr2 = np.array([[1], [2], [3]])\n",
        "broadcasted_sum = arr1 + arr2\n",
        "print(\"\\nBroadcasted Sum:\\n\", broadcasted_sum)"
      ],
      "metadata": {
        "colab": {
          "base_uri": "https://localhost:8080/"
        },
        "id": "HeCPrm52YpJ1",
        "outputId": "19d78722-88f9-4180-f402-30b71f024020"
      },
      "execution_count": null,
      "outputs": [
        {
          "output_type": "stream",
          "name": "stdout",
          "text": [
            "\n",
            "Broadcasted Sum:\n",
            " [[2 3 4]\n",
            " [3 4 5]\n",
            " [4 5 6]]\n"
          ]
        }
      ]
    },
    {
      "cell_type": "code",
      "source": [
        "arr = np.array([10, 15, 20, 25, 30])\n",
        "\n",
        "# Boolean mask to select elements greater than 20\n",
        "mask = arr > 20\n",
        "print(\"\\nMask for elements > 20:\", mask)\n",
        "\n",
        "# Applying mask\n",
        "filtered_arr = arr[mask]\n",
        "print(\"Filtered Array using Mask:\", filtered_arr)"
      ],
      "metadata": {
        "colab": {
          "base_uri": "https://localhost:8080/"
        },
        "id": "eDvZj76CYrW7",
        "outputId": "a30c9639-915a-480d-8002-7dd3ce3b9347"
      },
      "execution_count": null,
      "outputs": [
        {
          "output_type": "stream",
          "name": "stdout",
          "text": [
            "\n",
            "Mask for elements > 20: [False False False  True  True]\n",
            "Filtered Array using Mask: [25 30]\n"
          ]
        }
      ]
    },
    {
      "cell_type": "markdown",
      "source": [
        "# Lab 6: Introduction to machine learning eith scikit learn"
      ],
      "metadata": {
        "id": "9lJk8z6Jw3Qp"
      }
    },
    {
      "cell_type": "markdown",
      "source": [
        "**1. Set Up Scikit-learn**\n",
        "\n",
        "Before you can start using Scikit-learn, you need to install it. To install Scikit-learn, use the following command:\n",
        "\n",
        "<code>pip install scikit-learn</code>\n",
        "\n",
        "You will also need other dependencies like NumPy and Pandas, which can be installed with the following:\n",
        "\n",
        "\n",
        "<code>pip install numpy pandas</code>\n",
        "\n",
        "After installation, you can import the required modules in your Python script."
      ],
      "metadata": {
        "id": "6J_sMM0_gv4f"
      }
    },
    {
      "cell_type": "code",
      "source": [
        "import numpy as np\n",
        "import pandas as pd\n",
        "from sklearn.model_selection import train_test_split\n",
        "from sklearn.datasets import load_iris\n",
        "from sklearn.neighbors import KNeighborsClassifier\n",
        "from sklearn.metrics import accuracy_score"
      ],
      "metadata": {
        "id": "FoX48SJbZ2Xt"
      },
      "execution_count": null,
      "outputs": []
    },
    {
      "cell_type": "markdown",
      "source": [
        "**2. Load and Explore Dataset**\n",
        "\n",
        "In this lab, we'll use the Iris dataset, which is a commonly used dataset for classification tasks. You can easily load it using Scikit-learn's built-in <code>load_iris()</code> function."
      ],
      "metadata": {
        "id": "kgaHRCk7hPlO"
      }
    },
    {
      "cell_type": "code",
      "source": [
        "# Load the Iris dataset\n",
        "iris = load_iris()\n",
        "X = iris.data  # Features\n",
        "y = iris.target  # Target labels\n",
        "print(iris)"
      ],
      "metadata": {
        "colab": {
          "base_uri": "https://localhost:8080/"
        },
        "id": "ekqdH1eHhc8e",
        "outputId": "d8e0b579-11d0-4b95-90c9-abb7bfc2dad7"
      },
      "execution_count": null,
      "outputs": [
        {
          "output_type": "stream",
          "name": "stdout",
          "text": [
            "{'data': array([[5.1, 3.5, 1.4, 0.2],\n",
            "       [4.9, 3. , 1.4, 0.2],\n",
            "       [4.7, 3.2, 1.3, 0.2],\n",
            "       [4.6, 3.1, 1.5, 0.2],\n",
            "       [5. , 3.6, 1.4, 0.2],\n",
            "       [5.4, 3.9, 1.7, 0.4],\n",
            "       [4.6, 3.4, 1.4, 0.3],\n",
            "       [5. , 3.4, 1.5, 0.2],\n",
            "       [4.4, 2.9, 1.4, 0.2],\n",
            "       [4.9, 3.1, 1.5, 0.1],\n",
            "       [5.4, 3.7, 1.5, 0.2],\n",
            "       [4.8, 3.4, 1.6, 0.2],\n",
            "       [4.8, 3. , 1.4, 0.1],\n",
            "       [4.3, 3. , 1.1, 0.1],\n",
            "       [5.8, 4. , 1.2, 0.2],\n",
            "       [5.7, 4.4, 1.5, 0.4],\n",
            "       [5.4, 3.9, 1.3, 0.4],\n",
            "       [5.1, 3.5, 1.4, 0.3],\n",
            "       [5.7, 3.8, 1.7, 0.3],\n",
            "       [5.1, 3.8, 1.5, 0.3],\n",
            "       [5.4, 3.4, 1.7, 0.2],\n",
            "       [5.1, 3.7, 1.5, 0.4],\n",
            "       [4.6, 3.6, 1. , 0.2],\n",
            "       [5.1, 3.3, 1.7, 0.5],\n",
            "       [4.8, 3.4, 1.9, 0.2],\n",
            "       [5. , 3. , 1.6, 0.2],\n",
            "       [5. , 3.4, 1.6, 0.4],\n",
            "       [5.2, 3.5, 1.5, 0.2],\n",
            "       [5.2, 3.4, 1.4, 0.2],\n",
            "       [4.7, 3.2, 1.6, 0.2],\n",
            "       [4.8, 3.1, 1.6, 0.2],\n",
            "       [5.4, 3.4, 1.5, 0.4],\n",
            "       [5.2, 4.1, 1.5, 0.1],\n",
            "       [5.5, 4.2, 1.4, 0.2],\n",
            "       [4.9, 3.1, 1.5, 0.2],\n",
            "       [5. , 3.2, 1.2, 0.2],\n",
            "       [5.5, 3.5, 1.3, 0.2],\n",
            "       [4.9, 3.6, 1.4, 0.1],\n",
            "       [4.4, 3. , 1.3, 0.2],\n",
            "       [5.1, 3.4, 1.5, 0.2],\n",
            "       [5. , 3.5, 1.3, 0.3],\n",
            "       [4.5, 2.3, 1.3, 0.3],\n",
            "       [4.4, 3.2, 1.3, 0.2],\n",
            "       [5. , 3.5, 1.6, 0.6],\n",
            "       [5.1, 3.8, 1.9, 0.4],\n",
            "       [4.8, 3. , 1.4, 0.3],\n",
            "       [5.1, 3.8, 1.6, 0.2],\n",
            "       [4.6, 3.2, 1.4, 0.2],\n",
            "       [5.3, 3.7, 1.5, 0.2],\n",
            "       [5. , 3.3, 1.4, 0.2],\n",
            "       [7. , 3.2, 4.7, 1.4],\n",
            "       [6.4, 3.2, 4.5, 1.5],\n",
            "       [6.9, 3.1, 4.9, 1.5],\n",
            "       [5.5, 2.3, 4. , 1.3],\n",
            "       [6.5, 2.8, 4.6, 1.5],\n",
            "       [5.7, 2.8, 4.5, 1.3],\n",
            "       [6.3, 3.3, 4.7, 1.6],\n",
            "       [4.9, 2.4, 3.3, 1. ],\n",
            "       [6.6, 2.9, 4.6, 1.3],\n",
            "       [5.2, 2.7, 3.9, 1.4],\n",
            "       [5. , 2. , 3.5, 1. ],\n",
            "       [5.9, 3. , 4.2, 1.5],\n",
            "       [6. , 2.2, 4. , 1. ],\n",
            "       [6.1, 2.9, 4.7, 1.4],\n",
            "       [5.6, 2.9, 3.6, 1.3],\n",
            "       [6.7, 3.1, 4.4, 1.4],\n",
            "       [5.6, 3. , 4.5, 1.5],\n",
            "       [5.8, 2.7, 4.1, 1. ],\n",
            "       [6.2, 2.2, 4.5, 1.5],\n",
            "       [5.6, 2.5, 3.9, 1.1],\n",
            "       [5.9, 3.2, 4.8, 1.8],\n",
            "       [6.1, 2.8, 4. , 1.3],\n",
            "       [6.3, 2.5, 4.9, 1.5],\n",
            "       [6.1, 2.8, 4.7, 1.2],\n",
            "       [6.4, 2.9, 4.3, 1.3],\n",
            "       [6.6, 3. , 4.4, 1.4],\n",
            "       [6.8, 2.8, 4.8, 1.4],\n",
            "       [6.7, 3. , 5. , 1.7],\n",
            "       [6. , 2.9, 4.5, 1.5],\n",
            "       [5.7, 2.6, 3.5, 1. ],\n",
            "       [5.5, 2.4, 3.8, 1.1],\n",
            "       [5.5, 2.4, 3.7, 1. ],\n",
            "       [5.8, 2.7, 3.9, 1.2],\n",
            "       [6. , 2.7, 5.1, 1.6],\n",
            "       [5.4, 3. , 4.5, 1.5],\n",
            "       [6. , 3.4, 4.5, 1.6],\n",
            "       [6.7, 3.1, 4.7, 1.5],\n",
            "       [6.3, 2.3, 4.4, 1.3],\n",
            "       [5.6, 3. , 4.1, 1.3],\n",
            "       [5.5, 2.5, 4. , 1.3],\n",
            "       [5.5, 2.6, 4.4, 1.2],\n",
            "       [6.1, 3. , 4.6, 1.4],\n",
            "       [5.8, 2.6, 4. , 1.2],\n",
            "       [5. , 2.3, 3.3, 1. ],\n",
            "       [5.6, 2.7, 4.2, 1.3],\n",
            "       [5.7, 3. , 4.2, 1.2],\n",
            "       [5.7, 2.9, 4.2, 1.3],\n",
            "       [6.2, 2.9, 4.3, 1.3],\n",
            "       [5.1, 2.5, 3. , 1.1],\n",
            "       [5.7, 2.8, 4.1, 1.3],\n",
            "       [6.3, 3.3, 6. , 2.5],\n",
            "       [5.8, 2.7, 5.1, 1.9],\n",
            "       [7.1, 3. , 5.9, 2.1],\n",
            "       [6.3, 2.9, 5.6, 1.8],\n",
            "       [6.5, 3. , 5.8, 2.2],\n",
            "       [7.6, 3. , 6.6, 2.1],\n",
            "       [4.9, 2.5, 4.5, 1.7],\n",
            "       [7.3, 2.9, 6.3, 1.8],\n",
            "       [6.7, 2.5, 5.8, 1.8],\n",
            "       [7.2, 3.6, 6.1, 2.5],\n",
            "       [6.5, 3.2, 5.1, 2. ],\n",
            "       [6.4, 2.7, 5.3, 1.9],\n",
            "       [6.8, 3. , 5.5, 2.1],\n",
            "       [5.7, 2.5, 5. , 2. ],\n",
            "       [5.8, 2.8, 5.1, 2.4],\n",
            "       [6.4, 3.2, 5.3, 2.3],\n",
            "       [6.5, 3. , 5.5, 1.8],\n",
            "       [7.7, 3.8, 6.7, 2.2],\n",
            "       [7.7, 2.6, 6.9, 2.3],\n",
            "       [6. , 2.2, 5. , 1.5],\n",
            "       [6.9, 3.2, 5.7, 2.3],\n",
            "       [5.6, 2.8, 4.9, 2. ],\n",
            "       [7.7, 2.8, 6.7, 2. ],\n",
            "       [6.3, 2.7, 4.9, 1.8],\n",
            "       [6.7, 3.3, 5.7, 2.1],\n",
            "       [7.2, 3.2, 6. , 1.8],\n",
            "       [6.2, 2.8, 4.8, 1.8],\n",
            "       [6.1, 3. , 4.9, 1.8],\n",
            "       [6.4, 2.8, 5.6, 2.1],\n",
            "       [7.2, 3. , 5.8, 1.6],\n",
            "       [7.4, 2.8, 6.1, 1.9],\n",
            "       [7.9, 3.8, 6.4, 2. ],\n",
            "       [6.4, 2.8, 5.6, 2.2],\n",
            "       [6.3, 2.8, 5.1, 1.5],\n",
            "       [6.1, 2.6, 5.6, 1.4],\n",
            "       [7.7, 3. , 6.1, 2.3],\n",
            "       [6.3, 3.4, 5.6, 2.4],\n",
            "       [6.4, 3.1, 5.5, 1.8],\n",
            "       [6. , 3. , 4.8, 1.8],\n",
            "       [6.9, 3.1, 5.4, 2.1],\n",
            "       [6.7, 3.1, 5.6, 2.4],\n",
            "       [6.9, 3.1, 5.1, 2.3],\n",
            "       [5.8, 2.7, 5.1, 1.9],\n",
            "       [6.8, 3.2, 5.9, 2.3],\n",
            "       [6.7, 3.3, 5.7, 2.5],\n",
            "       [6.7, 3. , 5.2, 2.3],\n",
            "       [6.3, 2.5, 5. , 1.9],\n",
            "       [6.5, 3. , 5.2, 2. ],\n",
            "       [6.2, 3.4, 5.4, 2.3],\n",
            "       [5.9, 3. , 5.1, 1.8]]), 'target': array([0, 0, 0, 0, 0, 0, 0, 0, 0, 0, 0, 0, 0, 0, 0, 0, 0, 0, 0, 0, 0, 0,\n",
            "       0, 0, 0, 0, 0, 0, 0, 0, 0, 0, 0, 0, 0, 0, 0, 0, 0, 0, 0, 0, 0, 0,\n",
            "       0, 0, 0, 0, 0, 0, 1, 1, 1, 1, 1, 1, 1, 1, 1, 1, 1, 1, 1, 1, 1, 1,\n",
            "       1, 1, 1, 1, 1, 1, 1, 1, 1, 1, 1, 1, 1, 1, 1, 1, 1, 1, 1, 1, 1, 1,\n",
            "       1, 1, 1, 1, 1, 1, 1, 1, 1, 1, 1, 1, 2, 2, 2, 2, 2, 2, 2, 2, 2, 2,\n",
            "       2, 2, 2, 2, 2, 2, 2, 2, 2, 2, 2, 2, 2, 2, 2, 2, 2, 2, 2, 2, 2, 2,\n",
            "       2, 2, 2, 2, 2, 2, 2, 2, 2, 2, 2, 2, 2, 2, 2, 2, 2, 2]), 'frame': None, 'target_names': array(['setosa', 'versicolor', 'virginica'], dtype='<U10'), 'DESCR': '.. _iris_dataset:\\n\\nIris plants dataset\\n--------------------\\n\\n**Data Set Characteristics:**\\n\\n:Number of Instances: 150 (50 in each of three classes)\\n:Number of Attributes: 4 numeric, predictive attributes and the class\\n:Attribute Information:\\n    - sepal length in cm\\n    - sepal width in cm\\n    - petal length in cm\\n    - petal width in cm\\n    - class:\\n            - Iris-Setosa\\n            - Iris-Versicolour\\n            - Iris-Virginica\\n\\n:Summary Statistics:\\n\\n============== ==== ==== ======= ===== ====================\\n                Min  Max   Mean    SD   Class Correlation\\n============== ==== ==== ======= ===== ====================\\nsepal length:   4.3  7.9   5.84   0.83    0.7826\\nsepal width:    2.0  4.4   3.05   0.43   -0.4194\\npetal length:   1.0  6.9   3.76   1.76    0.9490  (high!)\\npetal width:    0.1  2.5   1.20   0.76    0.9565  (high!)\\n============== ==== ==== ======= ===== ====================\\n\\n:Missing Attribute Values: None\\n:Class Distribution: 33.3% for each of 3 classes.\\n:Creator: R.A. Fisher\\n:Donor: Michael Marshall (MARSHALL%PLU@io.arc.nasa.gov)\\n:Date: July, 1988\\n\\nThe famous Iris database, first used by Sir R.A. Fisher. The dataset is taken\\nfrom Fisher\\'s paper. Note that it\\'s the same as in R, but not as in the UCI\\nMachine Learning Repository, which has two wrong data points.\\n\\nThis is perhaps the best known database to be found in the\\npattern recognition literature.  Fisher\\'s paper is a classic in the field and\\nis referenced frequently to this day.  (See Duda & Hart, for example.)  The\\ndata set contains 3 classes of 50 instances each, where each class refers to a\\ntype of iris plant.  One class is linearly separable from the other 2; the\\nlatter are NOT linearly separable from each other.\\n\\n.. dropdown:: References\\n\\n  - Fisher, R.A. \"The use of multiple measurements in taxonomic problems\"\\n    Annual Eugenics, 7, Part II, 179-188 (1936); also in \"Contributions to\\n    Mathematical Statistics\" (John Wiley, NY, 1950).\\n  - Duda, R.O., & Hart, P.E. (1973) Pattern Classification and Scene Analysis.\\n    (Q327.D83) John Wiley & Sons.  ISBN 0-471-22361-1.  See page 218.\\n  - Dasarathy, B.V. (1980) \"Nosing Around the Neighborhood: A New System\\n    Structure and Classification Rule for Recognition in Partially Exposed\\n    Environments\".  IEEE Transactions on Pattern Analysis and Machine\\n    Intelligence, Vol. PAMI-2, No. 1, 67-71.\\n  - Gates, G.W. (1972) \"The Reduced Nearest Neighbor Rule\".  IEEE Transactions\\n    on Information Theory, May 1972, 431-433.\\n  - See also: 1988 MLC Proceedings, 54-64.  Cheeseman et al\"s AUTOCLASS II\\n    conceptual clustering system finds 3 classes in the data.\\n  - Many, many more ...\\n', 'feature_names': ['sepal length (cm)', 'sepal width (cm)', 'petal length (cm)', 'petal width (cm)'], 'filename': 'iris.csv', 'data_module': 'sklearn.datasets.data'}\n"
          ]
        }
      ]
    },
    {
      "cell_type": "code",
      "source": [
        "print(X.shape)  # (150, 4), 150 samples and 4 features\n",
        "print(y.shape)  # (150,), 150 target labels"
      ],
      "metadata": {
        "colab": {
          "base_uri": "https://localhost:8080/"
        },
        "id": "Z5XUedpUhfRQ",
        "outputId": "d75707a6-9b9a-4abf-d38b-7d2362927950"
      },
      "execution_count": null,
      "outputs": [
        {
          "output_type": "stream",
          "name": "stdout",
          "text": [
            "(150, 4)\n",
            "(150,)\n"
          ]
        }
      ]
    },
    {
      "cell_type": "code",
      "source": [
        "print(iris.feature_names)\n",
        "print(iris.target_names)"
      ],
      "metadata": {
        "colab": {
          "base_uri": "https://localhost:8080/"
        },
        "id": "5uvc6RIZhoX3",
        "outputId": "fc6bd63b-072a-439c-a63c-fdd4aad4a1b6"
      },
      "execution_count": null,
      "outputs": [
        {
          "output_type": "stream",
          "name": "stdout",
          "text": [
            "['sepal length (cm)', 'sepal width (cm)', 'petal length (cm)', 'petal width (cm)']\n",
            "['setosa' 'versicolor' 'virginica']\n"
          ]
        }
      ]
    },
    {
      "cell_type": "markdown",
      "source": [
        "**3. Split the Data into Training and Test Sets**\n",
        "\n",
        "To evaluate the model's performance, you'll need to split the dataset into a training set and a test set. This way, the model can be trained on one set of data and tested on another to ensure it generalizes well.\n",
        "\n",
        "Use the <code>train_test_split </code>function from <code>sklearn.model_selection</code>:"
      ],
      "metadata": {
        "id": "h4imkM86l9Yg"
      }
    },
    {
      "cell_type": "code",
      "source": [
        "X_train, X_test, y_train, y_test = train_test_split(X, y, test_size=0.3, random_state=42)"
      ],
      "metadata": {
        "id": "mDdfyrgkmXCX"
      },
      "execution_count": null,
      "outputs": []
    },
    {
      "cell_type": "markdown",
      "source": [
        "Here:\n",
        "\n",
        "*   X_train and y_train are the training features and labels.\n",
        "\n",
        "*   X_test and y_test are the test features and labels.\n",
        "*   test_size=0.3 means 30% of the data will be used for testing, and 70% for\n",
        "\n",
        "*   test_size=0.3 means 30% of the data will be used for testing, and 70% for training.\n",
        "*   random_state=42 ensures reproducibility of the results.\n",
        "\n"
      ],
      "metadata": {
        "id": "YXm6hGJimsI3"
      }
    },
    {
      "cell_type": "markdown",
      "source": [
        "**4. Create and Train a Model**\n",
        "\n",
        "Now, let's use a simple classification algorithm. We'll use the K-Nearest Neighbors (KNN) classifier, which is a simple but effective algorithm for classification tasks."
      ],
      "metadata": {
        "id": "rc_oGj0Rncc4"
      }
    },
    {
      "cell_type": "code",
      "source": [
        "# Initialize the KNN classifier\n",
        "knn = KNeighborsClassifier(n_neighbors=3)\n",
        "\n",
        "# Train the classifier on the training data\n",
        "knn.fit(X_train, y_train)"
      ],
      "metadata": {
        "colab": {
          "base_uri": "https://localhost:8080/",
          "height": 57
        },
        "id": "McROsJ_HnkQY",
        "outputId": "e75a4175-1f91-46cc-ff50-188e1f6312b2"
      },
      "execution_count": null,
      "outputs": [
        {
          "output_type": "execute_result",
          "data": {
            "text/plain": [
              "KNeighborsClassifier(n_neighbors=3)"
            ],
            "text/html": [
              "<style>#sk-container-id-1 {\n",
              "  /* Definition of color scheme common for light and dark mode */\n",
              "  --sklearn-color-text: black;\n",
              "  --sklearn-color-line: gray;\n",
              "  /* Definition of color scheme for unfitted estimators */\n",
              "  --sklearn-color-unfitted-level-0: #fff5e6;\n",
              "  --sklearn-color-unfitted-level-1: #f6e4d2;\n",
              "  --sklearn-color-unfitted-level-2: #ffe0b3;\n",
              "  --sklearn-color-unfitted-level-3: chocolate;\n",
              "  /* Definition of color scheme for fitted estimators */\n",
              "  --sklearn-color-fitted-level-0: #f0f8ff;\n",
              "  --sklearn-color-fitted-level-1: #d4ebff;\n",
              "  --sklearn-color-fitted-level-2: #b3dbfd;\n",
              "  --sklearn-color-fitted-level-3: cornflowerblue;\n",
              "\n",
              "  /* Specific color for light theme */\n",
              "  --sklearn-color-text-on-default-background: var(--sg-text-color, var(--theme-code-foreground, var(--jp-content-font-color1, black)));\n",
              "  --sklearn-color-background: var(--sg-background-color, var(--theme-background, var(--jp-layout-color0, white)));\n",
              "  --sklearn-color-border-box: var(--sg-text-color, var(--theme-code-foreground, var(--jp-content-font-color1, black)));\n",
              "  --sklearn-color-icon: #696969;\n",
              "\n",
              "  @media (prefers-color-scheme: dark) {\n",
              "    /* Redefinition of color scheme for dark theme */\n",
              "    --sklearn-color-text-on-default-background: var(--sg-text-color, var(--theme-code-foreground, var(--jp-content-font-color1, white)));\n",
              "    --sklearn-color-background: var(--sg-background-color, var(--theme-background, var(--jp-layout-color0, #111)));\n",
              "    --sklearn-color-border-box: var(--sg-text-color, var(--theme-code-foreground, var(--jp-content-font-color1, white)));\n",
              "    --sklearn-color-icon: #878787;\n",
              "  }\n",
              "}\n",
              "\n",
              "#sk-container-id-1 {\n",
              "  color: var(--sklearn-color-text);\n",
              "}\n",
              "\n",
              "#sk-container-id-1 pre {\n",
              "  padding: 0;\n",
              "}\n",
              "\n",
              "#sk-container-id-1 input.sk-hidden--visually {\n",
              "  border: 0;\n",
              "  clip: rect(1px 1px 1px 1px);\n",
              "  clip: rect(1px, 1px, 1px, 1px);\n",
              "  height: 1px;\n",
              "  margin: -1px;\n",
              "  overflow: hidden;\n",
              "  padding: 0;\n",
              "  position: absolute;\n",
              "  width: 1px;\n",
              "}\n",
              "\n",
              "#sk-container-id-1 div.sk-dashed-wrapped {\n",
              "  border: 1px dashed var(--sklearn-color-line);\n",
              "  margin: 0 0.4em 0.5em 0.4em;\n",
              "  box-sizing: border-box;\n",
              "  padding-bottom: 0.4em;\n",
              "  background-color: var(--sklearn-color-background);\n",
              "}\n",
              "\n",
              "#sk-container-id-1 div.sk-container {\n",
              "  /* jupyter's `normalize.less` sets `[hidden] { display: none; }`\n",
              "     but bootstrap.min.css set `[hidden] { display: none !important; }`\n",
              "     so we also need the `!important` here to be able to override the\n",
              "     default hidden behavior on the sphinx rendered scikit-learn.org.\n",
              "     See: https://github.com/scikit-learn/scikit-learn/issues/21755 */\n",
              "  display: inline-block !important;\n",
              "  position: relative;\n",
              "}\n",
              "\n",
              "#sk-container-id-1 div.sk-text-repr-fallback {\n",
              "  display: none;\n",
              "}\n",
              "\n",
              "div.sk-parallel-item,\n",
              "div.sk-serial,\n",
              "div.sk-item {\n",
              "  /* draw centered vertical line to link estimators */\n",
              "  background-image: linear-gradient(var(--sklearn-color-text-on-default-background), var(--sklearn-color-text-on-default-background));\n",
              "  background-size: 2px 100%;\n",
              "  background-repeat: no-repeat;\n",
              "  background-position: center center;\n",
              "}\n",
              "\n",
              "/* Parallel-specific style estimator block */\n",
              "\n",
              "#sk-container-id-1 div.sk-parallel-item::after {\n",
              "  content: \"\";\n",
              "  width: 100%;\n",
              "  border-bottom: 2px solid var(--sklearn-color-text-on-default-background);\n",
              "  flex-grow: 1;\n",
              "}\n",
              "\n",
              "#sk-container-id-1 div.sk-parallel {\n",
              "  display: flex;\n",
              "  align-items: stretch;\n",
              "  justify-content: center;\n",
              "  background-color: var(--sklearn-color-background);\n",
              "  position: relative;\n",
              "}\n",
              "\n",
              "#sk-container-id-1 div.sk-parallel-item {\n",
              "  display: flex;\n",
              "  flex-direction: column;\n",
              "}\n",
              "\n",
              "#sk-container-id-1 div.sk-parallel-item:first-child::after {\n",
              "  align-self: flex-end;\n",
              "  width: 50%;\n",
              "}\n",
              "\n",
              "#sk-container-id-1 div.sk-parallel-item:last-child::after {\n",
              "  align-self: flex-start;\n",
              "  width: 50%;\n",
              "}\n",
              "\n",
              "#sk-container-id-1 div.sk-parallel-item:only-child::after {\n",
              "  width: 0;\n",
              "}\n",
              "\n",
              "/* Serial-specific style estimator block */\n",
              "\n",
              "#sk-container-id-1 div.sk-serial {\n",
              "  display: flex;\n",
              "  flex-direction: column;\n",
              "  align-items: center;\n",
              "  background-color: var(--sklearn-color-background);\n",
              "  padding-right: 1em;\n",
              "  padding-left: 1em;\n",
              "}\n",
              "\n",
              "\n",
              "/* Toggleable style: style used for estimator/Pipeline/ColumnTransformer box that is\n",
              "clickable and can be expanded/collapsed.\n",
              "- Pipeline and ColumnTransformer use this feature and define the default style\n",
              "- Estimators will overwrite some part of the style using the `sk-estimator` class\n",
              "*/\n",
              "\n",
              "/* Pipeline and ColumnTransformer style (default) */\n",
              "\n",
              "#sk-container-id-1 div.sk-toggleable {\n",
              "  /* Default theme specific background. It is overwritten whether we have a\n",
              "  specific estimator or a Pipeline/ColumnTransformer */\n",
              "  background-color: var(--sklearn-color-background);\n",
              "}\n",
              "\n",
              "/* Toggleable label */\n",
              "#sk-container-id-1 label.sk-toggleable__label {\n",
              "  cursor: pointer;\n",
              "  display: block;\n",
              "  width: 100%;\n",
              "  margin-bottom: 0;\n",
              "  padding: 0.5em;\n",
              "  box-sizing: border-box;\n",
              "  text-align: center;\n",
              "}\n",
              "\n",
              "#sk-container-id-1 label.sk-toggleable__label-arrow:before {\n",
              "  /* Arrow on the left of the label */\n",
              "  content: \"▸\";\n",
              "  float: left;\n",
              "  margin-right: 0.25em;\n",
              "  color: var(--sklearn-color-icon);\n",
              "}\n",
              "\n",
              "#sk-container-id-1 label.sk-toggleable__label-arrow:hover:before {\n",
              "  color: var(--sklearn-color-text);\n",
              "}\n",
              "\n",
              "/* Toggleable content - dropdown */\n",
              "\n",
              "#sk-container-id-1 div.sk-toggleable__content {\n",
              "  max-height: 0;\n",
              "  max-width: 0;\n",
              "  overflow: hidden;\n",
              "  text-align: left;\n",
              "  /* unfitted */\n",
              "  background-color: var(--sklearn-color-unfitted-level-0);\n",
              "}\n",
              "\n",
              "#sk-container-id-1 div.sk-toggleable__content.fitted {\n",
              "  /* fitted */\n",
              "  background-color: var(--sklearn-color-fitted-level-0);\n",
              "}\n",
              "\n",
              "#sk-container-id-1 div.sk-toggleable__content pre {\n",
              "  margin: 0.2em;\n",
              "  border-radius: 0.25em;\n",
              "  color: var(--sklearn-color-text);\n",
              "  /* unfitted */\n",
              "  background-color: var(--sklearn-color-unfitted-level-0);\n",
              "}\n",
              "\n",
              "#sk-container-id-1 div.sk-toggleable__content.fitted pre {\n",
              "  /* unfitted */\n",
              "  background-color: var(--sklearn-color-fitted-level-0);\n",
              "}\n",
              "\n",
              "#sk-container-id-1 input.sk-toggleable__control:checked~div.sk-toggleable__content {\n",
              "  /* Expand drop-down */\n",
              "  max-height: 200px;\n",
              "  max-width: 100%;\n",
              "  overflow: auto;\n",
              "}\n",
              "\n",
              "#sk-container-id-1 input.sk-toggleable__control:checked~label.sk-toggleable__label-arrow:before {\n",
              "  content: \"▾\";\n",
              "}\n",
              "\n",
              "/* Pipeline/ColumnTransformer-specific style */\n",
              "\n",
              "#sk-container-id-1 div.sk-label input.sk-toggleable__control:checked~label.sk-toggleable__label {\n",
              "  color: var(--sklearn-color-text);\n",
              "  background-color: var(--sklearn-color-unfitted-level-2);\n",
              "}\n",
              "\n",
              "#sk-container-id-1 div.sk-label.fitted input.sk-toggleable__control:checked~label.sk-toggleable__label {\n",
              "  background-color: var(--sklearn-color-fitted-level-2);\n",
              "}\n",
              "\n",
              "/* Estimator-specific style */\n",
              "\n",
              "/* Colorize estimator box */\n",
              "#sk-container-id-1 div.sk-estimator input.sk-toggleable__control:checked~label.sk-toggleable__label {\n",
              "  /* unfitted */\n",
              "  background-color: var(--sklearn-color-unfitted-level-2);\n",
              "}\n",
              "\n",
              "#sk-container-id-1 div.sk-estimator.fitted input.sk-toggleable__control:checked~label.sk-toggleable__label {\n",
              "  /* fitted */\n",
              "  background-color: var(--sklearn-color-fitted-level-2);\n",
              "}\n",
              "\n",
              "#sk-container-id-1 div.sk-label label.sk-toggleable__label,\n",
              "#sk-container-id-1 div.sk-label label {\n",
              "  /* The background is the default theme color */\n",
              "  color: var(--sklearn-color-text-on-default-background);\n",
              "}\n",
              "\n",
              "/* On hover, darken the color of the background */\n",
              "#sk-container-id-1 div.sk-label:hover label.sk-toggleable__label {\n",
              "  color: var(--sklearn-color-text);\n",
              "  background-color: var(--sklearn-color-unfitted-level-2);\n",
              "}\n",
              "\n",
              "/* Label box, darken color on hover, fitted */\n",
              "#sk-container-id-1 div.sk-label.fitted:hover label.sk-toggleable__label.fitted {\n",
              "  color: var(--sklearn-color-text);\n",
              "  background-color: var(--sklearn-color-fitted-level-2);\n",
              "}\n",
              "\n",
              "/* Estimator label */\n",
              "\n",
              "#sk-container-id-1 div.sk-label label {\n",
              "  font-family: monospace;\n",
              "  font-weight: bold;\n",
              "  display: inline-block;\n",
              "  line-height: 1.2em;\n",
              "}\n",
              "\n",
              "#sk-container-id-1 div.sk-label-container {\n",
              "  text-align: center;\n",
              "}\n",
              "\n",
              "/* Estimator-specific */\n",
              "#sk-container-id-1 div.sk-estimator {\n",
              "  font-family: monospace;\n",
              "  border: 1px dotted var(--sklearn-color-border-box);\n",
              "  border-radius: 0.25em;\n",
              "  box-sizing: border-box;\n",
              "  margin-bottom: 0.5em;\n",
              "  /* unfitted */\n",
              "  background-color: var(--sklearn-color-unfitted-level-0);\n",
              "}\n",
              "\n",
              "#sk-container-id-1 div.sk-estimator.fitted {\n",
              "  /* fitted */\n",
              "  background-color: var(--sklearn-color-fitted-level-0);\n",
              "}\n",
              "\n",
              "/* on hover */\n",
              "#sk-container-id-1 div.sk-estimator:hover {\n",
              "  /* unfitted */\n",
              "  background-color: var(--sklearn-color-unfitted-level-2);\n",
              "}\n",
              "\n",
              "#sk-container-id-1 div.sk-estimator.fitted:hover {\n",
              "  /* fitted */\n",
              "  background-color: var(--sklearn-color-fitted-level-2);\n",
              "}\n",
              "\n",
              "/* Specification for estimator info (e.g. \"i\" and \"?\") */\n",
              "\n",
              "/* Common style for \"i\" and \"?\" */\n",
              "\n",
              ".sk-estimator-doc-link,\n",
              "a:link.sk-estimator-doc-link,\n",
              "a:visited.sk-estimator-doc-link {\n",
              "  float: right;\n",
              "  font-size: smaller;\n",
              "  line-height: 1em;\n",
              "  font-family: monospace;\n",
              "  background-color: var(--sklearn-color-background);\n",
              "  border-radius: 1em;\n",
              "  height: 1em;\n",
              "  width: 1em;\n",
              "  text-decoration: none !important;\n",
              "  margin-left: 1ex;\n",
              "  /* unfitted */\n",
              "  border: var(--sklearn-color-unfitted-level-1) 1pt solid;\n",
              "  color: var(--sklearn-color-unfitted-level-1);\n",
              "}\n",
              "\n",
              ".sk-estimator-doc-link.fitted,\n",
              "a:link.sk-estimator-doc-link.fitted,\n",
              "a:visited.sk-estimator-doc-link.fitted {\n",
              "  /* fitted */\n",
              "  border: var(--sklearn-color-fitted-level-1) 1pt solid;\n",
              "  color: var(--sklearn-color-fitted-level-1);\n",
              "}\n",
              "\n",
              "/* On hover */\n",
              "div.sk-estimator:hover .sk-estimator-doc-link:hover,\n",
              ".sk-estimator-doc-link:hover,\n",
              "div.sk-label-container:hover .sk-estimator-doc-link:hover,\n",
              ".sk-estimator-doc-link:hover {\n",
              "  /* unfitted */\n",
              "  background-color: var(--sklearn-color-unfitted-level-3);\n",
              "  color: var(--sklearn-color-background);\n",
              "  text-decoration: none;\n",
              "}\n",
              "\n",
              "div.sk-estimator.fitted:hover .sk-estimator-doc-link.fitted:hover,\n",
              ".sk-estimator-doc-link.fitted:hover,\n",
              "div.sk-label-container:hover .sk-estimator-doc-link.fitted:hover,\n",
              ".sk-estimator-doc-link.fitted:hover {\n",
              "  /* fitted */\n",
              "  background-color: var(--sklearn-color-fitted-level-3);\n",
              "  color: var(--sklearn-color-background);\n",
              "  text-decoration: none;\n",
              "}\n",
              "\n",
              "/* Span, style for the box shown on hovering the info icon */\n",
              ".sk-estimator-doc-link span {\n",
              "  display: none;\n",
              "  z-index: 9999;\n",
              "  position: relative;\n",
              "  font-weight: normal;\n",
              "  right: .2ex;\n",
              "  padding: .5ex;\n",
              "  margin: .5ex;\n",
              "  width: min-content;\n",
              "  min-width: 20ex;\n",
              "  max-width: 50ex;\n",
              "  color: var(--sklearn-color-text);\n",
              "  box-shadow: 2pt 2pt 4pt #999;\n",
              "  /* unfitted */\n",
              "  background: var(--sklearn-color-unfitted-level-0);\n",
              "  border: .5pt solid var(--sklearn-color-unfitted-level-3);\n",
              "}\n",
              "\n",
              ".sk-estimator-doc-link.fitted span {\n",
              "  /* fitted */\n",
              "  background: var(--sklearn-color-fitted-level-0);\n",
              "  border: var(--sklearn-color-fitted-level-3);\n",
              "}\n",
              "\n",
              ".sk-estimator-doc-link:hover span {\n",
              "  display: block;\n",
              "}\n",
              "\n",
              "/* \"?\"-specific style due to the `<a>` HTML tag */\n",
              "\n",
              "#sk-container-id-1 a.estimator_doc_link {\n",
              "  float: right;\n",
              "  font-size: 1rem;\n",
              "  line-height: 1em;\n",
              "  font-family: monospace;\n",
              "  background-color: var(--sklearn-color-background);\n",
              "  border-radius: 1rem;\n",
              "  height: 1rem;\n",
              "  width: 1rem;\n",
              "  text-decoration: none;\n",
              "  /* unfitted */\n",
              "  color: var(--sklearn-color-unfitted-level-1);\n",
              "  border: var(--sklearn-color-unfitted-level-1) 1pt solid;\n",
              "}\n",
              "\n",
              "#sk-container-id-1 a.estimator_doc_link.fitted {\n",
              "  /* fitted */\n",
              "  border: var(--sklearn-color-fitted-level-1) 1pt solid;\n",
              "  color: var(--sklearn-color-fitted-level-1);\n",
              "}\n",
              "\n",
              "/* On hover */\n",
              "#sk-container-id-1 a.estimator_doc_link:hover {\n",
              "  /* unfitted */\n",
              "  background-color: var(--sklearn-color-unfitted-level-3);\n",
              "  color: var(--sklearn-color-background);\n",
              "  text-decoration: none;\n",
              "}\n",
              "\n",
              "#sk-container-id-1 a.estimator_doc_link.fitted:hover {\n",
              "  /* fitted */\n",
              "  background-color: var(--sklearn-color-fitted-level-3);\n",
              "}\n",
              "</style><div id=\"sk-container-id-1\" class=\"sk-top-container\"><div class=\"sk-text-repr-fallback\"><pre>KNeighborsClassifier(n_neighbors=3)</pre><b>In a Jupyter environment, please rerun this cell to show the HTML representation or trust the notebook. <br />On GitHub, the HTML representation is unable to render, please try loading this page with nbviewer.org.</b></div><div class=\"sk-container\" hidden><div class=\"sk-item\"><div class=\"sk-estimator fitted sk-toggleable\"><input class=\"sk-toggleable__control sk-hidden--visually\" id=\"sk-estimator-id-1\" type=\"checkbox\" checked><label for=\"sk-estimator-id-1\" class=\"sk-toggleable__label fitted sk-toggleable__label-arrow fitted\">&nbsp;&nbsp;KNeighborsClassifier<a class=\"sk-estimator-doc-link fitted\" rel=\"noreferrer\" target=\"_blank\" href=\"https://scikit-learn.org/1.5/modules/generated/sklearn.neighbors.KNeighborsClassifier.html\">?<span>Documentation for KNeighborsClassifier</span></a><span class=\"sk-estimator-doc-link fitted\">i<span>Fitted</span></span></label><div class=\"sk-toggleable__content fitted\"><pre>KNeighborsClassifier(n_neighbors=3)</pre></div> </div></div></div></div>"
            ]
          },
          "metadata": {},
          "execution_count": 15
        }
      ]
    },
    {
      "cell_type": "markdown",
      "source": [
        "**5. Make Predictions**\n",
        "\n",
        "After training the model, you can use it to make predictions on the test set."
      ],
      "metadata": {
        "id": "MaJ6Z2EIoOHY"
      }
    },
    {
      "cell_type": "code",
      "source": [
        "# Make predictions on the test set\n",
        "y_pred = knn.predict(X_test)"
      ],
      "metadata": {
        "id": "OLhuEOVToQiP"
      },
      "execution_count": null,
      "outputs": []
    },
    {
      "cell_type": "markdown",
      "source": [
        "**6. Evaluate the Model**\n",
        "\n",
        "To evaluate the performance of the model, you can calculate the accuracy using Scikit-learn's <code>accuracy_score</code> function:"
      ],
      "metadata": {
        "id": "Vw6_F8fyoYiI"
      }
    },
    {
      "cell_type": "code",
      "source": [
        "# Calculate accuracy\n",
        "accuracy = accuracy_score(y_test, y_pred)\n",
        "print(f'Accuracy: {accuracy * 100:.2f}%')"
      ],
      "metadata": {
        "colab": {
          "base_uri": "https://localhost:8080/"
        },
        "id": "noBJ9uRJof03",
        "outputId": "171bc808-3ec9-4321-8b9c-1feae5aa06e4"
      },
      "execution_count": null,
      "outputs": [
        {
          "output_type": "stream",
          "name": "stdout",
          "text": [
            "Accuracy: 100.00%\n"
          ]
        }
      ]
    },
    {
      "cell_type": "markdown",
      "source": [
        "7**. Full Code Example**\n",
        "\n",
        "Here’s the full code to put it all together:"
      ],
      "metadata": {
        "id": "vlWJeM9GpGQY"
      }
    },
    {
      "cell_type": "code",
      "source": [
        "import numpy as np\n",
        "from sklearn.model_selection import train_test_split\n",
        "from sklearn.datasets import load_iris\n",
        "from sklearn.neighbors import KNeighborsClassifier\n",
        "from sklearn.metrics import accuracy_score\n",
        "\n",
        "# Load the Iris dataset\n",
        "iris = load_iris()\n",
        "X = iris.data  # Features\n",
        "y = iris.target  # Target labels\n",
        "\n",
        "# Split the data into training and testing sets\n",
        "X_train, X_test, y_train, y_test = train_test_split(X, y, test_size=0.3, random_state=42)\n",
        "\n",
        "# Initialize the KNN classifier\n",
        "knn = KNeighborsClassifier(n_neighbors=3)\n",
        "\n",
        "# Train the model\n",
        "knn.fit(X_train, y_train)\n",
        "\n",
        "# Make predictions on the test set\n",
        "y_pred = knn.predict(X_test)\n",
        "\n",
        "# Calculate and print the accuracy\n",
        "accuracy = accuracy_score(y_test, y_pred)\n",
        "print(f'Accuracy: {accuracy * 100:.2f}%')\n"
      ],
      "metadata": {
        "colab": {
          "base_uri": "https://localhost:8080/"
        },
        "id": "Q804k8VUpLwa",
        "outputId": "d97e6bd5-f3ec-407b-906f-eea6b3ca6345"
      },
      "execution_count": null,
      "outputs": [
        {
          "output_type": "stream",
          "name": "stdout",
          "text": [
            "Accuracy: 100.00%\n"
          ]
        }
      ]
    },
    {
      "cell_type": "markdown",
      "source": [
        "**8. Optional: Explore Other Models**\n",
        "\n",
        "Once you've got the basic model working, you can try other models such as:\n",
        "\n",
        "* Logistic Regression (LogisticRegression)\n",
        "* Support Vector Machines (SVM) (SVC)\n",
        "* Decision Trees (DecisionTreeClassifier)\n",
        "* Random Forests (RandomForestClassifier)"
      ],
      "metadata": {
        "id": "-96fYveYpTtS"
      }
    },
    {
      "cell_type": "code",
      "source": [
        "# For example, to try a Logistic Regression model:\n",
        "from sklearn.linear_model import LogisticRegression\n",
        "\n",
        "# Initialize and train the logistic regression model\n",
        "logreg = LogisticRegression(max_iter=200)\n",
        "logreg.fit(X_train, y_train)\n",
        "\n",
        "# Make predictions and evaluate\n",
        "y_pred_logreg = logreg.predict(X_test)\n",
        "accuracy_logreg = accuracy_score(y_test, y_pred_logreg)\n",
        "print(f'Logistic Regression Accuracy: {accuracy_logreg * 100:.2f}%')"
      ],
      "metadata": {
        "colab": {
          "base_uri": "https://localhost:8080/"
        },
        "id": "39l6sEQWphxR",
        "outputId": "f1c831f4-732e-4a04-a486-b9e770e2d72b"
      },
      "execution_count": null,
      "outputs": [
        {
          "output_type": "stream",
          "name": "stdout",
          "text": [
            "Logistic Regression Accuracy: 100.00%\n"
          ]
        }
      ]
    },
    {
      "cell_type": "markdown",
      "source": [
        "# Lab 7: Model Evaluation"
      ],
      "metadata": {
        "id": "cdxbefrxp4C4"
      }
    },
    {
      "cell_type": "markdown",
      "source": [
        "**Objective:**\n",
        "\n",
        "The goal of this lab is to understand the various techniques and metrics used to evaluate the performance of machine learning models. By the end of this lab, you should be able to:\n",
        "\n",
        "1. Split data into training and test sets.\n",
        "2. Understand and apply different evaluation metrics for classification models.\n",
        "3. Use cross-validation to assess model performance.\n",
        "4. Improve model evaluation using confusion matrices and classification reports."
      ],
      "metadata": {
        "id": "f91K_2rYqA9Q"
      }
    },
    {
      "cell_type": "markdown",
      "source": [
        "**KNN**\n",
        "\n",
        "Non-parametric, supervised learning classifier\n",
        "The k-nearest neighbors (KNN) algorithm is a non-parametric, supervised learning classifier. It identifies the K-nearest neighbors to a given data point using a distance metric, making predictions based on similar data points in the dataset. KNN is used for classification and regression, and it compares one data point with a set of data it was trained on to make predictions."
      ],
      "metadata": {
        "id": "UZQoxfX0sZLx"
      }
    },
    {
      "cell_type": "markdown",
      "source": [
        "**1. Recap: Data Splitting**\n",
        "\n",
        "As in the previous lab, you need to split the dataset into a training set and a test set to evaluate your model's performance. In this lab, we'll continue using the Iris dataset and apply different evaluation methods.\n",
        "\n",
        "Here's a quick reminder of how to split the dataset:\n",
        "\n"
      ],
      "metadata": {
        "id": "30oBIdGvtpPJ"
      }
    },
    {
      "cell_type": "code",
      "source": [
        "import numpy as np\n",
        "from sklearn.model_selection import train_test_split\n",
        "from sklearn.datasets import load_iris\n",
        "\n",
        "# Load the Iris dataset\n",
        "iris = load_iris()\n",
        "X = iris.data  # Features\n",
        "y = iris.target  # Target labels\n",
        "\n",
        "# Split data into training and test sets (70% training, 30% testing)\n",
        "X_train, X_test, y_train, y_test = train_test_split(X, y, test_size=0.3, random_state=42)\n"
      ],
      "metadata": {
        "id": "I2LGEhsIttiB"
      },
      "execution_count": null,
      "outputs": []
    },
    {
      "cell_type": "markdown",
      "source": [
        "**2. Model Training (KNN Example)**\n",
        "\n",
        "You will train the K-Nearest Neighbors (KNN) classifier just as we did previously:"
      ],
      "metadata": {
        "id": "h1xY1MzTtwCp"
      }
    },
    {
      "cell_type": "code",
      "source": [
        "from sklearn.neighbors import KNeighborsClassifier\n",
        "\n",
        "# Initialize the KNN classifier\n",
        "knn = KNeighborsClassifier(n_neighbors=3)\n",
        "\n",
        "# Train the classifier on the training data\n",
        "knn.fit(X_train, y_train)\n",
        "\n",
        "# Make predictions on the test set\n",
        "y_pred = knn.predict(X_test)"
      ],
      "metadata": {
        "id": "iCRWPhNBty6Z"
      },
      "execution_count": null,
      "outputs": []
    },
    {
      "cell_type": "markdown",
      "source": [
        "Now that the model is trained and you have predictions (y_pred), you can evaluate its performance using several metrics.\n",
        "\n",
        "**3. Evaluation Metrics**\n",
        "\n",
        "**3.1 Accuracy**\n",
        "\n",
        "Accuracy is the simplest and most commonly used evaluation metric for classification tasks. It is calculated as the ratio of correct predictions to total predictions:\n",
        "<pre>\n",
        "             Number of Correct Predictions\n",
        "Accuracy = --------------------------------\n",
        "             Total Number of Predictions\n",
        "\n",
        " </pre>"
      ],
      "metadata": {
        "id": "mzBJtjlBuA1h"
      }
    },
    {
      "cell_type": "code",
      "source": [
        "# You can calculate it as follows:\n",
        "\n",
        "from sklearn.metrics import accuracy_score\n",
        "\n",
        "# Calculate and print accuracy\n",
        "accuracy = accuracy_score(y_test, y_pred)\n",
        "print(f'Accuracy: {accuracy * 100:.2f}%')\n"
      ],
      "metadata": {
        "colab": {
          "base_uri": "https://localhost:8080/"
        },
        "id": "oQsk6IFiupvZ",
        "outputId": "3dce5119-93e4-4d89-c485-dacd11acf3b4"
      },
      "execution_count": null,
      "outputs": [
        {
          "output_type": "stream",
          "name": "stdout",
          "text": [
            "Accuracy: 100.00%\n"
          ]
        }
      ]
    },
    {
      "cell_type": "markdown",
      "source": [
        "**3.2 Confusion Matrix**\n",
        "\n",
        "A confusion matrix provides a more detailed view of a model’s performance by showing how many instances were classified correctly and incorrectly across different classes. It helps you see not just the accuracy, but also the types of errors your model is making.\n",
        "\n",
        "You can create and display a confusion matrix with Scikit-learn's <code>confusion_matrix</code> function:"
      ],
      "metadata": {
        "id": "uMyk62ggvyOR"
      }
    },
    {
      "cell_type": "code",
      "source": [
        "from sklearn.metrics import confusion_matrix\n",
        "import seaborn as sns\n",
        "import matplotlib.pyplot as plt\n",
        "\n",
        "# Generate the confusion matrix\n",
        "cm = confusion_matrix(y_test, y_pred)\n",
        "\n",
        "# Plot the confusion matrix as a heatmap\n",
        "sns.heatmap(cm, annot=True, fmt='d', cmap='Blues', xticklabels=iris.target_names, yticklabels=iris.target_names)\n",
        "plt.xlabel('Predicted')\n",
        "plt.ylabel('True')\n",
        "plt.title('Confusion Matrix')\n",
        "plt.show()"
      ],
      "metadata": {
        "colab": {
          "base_uri": "https://localhost:8080/",
          "height": 472
        },
        "id": "jzWA4h7nv5vB",
        "outputId": "86ddaf8c-dab6-4d8a-ef3d-b7da28f78265"
      },
      "execution_count": null,
      "outputs": [
        {
          "output_type": "display_data",
          "data": {
            "text/plain": [
              "<Figure size 640x480 with 2 Axes>"
            ],
            "image/png": "[encoded data removed]"
          },
          "metadata": {}
        }
      ]
    },
    {
      "cell_type": "markdown",
      "source": [
        "In the confusion matrix:\n",
        "\n",
        "* Diagonal elements represent the correctly classified instances for each class.\n",
        "* Off-diagonal elements represent the misclassified instances."
      ],
      "metadata": {
        "id": "HpeHlv8ww6ox"
      }
    },
    {
      "cell_type": "markdown",
      "source": [
        "**3.3 Classification Report**\n",
        "\n",
        "A classification report gives you a more detailed understanding of your model's performance, including precision, recall, and F1-score. It is particularly useful when dealing with imbalanced datasets.\n",
        "\n",
        "Precision: The percentage of positive predictions that are actually correct.\n",
        "\n",
        "<pre>\n",
        "                    True Positives\n",
        "Precision =  -------------------------------\n",
        "              True Positives + False Positives\n",
        "</pre>\n",
        "Recall: The percentage of actual positives that were correctly identified.\n",
        "<pre>\n",
        "                    True Positives\n",
        "Precision =  -------------------------------\n",
        "              True Positives + False Negatives\n",
        "​</pre>\n",
        "F1-Score: The harmonic mean of precision and recall. It gives a balance between precision and recall.\n",
        "\n",
        "You can generate a classification report using Scikit-learn's <code>classification_report</code>:"
      ],
      "metadata": {
        "id": "qfTMKTTkxxWS"
      }
    },
    {
      "cell_type": "code",
      "source": [
        "from sklearn.metrics import classification_report\n",
        "\n",
        "# Generate and print the classification report\n",
        "print(classification_report(y_test, y_pred, target_names=iris.target_names))"
      ],
      "metadata": {
        "colab": {
          "base_uri": "https://localhost:8080/"
        },
        "id": "9tM7WSMTzF3o",
        "outputId": "057bc248-815c-4cd2-e04b-7e2f3ba9bdf8"
      },
      "execution_count": null,
      "outputs": [
        {
          "output_type": "stream",
          "name": "stdout",
          "text": [
            "              precision    recall  f1-score   support\n",
            "\n",
            "      setosa       1.00      1.00      1.00        19\n",
            "  versicolor       1.00      1.00      1.00        13\n",
            "   virginica       1.00      1.00      1.00        13\n",
            "\n",
            "    accuracy                           1.00        45\n",
            "   macro avg       1.00      1.00      1.00        45\n",
            "weighted avg       1.00      1.00      1.00        45\n",
            "\n"
          ]
        }
      ]
    },
    {
      "cell_type": "markdown",
      "source": [
        "* Precision, Recall, F1-Score are computed for each class (setosa, versicolor, virginica).\n",
        "* Support is the number of true instances for each class in the test set."
      ],
      "metadata": {
        "id": "Lr31lSVrzoNi"
      }
    },
    {
      "cell_type": "markdown",
      "source": [
        "**3.4 Cross-Validation**\n",
        "\n",
        "Cross-validation is a technique used to assess the model’s performance more reliably by splitting the data into multiple subsets (folds) and training/testing the model on different combinations of these folds. This helps mitigate issues like overfitting and gives a better estimate of the model’s performance on unseen data.\n",
        "\n",
        "Scikit-learn provides <code>cross_val_score</code> to perform cross-validation:"
      ],
      "metadata": {
        "id": "mslfBuka0jFC"
      }
    },
    {
      "cell_type": "code",
      "source": [
        "from sklearn.model_selection import cross_val_score\n",
        "\n",
        "# Perform cross-validation (using 5 folds)\n",
        "cv_scores = cross_val_score(knn, X, y, cv=5)\n",
        "\n",
        "# Print the cross-validation scores\n",
        "print(f'Cross-validation scores: {cv_scores}')\n",
        "print(f'Mean cross-validation score: {cv_scores.mean() * 100:.2f}%')"
      ],
      "metadata": {
        "colab": {
          "base_uri": "https://localhost:8080/"
        },
        "id": "8EyHKMD61GUy",
        "outputId": "0e0120c2-68c2-48fe-a48d-950ca0eea62d"
      },
      "execution_count": null,
      "outputs": [
        {
          "output_type": "stream",
          "name": "stdout",
          "text": [
            "Cross-validation scores: [0.96666667 0.96666667 0.93333333 0.96666667 1.        ]\n",
            "Mean cross-validation score: 96.67%\n"
          ]
        }
      ]
    },
    {
      "cell_type": "markdown",
      "source": [
        "**4. Putting It All Together**\n",
        "\n",
        "Here’s a complete example that includes model training, accuracy calculation, confusion matrix, classification report, and cross-validation:"
      ],
      "metadata": {
        "id": "xnxekP2x1NmK"
      }
    },
    {
      "cell_type": "code",
      "source": [
        "import numpy as np\n",
        "from sklearn.model_selection import train_test_split, cross_val_score\n",
        "from sklearn.datasets import load_iris\n",
        "from sklearn.neighbors import KNeighborsClassifier\n",
        "from sklearn.metrics import accuracy_score, confusion_matrix, classification_report\n",
        "import seaborn as sns\n",
        "import matplotlib.pyplot as plt\n",
        "\n",
        "# Load the Iris dataset\n",
        "iris = load_iris()\n",
        "X = iris.data  # Features\n",
        "y = iris.target  # Target labels\n",
        "\n",
        "# Split data into training and test sets\n",
        "X_train, X_test, y_train, y_test = train_test_split(X, y, test_size=0.3, random_state=42)\n",
        "\n",
        "# Initialize and train the KNN classifier\n",
        "knn = KNeighborsClassifier(n_neighbors=3)\n",
        "knn.fit(X_train, y_train)\n",
        "\n",
        "# Make predictions on the test set\n",
        "y_pred = knn.predict(X_test)\n",
        "\n",
        "# 1. Accuracy\n",
        "accuracy = accuracy_score(y_test, y_pred)\n",
        "print(f'Accuracy: {accuracy * 100:.2f}%')\n",
        "\n",
        "# 2. Confusion Matrix\n",
        "cm = confusion_matrix(y_test, y_pred)\n",
        "sns.heatmap(cm, annot=True, fmt='d', cmap='Blues', xticklabels=iris.target_names, yticklabels=iris.target_names)\n",
        "plt.xlabel('Predicted')\n",
        "plt.ylabel('True')\n",
        "plt.title('Confusion Matrix')\n",
        "plt.show()\n",
        "\n",
        "# 3. Classification Report\n",
        "print(classification_report(y_test, y_pred, target_names=iris.target_names))\n",
        "\n",
        "# 4. Cross-Validation\n",
        "cv_scores = cross_val_score(knn, X, y, cv=5)\n",
        "print(f'Cross-validation scores: {cv_scores}')\n",
        "print(f'Mean cross-validation score: {cv_scores.mean() * 100:.2f}%')"
      ],
      "metadata": {
        "colab": {
          "base_uri": "https://localhost:8080/",
          "height": 698
        },
        "id": "WMynW76I1Rf6",
        "outputId": "06f3f227-68ce-46da-a579-b11d1db439f5"
      },
      "execution_count": null,
      "outputs": [
        {
          "output_type": "stream",
          "name": "stdout",
          "text": [
            "Accuracy: 100.00%\n"
          ]
        },
        {
          "output_type": "display_data",
          "data": {
            "text/plain": [
              "<Figure size 640x480 with 2 Axes>"
            ],
            "image/png": "[encoded data removed]"
          },
          "metadata": {}
        },
        {
          "output_type": "stream",
          "name": "stdout",
          "text": [
            "              precision    recall  f1-score   support\n",
            "\n",
            "      setosa       1.00      1.00      1.00        19\n",
            "  versicolor       1.00      1.00      1.00        13\n",
            "   virginica       1.00      1.00      1.00        13\n",
            "\n",
            "    accuracy                           1.00        45\n",
            "   macro avg       1.00      1.00      1.00        45\n",
            "weighted avg       1.00      1.00      1.00        45\n",
            "\n",
            "Cross-validation scores: [0.96666667 0.96666667 0.93333333 0.96666667 1.        ]\n",
            "Mean cross-validation score: 96.67%\n"
          ]
        }
      ]
    },
    {
      "cell_type": "markdown",
      "source": [
        "**5. Conclusion**\n",
        "\n",
        "In this lab, you learned how to evaluate machine learning models using different techniques:\n",
        "\n",
        "1. Accuracy is a simple metric but doesn't always tell the full story.\n",
        "2. Confusion Matrix provides a more granular look at classification performance.\n",
        "3. Classification Report includes precision, recall, and F1-score for each class.\n",
        "4. Cross-validation gives a more reliable estimate of model performance.\n",
        "\n",
        "These evaluation techniques are critical for understanding how well your model performs and for identifying areas for improvement."
      ],
      "metadata": {
        "id": "-1zzdViL1s8i"
      }
    },
    {
      "cell_type": "markdown",
      "source": [
        "# Lab 8: Data Preprocessing"
      ],
      "metadata": {
        "id": "yBO9GWxV2Skw"
      }
    },
    {
      "cell_type": "markdown",
      "source": [
        "**Objective:**\n",
        "\n",
        "The objective of this lab is to understand and implement common data preprocessing techniques necessary to prepare raw data for machine learning.\n",
        "\n",
        " *This involves tasks such as:*\n",
        "\n",
        "1. Handling missing data.\n",
        "2. Scaling and normalizing features.\n",
        "3. Encoding categorical variables.\n",
        "4. Splitting the dataset into training and test sets.\n",
        "5. Feature engineering.\n",
        "\n",
        "By the end of this lab, you should be able to apply data preprocessing techniques that are essential for improving the performance of machine learning models."
      ],
      "metadata": {
        "id": "XbBGhsaR2UWb"
      }
    },
    {
      "cell_type": "markdown",
      "source": [
        "**1. Loading the Data**\n",
        "\n",
        "Before preprocessing, you need to load a dataset. For this lab, we'll use the Iris dataset from Scikit-learn. In practice, you would load a dataset from a file (e.g., CSV, Excel), but we'll work with a dataset that's built into Scikit-learn."
      ],
      "metadata": {
        "id": "3eVWrSBN2tz7"
      }
    },
    {
      "cell_type": "code",
      "source": [
        "import numpy as np\n",
        "import pandas as pd\n",
        "from sklearn.datasets import load_iris\n",
        "\n",
        "# Load the Iris dataset\n",
        "iris = load_iris()\n",
        "X = iris.data  # Features\n",
        "y = iris.target  # Target labels\n",
        "\n",
        "# Convert to a DataFrame for easier manipulation\n",
        "df = pd.DataFrame(X, columns=iris.feature_names)\n",
        "df['target'] = y\n",
        "\n",
        "# Preview the data\n",
        "print(df.head())"
      ],
      "metadata": {
        "colab": {
          "base_uri": "https://localhost:8080/"
        },
        "id": "5S6lKpu12xMK",
        "outputId": "b2cefeb9-2129-4b27-a020-d417781acfba"
      },
      "execution_count": null,
      "outputs": [
        {
          "output_type": "stream",
          "name": "stdout",
          "text": [
            "   sepal length (cm)  sepal width (cm)  petal length (cm)  petal width (cm)  \\\n",
            "0                5.1               3.5                1.4               0.2   \n",
            "1                4.9               3.0                1.4               0.2   \n",
            "2                4.7               3.2                1.3               0.2   \n",
            "3                4.6               3.1                1.5               0.2   \n",
            "4                5.0               3.6                1.4               0.2   \n",
            "\n",
            "   target  \n",
            "0       0  \n",
            "1       0  \n",
            "2       0  \n",
            "3       0  \n",
            "4       0  \n"
          ]
        }
      ]
    },
    {
      "cell_type": "markdown",
      "source": [
        "**2. Handling Missing Data**\n",
        "\n",
        "Real-world datasets often contain missing values. It's important to handle them before using the data for training machine learning models. There are several strategies to handle missing data:\n",
        "\n",
        "1. Removing rows with missing data.\n",
        "2. Filling missing values with the mean, median, or mode.\n",
        "3. Using more advanced imputation techniques.\n",
        "\n",
        "For this example, let's simulate missing data and handle it:"
      ],
      "metadata": {
        "id": "vcne8nKV20Hj"
      }
    },
    {
      "cell_type": "code",
      "source": [
        "# Introduce missing values by setting some data points to NaN\n",
        "df.iloc[5:10, 0] = np.nan  # Introduce missing values in the first column (sepal length)\n",
        "\n",
        "# Check for missing values\n",
        "print(df.isnull().sum())\n",
        "\n",
        "# Fill missing values with the mean of the column\n",
        "df.fillna(df.mean(), inplace=True)\n",
        "\n",
        "# Check again\n",
        "print(df.isnull().sum())"
      ],
      "metadata": {
        "colab": {
          "base_uri": "https://localhost:8080/"
        },
        "id": "tnUZhjHP3CGb",
        "outputId": "26524120-f8e6-43d0-ca91-dc3ddba9b50f"
      },
      "execution_count": null,
      "outputs": [
        {
          "output_type": "stream",
          "name": "stdout",
          "text": [
            "sepal length (cm)    5\n",
            "sepal width (cm)     0\n",
            "petal length (cm)    0\n",
            "petal width (cm)     0\n",
            "target               0\n",
            "dtype: int64\n",
            "sepal length (cm)    0\n",
            "sepal width (cm)     0\n",
            "petal length (cm)    0\n",
            "petal width (cm)     0\n",
            "target               0\n",
            "dtype: int64\n"
          ]
        }
      ]
    },
    {
      "cell_type": "markdown",
      "source": [
        "*Here:*\n",
        "\n",
        "* <code>df.isnull().sum()</code> counts the number of missing values in each column.\n",
        "* <code>df.fillna(df.mean())</code> fills missing values with the mean of each feature column."
      ],
      "metadata": {
        "id": "RtqqsZ743IZq"
      }
    },
    {
      "cell_type": "markdown",
      "source": [
        "**3. Feature Scaling and Normalization**\n",
        "\n",
        "In machine learning, features with different scales can affect model performance, especially for models that are sensitive to feature scales (like KNN or SVM). There are two common techniques for scaling features:\n",
        "\n",
        "* **Standardization (Z-score normalization)**: Centers the data around zero with a standard deviation of one.\n",
        "* **Min-Max Scaling:** Scales features to a fixed range, typically [0, 1].\n",
        "We'll use both techniques here.\n",
        "\n",
        "***3.1 Standardization***"
      ],
      "metadata": {
        "id": "5Ms8CIfP3eOD"
      }
    },
    {
      "cell_type": "code",
      "source": [
        "from sklearn.preprocessing import StandardScaler\n",
        "\n",
        "# Initialize the scaler\n",
        "scaler = StandardScaler()\n",
        "\n",
        "# Fit and transform the features\n",
        "X_scaled = scaler.fit_transform(df[iris.feature_names])\n",
        "\n",
        "# Convert the scaled data back into a DataFrame\n",
        "df_scaled = pd.DataFrame(X_scaled, columns=iris.feature_names)\n",
        "print(df_scaled.head())"
      ],
      "metadata": {
        "colab": {
          "base_uri": "https://localhost:8080/"
        },
        "id": "SWI7-gi63tvE",
        "outputId": "a34b2fb0-f134-4caa-f070-8c98a709f789"
      },
      "execution_count": null,
      "outputs": [
        {
          "output_type": "stream",
          "name": "stdout",
          "text": [
            "   sepal length (cm)  sepal width (cm)  petal length (cm)  petal width (cm)\n",
            "0          -0.968656          1.019004          -1.340227         -1.315444\n",
            "1          -1.217910         -0.131979          -1.340227         -1.315444\n",
            "2          -1.467165          0.328414          -1.397064         -1.315444\n",
            "3          -1.591793          0.098217          -1.283389         -1.315444\n",
            "4          -1.093283          1.249201          -1.340227         -1.315444\n"
          ]
        }
      ]
    },
    {
      "cell_type": "markdown",
      "source": [
        "***3.2 Min-Max Scaling***\n",
        "* StandardScaler will standardize the features by removing the mean and scaling to unit variance.\n",
        "* MinMaxScaler scales the features to a range between 0 and 1."
      ],
      "metadata": {
        "id": "UUdoAMIN3y_O"
      }
    },
    {
      "cell_type": "code",
      "source": [
        "from sklearn.preprocessing import MinMaxScaler\n",
        "\n",
        "# Initialize the Min-Max scaler\n",
        "min_max_scaler = MinMaxScaler()\n",
        "\n",
        "# Fit and transform the features\n",
        "X_min_max_scaled = min_max_scaler.fit_transform(df[iris.feature_names])\n",
        "\n",
        "# Convert the scaled data back into a DataFrame\n",
        "df_min_max_scaled = pd.DataFrame(X_min_max_scaled, columns=iris.feature_names)\n",
        "print(df_min_max_scaled.head())"
      ],
      "metadata": {
        "colab": {
          "base_uri": "https://localhost:8080/"
        },
        "id": "yhR6QEZR30or",
        "outputId": "05fedaec-ec2a-4c40-9229-0dd6a9bc4904"
      },
      "execution_count": null,
      "outputs": [
        {
          "output_type": "stream",
          "name": "stdout",
          "text": [
            "   sepal length (cm)  sepal width (cm)  petal length (cm)  petal width (cm)\n",
            "0           0.222222          0.625000           0.067797          0.041667\n",
            "1           0.166667          0.416667           0.067797          0.041667\n",
            "2           0.111111          0.500000           0.050847          0.041667\n",
            "3           0.083333          0.458333           0.084746          0.041667\n",
            "4           0.194444          0.666667           0.067797          0.041667\n"
          ]
        }
      ]
    },
    {
      "cell_type": "markdown",
      "source": [
        "**4. Encoding Categorical Variables**\n",
        "\n",
        "Many machine learning algorithms require numerical input, so categorical variables need to be encoded. There are different techniques for encoding categorical variables:\n",
        "\n",
        "* Label Encoding: Assigns each category a unique integer.\n",
        "* One-Hot Encoding: Creates binary columns for each category.\n",
        "\n",
        "Let's demonstrate one-hot encoding using Scikit-learn.\n",
        "\n",
        "***4.1 One-Hot Encoding***\n",
        "\n",
        "Suppose we have a dataset with a categorical column such as \"species\" (for the Iris dataset, this column is the target variable). We can use **OneHotEncoder** from Scikit-learn."
      ],
      "metadata": {
        "id": "O6My4jRJ4Aba"
      }
    },
    {
      "cell_type": "code",
      "source": [
        "from sklearn.preprocessing import OneHotEncoder\n",
        "\n",
        "# Reshape target variable (y) for encoding\n",
        "y = y.reshape(-1, 1)\n",
        "\n",
        "# Initialize the OneHotEncoder\n",
        "encoder = OneHotEncoder()\n",
        "\n",
        "# Fit and transform the target variable\n",
        "y_encoded = encoder.fit_transform(y).toarray()\n",
        "\n",
        "# Convert the encoded array into a DataFrame for better visualization\n",
        "y_encoded_df = pd.DataFrame(y_encoded, columns=encoder.categories_[0])\n",
        "print(y_encoded_df.head())"
      ],
      "metadata": {
        "colab": {
          "base_uri": "https://localhost:8080/"
        },
        "id": "snU3WfQ_4QxS",
        "outputId": "e9751439-779f-4237-ad44-78d5d6279321"
      },
      "execution_count": null,
      "outputs": [
        {
          "output_type": "stream",
          "name": "stdout",
          "text": [
            "     0    1    2\n",
            "0  1.0  0.0  0.0\n",
            "1  1.0  0.0  0.0\n",
            "2  1.0  0.0  0.0\n",
            "3  1.0  0.0  0.0\n",
            "4  1.0  0.0  0.0\n"
          ]
        }
      ]
    },
    {
      "cell_type": "markdown",
      "source": [
        "This will convert the target variable (species) into three binary columns, one for each species (setosa, versicolor, virginica)."
      ],
      "metadata": {
        "id": "_3JEyfJH4VIs"
      }
    },
    {
      "cell_type": "markdown",
      "source": [
        "**5. Splitting the Dataset**\n",
        "\n",
        "Once the data is preprocessed, it’s time to split the dataset into training and test sets. This is a common step in machine learning to evaluate the performance of the model on unseen data."
      ],
      "metadata": {
        "id": "xIHdh9xm4XsK"
      }
    },
    {
      "cell_type": "code",
      "source": [
        "from sklearn.model_selection import train_test_split\n",
        "\n",
        "# Split data into training and testing sets (80% training, 20% testing)\n",
        "X_train, X_test, y_train, y_test = train_test_split(df[iris.feature_names], y, test_size=0.2, random_state=42)\n",
        "\n",
        "print(f\"Training set size: {X_train.shape[0]}\")\n",
        "print(f\"Test set size: {X_test.shape[0]}\")"
      ],
      "metadata": {
        "colab": {
          "base_uri": "https://localhost:8080/"
        },
        "id": "_GvVUutv4c0U",
        "outputId": "de7a4734-c17e-49d1-816b-19a953cdf380"
      },
      "execution_count": null,
      "outputs": [
        {
          "output_type": "stream",
          "name": "stdout",
          "text": [
            "Training set size: 120\n",
            "Test set size: 30\n"
          ]
        }
      ]
    },
    {
      "cell_type": "markdown",
      "source": [
        "*Here:*\n",
        "\n",
        "* X_train, X_test are the training and test features.\n",
        "* y_train, y_test are the corresponding target values."
      ],
      "metadata": {
        "id": "O1Vu_ONm4fTL"
      }
    },
    {
      "cell_type": "markdown",
      "source": [
        "**6. Feature Engineering (Optional)**\n",
        "\n",
        "Feature engineering is the process of creating new features or modifying existing ones to improve model performance. Some common techniques include:\n",
        "\n",
        "**Polynomial features:** Create higher-order features from existing ones.\n",
        "\n",
        "**Interaction features:** Create features that capture relationships between two or more variables.\n",
        "\n",
        "For example, creating a new feature based on an interaction between two existing features:"
      ],
      "metadata": {
        "id": "BQ4mZi7U4mPi"
      }
    },
    {
      "cell_type": "code",
      "source": [
        "# Create a new feature (interaction between sepal length and petal length)\n",
        "df['sepal_petal_interaction'] = df['sepal length (cm)'] * df['petal length (cm)']\n",
        "print(df[['sepal length (cm)', 'petal length (cm)', 'sepal_petal_interaction']].head())"
      ],
      "metadata": {
        "colab": {
          "base_uri": "https://localhost:8080/"
        },
        "id": "PBqpbUtD4wWq",
        "outputId": "c0d8859d-ab44-460d-f8cd-6c63419eeb2e"
      },
      "execution_count": null,
      "outputs": [
        {
          "output_type": "stream",
          "name": "stdout",
          "text": [
            "   sepal length (cm)  petal length (cm)  sepal_petal_interaction\n",
            "0                5.1                1.4                     7.14\n",
            "1                4.9                1.4                     6.86\n",
            "2                4.7                1.3                     6.11\n",
            "3                4.6                1.5                     6.90\n",
            "4                5.0                1.4                     7.00\n"
          ]
        }
      ]
    },
    {
      "cell_type": "markdown",
      "source": [
        "**7. Full Preprocessing Pipeline**\n",
        "\n",
        "Here’s a complete example that includes all of the steps we’ve discussed, from loading the data to splitting and scaling:"
      ],
      "metadata": {
        "id": "CwZR4pBk4zMs"
      }
    },
    {
      "cell_type": "code",
      "source": [
        "import numpy as np\n",
        "import pandas as pd\n",
        "from sklearn.datasets import load_iris\n",
        "from sklearn.model_selection import train_test_split\n",
        "from sklearn.preprocessing import StandardScaler, MinMaxScaler, OneHotEncoder\n",
        "from sklearn.impute import SimpleImputer\n",
        "\n",
        "# Load the Iris dataset\n",
        "iris = load_iris()\n",
        "X = iris.data  # Features\n",
        "y = iris.target  # Target labels\n",
        "\n",
        "# Convert to a DataFrame\n",
        "df = pd.DataFrame(X, columns=iris.feature_names)\n",
        "df['target'] = y\n",
        "\n",
        "# Handle missing data (introduce missing data for the example)\n",
        "df.iloc[5:10, 0] = np.nan\n",
        "imputer = SimpleImputer(strategy='mean')  # Fill missing values with the mean\n",
        "df[iris.feature_names] = imputer.fit_transform(df[iris.feature_names])\n",
        "\n",
        "# Feature scaling\n",
        "scaler = StandardScaler()\n",
        "df_scaled = scaler.fit_transform(df[iris.feature_names])\n",
        "\n",
        "# One-hot encode the target\n",
        "encoder = OneHotEncoder()\n",
        "y_encoded = encoder.fit_transform(y.reshape(-1, 1)).toarray()\n",
        "\n",
        "# Split the data\n",
        "X_train, X_test, y_train, y_test = train_test_split(df_scaled, y_encoded, test_size=0.2, random_state=42)\n",
        "\n",
        "print(f\"Training set size: {X_train.shape[0]}\")\n",
        "print(f\"Test set size: {X_test.shape[0]}\")"
      ],
      "metadata": {
        "colab": {
          "base_uri": "https://localhost:8080/"
        },
        "id": "6JfkDoUV43Hj",
        "outputId": "5dbea3d2-6ce8-4b71-ba59-862afc55f875"
      },
      "execution_count": null,
      "outputs": [
        {
          "output_type": "stream",
          "name": "stdout",
          "text": [
            "Training set size: 120\n",
            "Test set size: 30\n"
          ]
        }
      ]
    },
    {
      "cell_type": "markdown",
      "source": [
        "**8. Conclusion**\n",
        "\n",
        "In this lab, you have learned the essential techniques for preprocessing data for machine learning:\n",
        "\n",
        "1. Handling missing values (using imputation techniques).\n",
        "2. Scaling and normalizing features (using StandardScaler and MinMaxScaler).\n",
        "3. Encoding categorical variables (using OneHotEncoder).\n",
        "4. Splitting data into training and test sets.\n",
        "5. Feature engineering (e.g., interaction features).\n",
        "\n",
        "These preprocessing steps are essential for ensuring that the data is in the right format for machine learning models and that the models can learn effectively. By performing good data preprocessing, you can improve model performance and ensure better generalization on new, unseen data."
      ],
      "metadata": {
        "id": "_xO-a7zy46NT"
      }
    },
    {
      "cell_type": "markdown",
      "source": [
        "# Lab 9: Working with Real Datasets"
      ],
      "metadata": {
        "id": "wTTpZmh95Ufw"
      }
    },
    {
      "cell_type": "markdown",
      "source": [
        "\n",
        "**Objective:**\n",
        " The objective of this lab is to help you load and analyze a real-world dataset using Python. This will involve reading data from an external source (e.g., a CSV file), performing exploratory data analysis (EDA), cleaning the data if necessary, and applying some basic statistical analysis or visualizations."
      ],
      "metadata": {
        "id": "SXeVerTG5pZz"
      }
    },
    {
      "cell_type": "markdown",
      "source": [
        "**Step 1: Importing Necessary Libraries**\n",
        "\n",
        "Before starting the analysis, we need to import essential libraries. Some commonly used libraries include:"
      ],
      "metadata": {
        "id": "7xuLCySE6Bid"
      }
    },
    {
      "cell_type": "code",
      "source": [
        "import pandas as pd\n",
        "import numpy as np\n",
        "import matplotlib.pyplot as plt\n",
        "import seaborn as sns"
      ],
      "metadata": {
        "id": "8Aof0LtK6E5s"
      },
      "execution_count": null,
      "outputs": []
    },
    {
      "cell_type": "markdown",
      "source": [
        "**Step 2: Loading the Dataset**\n",
        "\n",
        "You can choose a dataset based on your field of interest. For example, you might load a CSV file that contains data on various topics such as health, finance, or marketing."
      ],
      "metadata": {
        "id": "yQrfghEn6K-r"
      }
    },
    {
      "cell_type": "code",
      "source": [
        "#  Note: Replace 'path/to/your/dataset.csv' with the actual path to your dataset.\n",
        "# Load the dataset (replace with your file path)\n",
        "data = pd.read_csv('path/to/your/dataset.csv')\n",
        "\n",
        "# Display the first few rows of the dataset to inspect it\n",
        "data.head()"
      ],
      "metadata": {
        "id": "Nw9NiDIW6ZPa"
      },
      "execution_count": null,
      "outputs": []
    },
    {
      "cell_type": "markdown",
      "source": [
        "**Step 3: Exploring the Data**\n",
        "\n",
        "Once you have the data, the first step is to explore it. You can get basic information using the following functions:\n",
        "\n",
        "* .head() — Displays the first 5 rows of the dataset.\n",
        "* .info() — Provides a summary of the data types and missing values.\n",
        "* .describe() — Provides basic statistics like mean, standard deviation, min, max, and percentiles."
      ],
      "metadata": {
        "id": "VB8rtTRh6b-L"
      }
    },
    {
      "cell_type": "code",
      "source": [
        "# Inspect the first few rows of the dataset\n",
        "data.head()\n",
        "\n",
        "# Get more information about the dataset\n",
        "data.info()\n",
        "\n",
        "# Get summary statistics for numeric columns\n",
        "data.describe()"
      ],
      "metadata": {
        "id": "IZmvmK816i3E"
      },
      "execution_count": null,
      "outputs": []
    },
    {
      "cell_type": "markdown",
      "source": [
        "**Step 4: Handling Missing Data**\n",
        "\n",
        "Missing data is a common issue in real-world datasets. There are several ways to handle missing data, including:\n",
        "\n",
        "* Removing rows with missing data using <code>dropna()</code>.\n",
        "* Filling missing values with the mean, median, or a custom value using <code>fillna()</code>.\n",
        "\n",
        "Example of removing rows with missing data:"
      ],
      "metadata": {
        "id": "bWiAyw546l6j"
      }
    },
    {
      "cell_type": "code",
      "source": [
        "# Drop rows with missing values\n",
        "data_cleaned = data.dropna()\n",
        "\n",
        "# Alternatively, fill missing values with a default value (e.g., the mean of a column)\n",
        "data['column_name'] = data['column_name'].fillna(data['column_name'].mean())"
      ],
      "metadata": {
        "id": "AvNZiVcx6xwT"
      },
      "execution_count": null,
      "outputs": []
    },
    {
      "cell_type": "markdown",
      "source": [
        "**Step 5: Data Cleaning and Transformation**\n",
        "\n",
        "Sometimes, data needs to be cleaned or transformed into a more usable format. This might include:\n",
        "\n",
        "* Converting data types italicized text (e.g., changing a string to a date).\n",
        "* Handling categorical variables (e.g., using one-hot encoding).\n",
        "* Normalizing or scaling numeric variables."
      ],
      "metadata": {
        "id": "VDcO54UI61Ub"
      }
    },
    {
      "cell_type": "code",
      "source": [
        "# Example\n",
        "# Converting a column to a datetime type\n",
        "data['date_column'] = pd.to_datetime(data['date_column'])\n",
        "\n",
        "# One-hot encoding categorical variables\n",
        "data_encoded = pd.get_dummies(data, columns=['categorical_column'])"
      ],
      "metadata": {
        "id": "o9g5EG437AfS"
      },
      "execution_count": null,
      "outputs": []
    },
    {
      "cell_type": "markdown",
      "source": [
        "**Step 6: Data Visualization**\n",
        "\n",
        "Visualization is key to understanding the structure and relationships within the dataset. Some useful plots include:\n",
        "\n",
        "* Histograms for the distribution of data.\n",
        "* Box plots for detecting outliers.\n",
        "* Scatter plots for relationships between two variables.\n",
        "* Heatmaps for correlations.\n",
        "\n",
        "Example of a histogram:"
      ],
      "metadata": {
        "id": "mOAlSlZE7Fpj"
      }
    },
    {
      "cell_type": "code",
      "source": [
        "# Plot histogram for a specific column\n",
        "data['column_name'].hist(bins=20, edgecolor='black')\n",
        "plt.title('Histogram of Column Name')\n",
        "plt.xlabel('Value')\n",
        "plt.ylabel('Frequency')\n",
        "plt.show()"
      ],
      "metadata": {
        "id": "2za4QeRV7NB6"
      },
      "execution_count": null,
      "outputs": []
    },
    {
      "cell_type": "code",
      "source": [
        "# Scatter plot between two variables\n",
        "sns.scatterplot(x='column1', y='column2', data=data)\n",
        "plt.title('Scatter Plot between Column1 and Column2')\n",
        "plt.show()\n"
      ],
      "metadata": {
        "id": "Ia1pNbv87Qbj"
      },
      "execution_count": null,
      "outputs": []
    },
    {
      "cell_type": "markdown",
      "source": [
        "**Step 7: Correlation Analysis**\n",
        "\n",
        "Understanding correlations between variables is an important part of data analysis. You can create a heatmap to visualize correlations."
      ],
      "metadata": {
        "id": "LFy0Ss2e7Sxb"
      }
    },
    {
      "cell_type": "code",
      "source": [
        "# Compute the correlation matrix\n",
        "corr_matrix = data.corr()\n",
        "\n",
        "# Create a heatmap to visualize correlations\n",
        "plt.figure(figsize=(10, 8))\n",
        "sns.heatmap(corr_matrix, annot=True, cmap='coolwarm', fmt='.2f')\n",
        "plt.title('Correlation Heatmap')\n",
        "plt.show()"
      ],
      "metadata": {
        "id": "rYXT2uS97Vha"
      },
      "execution_count": null,
      "outputs": []
    },
    {
      "cell_type": "markdown",
      "source": [
        "**Step 8: Statistical Analysis**\n",
        "\n",
        "Once you've cleaned and visualized your data, you can perform basic statistical analysis to answer specific questions.\n",
        "\n",
        "For example, you can use a t-test to compare the means of two groups:"
      ],
      "metadata": {
        "id": "z7FAIIl47YN7"
      }
    },
    {
      "cell_type": "code",
      "source": [
        "from scipy import stats\n",
        "\n",
        "# Assume you want to test if the means of two groups are significantly different\n",
        "group1 = data[data['group_column'] == 'Group1']['value_column']\n",
        "group2 = data[data['group_column'] == 'Group2']['value_column']\n",
        "\n",
        "# Perform t-test\n",
        "t_stat, p_value = stats.ttest_ind(group1, group2)\n",
        "\n",
        "print(f'T-statistic: {t_stat}')\n",
        "print(f'P-value: {p_value}')"
      ],
      "metadata": {
        "id": "d3q37p7_7ayj"
      },
      "execution_count": null,
      "outputs": []
    },
    {
      "cell_type": "markdown",
      "source": [
        "If the p-value is small (e.g., < 0.05), it suggests that there is a statistically significant difference between the two groups.\n",
        "\n",
        "\n",
        "**Step 9: Conclusion**\n",
        "\n",
        "*Summarize your findings:*\n",
        "\n",
        "1. What patterns did you observe in the data?\n",
        "2. Did any unexpected trends or outliers appear?\n",
        "3. What are the implications of your analysis?"
      ],
      "metadata": {
        "id": "0tqvXUt37eB7"
      }
    },
    {
      "cell_type": "markdown",
      "source": [
        "**Example Workflow**\n",
        "Here’s an example workflow using the Iris dataset (a popular dataset for classification tasks):"
      ],
      "metadata": {
        "id": "l6QwX5ov7vDr"
      }
    },
    {
      "cell_type": "code",
      "source": [
        "# Load the dataset\n",
        "data = sns.load_dataset('iris')\n",
        "\n",
        "# Display the first few rows\n",
        "print(data.head())\n",
        "\n",
        "# Statistical summary\n",
        "print(data.describe())\n",
        "\n",
        "# Visualize the distribution of species\n",
        "sns.histplot(data['species'], kde=False)\n",
        "plt.title('Distribution of Iris Species')\n",
        "plt.show()\n",
        "\n",
        "# Create a scatter plot\n",
        "sns.scatterplot(x='sepal_length', y='sepal_width', hue='species', data=data)\n",
        "plt.title('Sepal Length vs. Sepal Width')\n",
        "plt.show()\n",
        "\n",
        "# Correlation heatmap\n",
        "corr_matrix = data.corr()\n",
        "sns.heatmap(corr_matrix, annot=True, cmap='coolwarm', fmt='.2f')\n",
        "plt.title('Correlation Heatmap')\n",
        "plt.show()"
      ],
      "metadata": {
        "id": "QNx_nVNc79za"
      },
      "execution_count": null,
      "outputs": []
    }
  ]
}